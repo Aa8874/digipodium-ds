{
 "cells": [
  {
   "cell_type": "markdown",
   "metadata": {},
   "source": []
  },
  {
   "cell_type": "code",
   "execution_count": 2,
   "metadata": {},
   "outputs": [
    {
     "data": {
      "text/plain": [
       "True"
      ]
     },
     "execution_count": 2,
     "metadata": {},
     "output_type": "execute_result"
    }
   ],
   "source": [
    "x = \"5\"\n",
    "y = 5\n",
    "int(x )== y "
   ]
  },
  {
   "cell_type": "code",
   "execution_count": 6,
   "metadata": {},
   "outputs": [
    {
     "name": "stdout",
     "output_type": "stream",
     "text": [
      "we have len(fruit) fruits\n"
     ]
    }
   ],
   "source": [
    "fruits = ['banana'  , 'apple' , 'pear' ]\n",
    "if fruits:\n",
    "    print(f\"we have len(fruit) fruits\")\n"
   ]
  },
  {
   "cell_type": "code",
   "execution_count": 8,
   "metadata": {},
   "outputs": [],
   "source": [
    "fruitstring = \"banana , pear , apple\"\n",
    "fruitlist = fruitstring.split(',')"
   ]
  },
  {
   "cell_type": "code",
   "execution_count": 9,
   "metadata": {},
   "outputs": [
    {
     "data": {
      "text/plain": [
       "['banana ', ' pear ', ' apple']"
      ]
     },
     "execution_count": 9,
     "metadata": {},
     "output_type": "execute_result"
    }
   ],
   "source": [
    "fruitlist"
   ]
  },
  {
   "cell_type": "code",
   "execution_count": 10,
   "metadata": {},
   "outputs": [
    {
     "name": "stdout",
     "output_type": "stream",
     "text": [
      "['a', 'computer', 'would', 'deserve', 'to', 'be', 'called', 'intellingent', 'if', 'it', 'could', 'deceive', 'a', 'human', 'into', 'believing', 'that', 'it', 'was', 'human']\n"
     ]
    }
   ],
   "source": [
    "quotestring  = \"a computer would deserve to be called intellingent if it could deceive a human into believing that it was human\"\n",
    "quotelist = quotestring.split(' ')\n",
    "print(quotelist)"
   ]
  },
  {
   "cell_type": "code",
   "execution_count": 12,
   "metadata": {},
   "outputs": [
    {
     "name": "stdout",
     "output_type": "stream",
     "text": [
      "True\n"
     ]
    }
   ],
   "source": [
    "numberoftwoletterword = 0\n",
    "for word in quotelist:\n",
    "    if len(word) == 2:\n",
    "        numberoftwoletterword += 1\n",
    "print(numberoftwoletterword == 5)\n"
   ]
  },
  {
   "cell_type": "code",
   "execution_count": 16,
   "metadata": {},
   "outputs": [
    {
     "name": "stdout",
     "output_type": "stream",
     "text": [
      "banana , pear , apple\n"
     ]
    }
   ],
   "source": [
    "fruitlist = ['banana' , 'pear' , 'apple']\n",
    "delimiter = \" , \"\n",
    "fruitlist = delimiter.join(fruitlist)\n",
    "print(fruitlist)\n"
   ]
  },
  {
   "cell_type": "code",
   "execution_count": 18,
   "metadata": {},
   "outputs": [
    {
     "name": "stdout",
     "output_type": "stream",
     "text": [
      "security found at position 32\n"
     ]
    }
   ],
   "source": [
    "text = \"we spend our time searching for security and hate it when we get it\"\n",
    "found = text.find('security')\n",
    "\n",
    "if found == -1:\n",
    "    print('no security found')\n",
    "else:\n",
    "    print(\"security found at position \" + str(found))"
   ]
  },
  {
   "cell_type": "code",
   "execution_count": 21,
   "metadata": {},
   "outputs": [
    {
     "name": "stdout",
     "output_type": "stream",
     "text": [
      "rsrch hs shwn tht t s ftn stll pssbl t ndrstnd txt vn f ll vwls r rmvd\n"
     ]
    }
   ],
   "source": [
    "text = \"research has shown that it is often still possible to understand text even if all vowels are removed\"\n",
    "for vowel in (\"a\" , \"e\" , \"i\" , \"o\" , \"u\"):\n",
    "    text = text.replace(vowel , \"\")\n",
    "print(text)"
   ]
  },
  {
   "cell_type": "code",
   "execution_count": null,
   "metadata": {},
   "outputs": [],
   "source": []
  }
 ],
 "metadata": {
  "kernelspec": {
   "display_name": "base",
   "language": "python",
   "name": "python3"
  },
  "language_info": {
   "codemirror_mode": {
    "name": "ipython",
    "version": 3
   },
   "file_extension": ".py",
   "mimetype": "text/x-python",
   "name": "python",
   "nbconvert_exporter": "python",
   "pygments_lexer": "ipython3",
   "version": "3.10.10"
  },
  "orig_nbformat": 4
 },
 "nbformat": 4,
 "nbformat_minor": 2
}
