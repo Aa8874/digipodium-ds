{
 "cells": [
  {
   "cell_type": "markdown",
   "metadata": {},
   "source": [
    "## data structure \n"
   ]
  },
  {
   "cell_type": "markdown",
   "metadata": {},
   "source": [
    "-list 🤩\n",
    " -indexed , ordered , mutable ,'[ ]\n",
    " tuple\n",
    " - -indexed , ordered , *immutable* , ()\n",
    " set\n",
    " - unindexed , unordered , mutable , *no-duplicates** '{}'\n",
    " dictionary 🤩\n",
    " - **unindexed , ordered, key value pairs, mutable, { }"
   ]
  },
  {
   "cell_type": "code",
   "execution_count": 3,
   "metadata": {},
   "outputs": [
    {
     "name": "stdout",
     "output_type": "stream",
     "text": [
      "[1, 1, 1, 1, 1]\n"
     ]
    }
   ],
   "source": [
    "x = [] # empty list\n",
    "y = [1 , 2 , 3 , 5 , 6]\n",
    "z = ['Re4' , 'leon' , 'Ashley']\n",
    "grocery = ['milk' , 55 , 'bread' , 20 , 'butter' , 49]\n",
    "a = [1] * 5\n",
    "print(a)\n"
   ]
  },
  {
   "cell_type": "code",
   "execution_count": 2,
   "metadata": {},
   "outputs": [
    {
     "data": {
      "text/plain": [
       "[10, '40']"
      ]
     },
     "execution_count": 2,
     "metadata": {},
     "output_type": "execute_result"
    }
   ],
   "source": [
    "a\n",
    "x.append(10)\n",
    "x.append(input('enter a no: '))\n",
    "x"
   ]
  },
  {
   "cell_type": "code",
   "execution_count": 68,
   "metadata": {},
   "outputs": [
    {
     "name": "stdout",
     "output_type": "stream",
     "text": [
      "[10, '20', 30, 40, 50]\n"
     ]
    }
   ],
   "source": [
    "for i in range(3):\n",
    "    val = int(input('enter a no: '))\n",
    "    x.append(val)\n",
    "print(x)"
   ]
  },
  {
   "cell_type": "markdown",
   "metadata": {},
   "source": []
  },
  {
   "cell_type": "code",
   "execution_count": null,
   "metadata": {},
   "outputs": [],
   "source": [
    "del info # delete the variable info from memory"
   ]
  },
  {
   "cell_type": "code",
   "execution_count": 69,
   "metadata": {},
   "outputs": [
    {
     "name": "stdout",
     "output_type": "stream",
     "text": [
      "10 50 20\n",
      "[10, '20']\n",
      "[30, 40, 50]\n",
      "[50, 40, 30, '20', 10]\n"
     ]
    }
   ],
   "source": [
    "print(x[0] , x[-1] , x[1])\n",
    "print(x[:2])# slice first two element\n",
    "print(x[-3:]) # slice last three element\n",
    "print(x[::-1]) # reverse the list|"
   ]
  },
  {
   "cell_type": "code",
   "execution_count": 75,
   "metadata": {},
   "outputs": [
    {
     "name": "stdout",
     "output_type": "stream",
     "text": [
      "10 20 30 40 50 "
     ]
    }
   ],
   "source": [
    "for i in x:\n",
    "    print(i , end= ' ')"
   ]
  },
  {
   "cell_type": "markdown",
   "metadata": {},
   "source": [
    "- list function\n",
    " -adding\n",
    "  - append() - add single item to the end\n",
    "  - inserta() - add single item  at given index\n",
    "    -extend() - merge an list to an existing list\n",
    "remove\n",
    " -remove() - remove single item by value\n",
    "  _ pop() - remove single item by index\n",
    "  -clear() - remove all items\n",
    "utility\n",
    "- index() - find index of item by value\n",
    "- count() - count repeated item\n",
    "- sort() - sort items\n",
    "- reverse() - reverse item\n",
    "- copy() - copy list\n",
    "  "
   ]
  },
  {
   "cell_type": "code",
   "execution_count": 3,
   "metadata": {},
   "outputs": [
    {
     "data": {
      "text/plain": [
       "['harry poter', 'psychology of money', 'well of Ascension']"
      ]
     },
     "execution_count": 3,
     "metadata": {},
     "output_type": "execute_result"
    }
   ],
   "source": [
    "books = []# books list empty\n",
    "books.append('harry poter')\n",
    "books.append('psychology of money')\n",
    "books.append('well of Ascension')\n",
    "books\n"
   ]
  },
  {
   "cell_type": "code",
   "execution_count": 4,
   "metadata": {},
   "outputs": [
    {
     "data": {
      "text/plain": [
       "['harry poter',\n",
       " 'harry poter and the goblet the fire',\n",
       " 'psychology of money',\n",
       " 'well of Ascension']"
      ]
     },
     "execution_count": 4,
     "metadata": {},
     "output_type": "execute_result"
    }
   ],
   "source": [
    "books.insert(1, 'harry poter and the goblet the fire')\n",
    "books"
   ]
  },
  {
   "cell_type": "code",
   "execution_count": 5,
   "metadata": {},
   "outputs": [
    {
     "data": {
      "text/plain": [
       "['harry poter',\n",
       " 'harry poter and the goblet the fire',\n",
       " 'the hero of ages',\n",
       " 'well of Ascension']"
      ]
     },
     "execution_count": 5,
     "metadata": {},
     "output_type": "execute_result"
    }
   ],
   "source": [
    "books[2] = 'the hero of ages' # replace\n",
    "books"
   ]
  },
  {
   "cell_type": "code",
   "execution_count": 6,
   "metadata": {},
   "outputs": [],
   "source": [
    "old_books = ['A song of fire and Ice' , 'umbrella' , 'the jungle books' , 'price and prejudice']\n",
    "books.extend(old_books)"
   ]
  },
  {
   "cell_type": "code",
   "execution_count": 7,
   "metadata": {},
   "outputs": [
    {
     "data": {
      "text/plain": [
       "['harry poter',\n",
       " 'harry poter and the goblet the fire',\n",
       " 'the hero of ages',\n",
       " 'well of Ascension',\n",
       " 'A song of fire and Ice',\n",
       " 'umbrella',\n",
       " 'the jungle books',\n",
       " 'price and prejudice']"
      ]
     },
     "execution_count": 7,
     "metadata": {},
     "output_type": "execute_result"
    }
   ],
   "source": [
    "books"
   ]
  },
  {
   "cell_type": "code",
   "execution_count": 9,
   "metadata": {},
   "outputs": [
    {
     "data": {
      "text/plain": [
       "['harry poter',\n",
       " 'harry poter and the goblet the fire',\n",
       " 'the hero of ages',\n",
       " 'well of Ascension',\n",
       " 'umbrella',\n",
       " 'the jungle books',\n",
       " 'price and prejudice']"
      ]
     },
     "execution_count": 9,
     "metadata": {},
     "output_type": "execute_result"
    }
   ],
   "source": [
    "if'the jungle book' in books:\n",
    " books.remove('the jungle book') # removes only the first occurance\n",
    "books"
   ]
  },
  {
   "cell_type": "code",
   "execution_count": 8,
   "metadata": {},
   "outputs": [
    {
     "data": {
      "text/plain": [
       "'A song of fire and Ice'"
      ]
     },
     "execution_count": 8,
     "metadata": {},
     "output_type": "execute_result"
    }
   ],
   "source": [
    "books.pop(4)"
   ]
  },
  {
   "cell_type": "code",
   "execution_count": 10,
   "metadata": {},
   "outputs": [
    {
     "data": {
      "text/plain": [
       "'price and prejudice'"
      ]
     },
     "execution_count": 10,
     "metadata": {},
     "output_type": "execute_result"
    }
   ],
   "source": [
    "books.pop() # remove the last item/element"
   ]
  },
  {
   "cell_type": "code",
   "execution_count": 11,
   "metadata": {},
   "outputs": [
    {
     "data": {
      "text/plain": [
       "[]"
      ]
     },
     "execution_count": 11,
     "metadata": {},
     "output_type": "execute_result"
    }
   ],
   "source": [
    "books.clear()\n",
    "books"
   ]
  },
  {
   "cell_type": "code",
   "execution_count": 13,
   "metadata": {},
   "outputs": [
    {
     "data": {
      "text/plain": [
       "['The Shawshank Redemption',\n",
       " 'The Godfather',\n",
       " 'The Dark Knight',\n",
       " 'Pulp Fiction',\n",
       " 'Fight Club',\n",
       " 'Inception',\n",
       " 'Forrest Gump',\n",
       " 'The Matrix',\n",
       " 'Goodfellas',\n",
       " 'The Lord of the Rings: The Fellowship of the Ring',\n",
       " 'Star Wars: Episode V - The Empire Strikes Back',\n",
       " 'The Avengers',\n",
       " 'The Silence of the Lambs',\n",
       " \"Schindler's List\",\n",
       " 'The Departed',\n",
       " 'Interstellar',\n",
       " 'The Prestige',\n",
       " 'The Lion King',\n",
       " 'Gladiator',\n",
       " 'Braveheart',\n",
       " 'Titanic',\n",
       " 'The Social Network',\n",
       " 'The Usual Suspects',\n",
       " 'The Terminator',\n",
       " 'The Princess Bride',\n",
       " 'Casablanca',\n",
       " 'The Wizard of Oz',\n",
       " 'Jaws',\n",
       " 'Back to the Future',\n",
       " 'E.T. the Extra-Terrestrial',\n",
       " 'The Shawshank Redemption',\n",
       " 'The Godfather: Part II',\n",
       " 'The Dark Knight Rises',\n",
       " 'The Good, the Bad and the Ugly',\n",
       " 'Django Unchained',\n",
       " 'Seven',\n",
       " 'The Green Mile',\n",
       " 'The Departed',\n",
       " 'The Shining',\n",
       " 'The Silence of the Lambs',\n",
       " 'Saving Private Ryan',\n",
       " 'The Pianist',\n",
       " \"Schindler's List\",\n",
       " 'The Revenant',\n",
       " 'The Grand Budapest Hotel',\n",
       " 'Whiplash',\n",
       " 'La La Land',\n",
       " 'Birdman',\n",
       " 'The Shape of Water',\n",
       " 'Titanic',\n",
       " 'The Social Network',\n",
       " 'Inception',\n",
       " 'The Matrix',\n",
       " 'Blade Runner',\n",
       " 'The Fifth Element',\n",
       " 'Star Wars: Episode IV - A New Hope',\n",
       " 'The Empire Strikes Back',\n",
       " 'The Return of the King',\n",
       " 'The Two Towers',\n",
       " 'The Fellowship of the Ring',\n",
       " 'The Force Awakens',\n",
       " 'The Last Jedi',\n",
       " 'The Rise of Skywalker',\n",
       " 'Raiders of the Lost Ark',\n",
       " 'Indiana Jones and the Last Crusade',\n",
       " 'Jurassic Park',\n",
       " 'The Lost World: Jurassic Park',\n",
       " 'Avengers: Endgame',\n",
       " 'Avengers: Infinity War',\n",
       " 'Iron Man',\n",
       " 'Captain America: The Winter Soldier',\n",
       " 'Guardians of the Galaxy',\n",
       " 'Deadpool',\n",
       " 'Logan',\n",
       " 'Spider-Man: Homecoming',\n",
       " 'The Incredible Hulk',\n",
       " 'Black Panther',\n",
       " 'Wonder Woman',\n",
       " 'Joker',\n",
       " 'Toy Story',\n",
       " 'Finding Nemo',\n",
       " 'Up',\n",
       " 'WALL-E',\n",
       " 'Ratatouille',\n",
       " 'Inside Out',\n",
       " 'Coco',\n",
       " 'Zootopia',\n",
       " 'Moana',\n",
       " 'The Lion King (2019)',\n",
       " 'Aladdin (2019)',\n",
       " 'Beauty and the Beast (2017)',\n",
       " 'Mulan (2020)',\n",
       " 'Snow White and the Seven Dwarfs',\n",
       " 'Cinderella',\n",
       " 'Sleeping Beauty',\n",
       " 'The Little Mermaid',\n",
       " 'Beauty and the Beast',\n",
       " 'Aladdin',\n",
       " 'The Jungle Book',\n",
       " 'The Lion King (1994)',\n",
       " 'Please note that this is just a small selection of movies and there are many other great films out there.']"
      ]
     },
     "execution_count": 13,
     "metadata": {},
     "output_type": "execute_result"
    }
   ],
   "source": [
    "kachra = '''The Shawshank Redemption\n",
    "The Godfather\n",
    "The Dark Knight\n",
    "Pulp Fiction\n",
    "Fight Club\n",
    "Inception\n",
    "Forrest Gump\n",
    "The Matrix\n",
    "Goodfellas\n",
    "The Lord of the Rings: The Fellowship of the Ring\n",
    "Star Wars: Episode V - The Empire Strikes Back\n",
    "The Avengers\n",
    "The Silence of the Lambs\n",
    "Schindler's List\n",
    "The Departed\n",
    "Interstellar\n",
    "The Prestige\n",
    "The Lion King\n",
    "Gladiator\n",
    "Braveheart\n",
    "Titanic\n",
    "The Social Network\n",
    "The Usual Suspects\n",
    "The Terminator\n",
    "The Princess Bride\n",
    "Casablanca\n",
    "The Wizard of Oz\n",
    "Jaws\n",
    "Back to the Future\n",
    "E.T. the Extra-Terrestrial\n",
    "The Shawshank Redemption\n",
    "The Godfather: Part II\n",
    "The Dark Knight Rises\n",
    "The Good, the Bad and the Ugly\n",
    "Django Unchained\n",
    "Seven\n",
    "The Green Mile\n",
    "The Departed\n",
    "The Shining\n",
    "The Silence of the Lambs\n",
    "Saving Private Ryan\n",
    "The Pianist\n",
    "Schindler's List\n",
    "The Revenant\n",
    "The Grand Budapest Hotel\n",
    "Whiplash\n",
    "La La Land\n",
    "Birdman\n",
    "The Shape of Water\n",
    "Titanic\n",
    "The Social Network\n",
    "Inception\n",
    "The Matrix\n",
    "Blade Runner\n",
    "The Fifth Element\n",
    "Star Wars: Episode IV - A New Hope\n",
    "The Empire Strikes Back\n",
    "The Return of the King\n",
    "The Two Towers\n",
    "The Fellowship of the Ring\n",
    "The Force Awakens\n",
    "The Last Jedi\n",
    "The Rise of Skywalker\n",
    "Raiders of the Lost Ark\n",
    "Indiana Jones and the Last Crusade\n",
    "Jurassic Park\n",
    "The Lost World: Jurassic Park\n",
    "Avengers: Endgame\n",
    "Avengers: Infinity War\n",
    "Iron Man\n",
    "Captain America: The Winter Soldier\n",
    "Guardians of the Galaxy\n",
    "Deadpool\n",
    "Logan\n",
    "Spider-Man: Homecoming\n",
    "The Incredible Hulk\n",
    "Black Panther\n",
    "Wonder Woman\n",
    "Joker\n",
    "Toy Story\n",
    "Finding Nemo\n",
    "Up\n",
    "WALL-E\n",
    "Ratatouille\n",
    "Inside Out\n",
    "Coco\n",
    "Zootopia\n",
    "Moana\n",
    "The Lion King (2019)\n",
    "Aladdin (2019)\n",
    "Beauty and the Beast (2017)\n",
    "Mulan (2020)\n",
    "Snow White and the Seven Dwarfs\n",
    "Cinderella\n",
    "Sleeping Beauty\n",
    "The Little Mermaid\n",
    "Beauty and the Beast\n",
    "Aladdin\n",
    "The Jungle Book\n",
    "The Lion King (1994)\n",
    "Please note that this is just a small selection of movies and there are many other great films out there.\n",
    "'''\n",
    "movies = kachra.splitlines()\n",
    "movies"
   ]
  },
  {
   "cell_type": "code",
   "execution_count": 14,
   "metadata": {},
   "outputs": [
    {
     "data": {
      "text/plain": [
       "['Please note that this is just a small selection of movies and there are many other great films out there.',\n",
       " 'The Lion King (1994)',\n",
       " 'The Jungle Book',\n",
       " 'Aladdin',\n",
       " 'Beauty and the Beast',\n",
       " 'The Little Mermaid',\n",
       " 'Sleeping Beauty',\n",
       " 'Cinderella',\n",
       " 'Snow White and the Seven Dwarfs',\n",
       " 'Mulan (2020)',\n",
       " 'Beauty and the Beast (2017)',\n",
       " 'Aladdin (2019)',\n",
       " 'The Lion King (2019)',\n",
       " 'Moana',\n",
       " 'Zootopia',\n",
       " 'Coco',\n",
       " 'Inside Out',\n",
       " 'Ratatouille',\n",
       " 'WALL-E',\n",
       " 'Up',\n",
       " 'Finding Nemo',\n",
       " 'Toy Story',\n",
       " 'Joker',\n",
       " 'Wonder Woman',\n",
       " 'Black Panther',\n",
       " 'The Incredible Hulk',\n",
       " 'Spider-Man: Homecoming',\n",
       " 'Logan',\n",
       " 'Deadpool',\n",
       " 'Guardians of the Galaxy',\n",
       " 'Captain America: The Winter Soldier',\n",
       " 'Iron Man',\n",
       " 'Avengers: Infinity War',\n",
       " 'Avengers: Endgame',\n",
       " 'The Lost World: Jurassic Park',\n",
       " 'Jurassic Park',\n",
       " 'Indiana Jones and the Last Crusade',\n",
       " 'Raiders of the Lost Ark',\n",
       " 'The Rise of Skywalker',\n",
       " 'The Last Jedi',\n",
       " 'The Force Awakens',\n",
       " 'The Fellowship of the Ring',\n",
       " 'The Two Towers',\n",
       " 'The Return of the King',\n",
       " 'The Empire Strikes Back',\n",
       " 'Star Wars: Episode IV - A New Hope',\n",
       " 'The Fifth Element',\n",
       " 'Blade Runner',\n",
       " 'The Matrix',\n",
       " 'Inception',\n",
       " 'The Social Network',\n",
       " 'Titanic',\n",
       " 'The Shape of Water',\n",
       " 'Birdman',\n",
       " 'La La Land',\n",
       " 'Whiplash',\n",
       " 'The Grand Budapest Hotel',\n",
       " 'The Revenant',\n",
       " \"Schindler's List\",\n",
       " 'The Pianist',\n",
       " 'Saving Private Ryan',\n",
       " 'The Silence of the Lambs',\n",
       " 'The Shining',\n",
       " 'The Departed',\n",
       " 'The Green Mile',\n",
       " 'Seven',\n",
       " 'Django Unchained',\n",
       " 'The Good, the Bad and the Ugly',\n",
       " 'The Dark Knight Rises',\n",
       " 'The Godfather: Part II',\n",
       " 'The Shawshank Redemption',\n",
       " 'E.T. the Extra-Terrestrial',\n",
       " 'Back to the Future',\n",
       " 'Jaws',\n",
       " 'The Wizard of Oz',\n",
       " 'Casablanca',\n",
       " 'The Princess Bride',\n",
       " 'The Terminator',\n",
       " 'The Usual Suspects',\n",
       " 'The Social Network',\n",
       " 'Titanic',\n",
       " 'Braveheart',\n",
       " 'Gladiator',\n",
       " 'The Lion King',\n",
       " 'The Prestige',\n",
       " 'Interstellar',\n",
       " 'The Departed',\n",
       " \"Schindler's List\",\n",
       " 'The Silence of the Lambs',\n",
       " 'The Avengers',\n",
       " 'Star Wars: Episode V - The Empire Strikes Back',\n",
       " 'The Lord of the Rings: The Fellowship of the Ring',\n",
       " 'Goodfellas',\n",
       " 'The Matrix',\n",
       " 'Forrest Gump',\n",
       " 'Inception',\n",
       " 'Fight Club',\n",
       " 'Pulp Fiction',\n",
       " 'The Dark Knight',\n",
       " 'The Godfather',\n",
       " 'The Shawshank Redemption']"
      ]
     },
     "execution_count": 14,
     "metadata": {},
     "output_type": "execute_result"
    }
   ],
   "source": [
    "movies.reverse()\n",
    "movies"
   ]
  },
  {
   "cell_type": "code",
   "execution_count": 15,
   "metadata": {},
   "outputs": [
    {
     "data": {
      "text/plain": [
       "['Aladdin',\n",
       " 'Aladdin (2019)',\n",
       " 'Avengers: Endgame',\n",
       " 'Avengers: Infinity War',\n",
       " 'Back to the Future',\n",
       " 'Beauty and the Beast',\n",
       " 'Beauty and the Beast (2017)',\n",
       " 'Birdman',\n",
       " 'Black Panther',\n",
       " 'Blade Runner',\n",
       " 'Braveheart',\n",
       " 'Captain America: The Winter Soldier',\n",
       " 'Casablanca',\n",
       " 'Cinderella',\n",
       " 'Coco',\n",
       " 'Deadpool',\n",
       " 'Django Unchained',\n",
       " 'E.T. the Extra-Terrestrial',\n",
       " 'Fight Club',\n",
       " 'Finding Nemo',\n",
       " 'Forrest Gump',\n",
       " 'Gladiator',\n",
       " 'Goodfellas',\n",
       " 'Guardians of the Galaxy',\n",
       " 'Inception',\n",
       " 'Inception',\n",
       " 'Indiana Jones and the Last Crusade',\n",
       " 'Inside Out',\n",
       " 'Interstellar',\n",
       " 'Iron Man',\n",
       " 'Jaws',\n",
       " 'Joker',\n",
       " 'Jurassic Park',\n",
       " 'La La Land',\n",
       " 'Logan',\n",
       " 'Moana',\n",
       " 'Mulan (2020)',\n",
       " 'Please note that this is just a small selection of movies and there are many other great films out there.',\n",
       " 'Pulp Fiction',\n",
       " 'Raiders of the Lost Ark',\n",
       " 'Ratatouille',\n",
       " 'Saving Private Ryan',\n",
       " \"Schindler's List\",\n",
       " \"Schindler's List\",\n",
       " 'Seven',\n",
       " 'Sleeping Beauty',\n",
       " 'Snow White and the Seven Dwarfs',\n",
       " 'Spider-Man: Homecoming',\n",
       " 'Star Wars: Episode IV - A New Hope',\n",
       " 'Star Wars: Episode V - The Empire Strikes Back',\n",
       " 'The Avengers',\n",
       " 'The Dark Knight',\n",
       " 'The Dark Knight Rises',\n",
       " 'The Departed',\n",
       " 'The Departed',\n",
       " 'The Empire Strikes Back',\n",
       " 'The Fellowship of the Ring',\n",
       " 'The Fifth Element',\n",
       " 'The Force Awakens',\n",
       " 'The Godfather',\n",
       " 'The Godfather: Part II',\n",
       " 'The Good, the Bad and the Ugly',\n",
       " 'The Grand Budapest Hotel',\n",
       " 'The Green Mile',\n",
       " 'The Incredible Hulk',\n",
       " 'The Jungle Book',\n",
       " 'The Last Jedi',\n",
       " 'The Lion King',\n",
       " 'The Lion King (1994)',\n",
       " 'The Lion King (2019)',\n",
       " 'The Little Mermaid',\n",
       " 'The Lord of the Rings: The Fellowship of the Ring',\n",
       " 'The Lost World: Jurassic Park',\n",
       " 'The Matrix',\n",
       " 'The Matrix',\n",
       " 'The Pianist',\n",
       " 'The Prestige',\n",
       " 'The Princess Bride',\n",
       " 'The Return of the King',\n",
       " 'The Revenant',\n",
       " 'The Rise of Skywalker',\n",
       " 'The Shape of Water',\n",
       " 'The Shawshank Redemption',\n",
       " 'The Shawshank Redemption',\n",
       " 'The Shining',\n",
       " 'The Silence of the Lambs',\n",
       " 'The Silence of the Lambs',\n",
       " 'The Social Network',\n",
       " 'The Social Network',\n",
       " 'The Terminator',\n",
       " 'The Two Towers',\n",
       " 'The Usual Suspects',\n",
       " 'The Wizard of Oz',\n",
       " 'Titanic',\n",
       " 'Titanic',\n",
       " 'Toy Story',\n",
       " 'Up',\n",
       " 'WALL-E',\n",
       " 'Whiplash',\n",
       " 'Wonder Woman',\n",
       " 'Zootopia']"
      ]
     },
     "execution_count": 15,
     "metadata": {},
     "output_type": "execute_result"
    }
   ],
   "source": [
    "movies.sort()\n",
    "movies"
   ]
  },
  {
   "cell_type": "code",
   "execution_count": 16,
   "metadata": {},
   "outputs": [
    {
     "data": {
      "text/plain": [
       "['Zootopia',\n",
       " 'Wonder Woman',\n",
       " 'Whiplash',\n",
       " 'WALL-E',\n",
       " 'Up',\n",
       " 'Toy Story',\n",
       " 'Titanic',\n",
       " 'Titanic',\n",
       " 'The Wizard of Oz',\n",
       " 'The Usual Suspects',\n",
       " 'The Two Towers',\n",
       " 'The Terminator',\n",
       " 'The Social Network',\n",
       " 'The Social Network',\n",
       " 'The Silence of the Lambs',\n",
       " 'The Silence of the Lambs',\n",
       " 'The Shining',\n",
       " 'The Shawshank Redemption',\n",
       " 'The Shawshank Redemption',\n",
       " 'The Shape of Water',\n",
       " 'The Rise of Skywalker',\n",
       " 'The Revenant',\n",
       " 'The Return of the King',\n",
       " 'The Princess Bride',\n",
       " 'The Prestige',\n",
       " 'The Pianist',\n",
       " 'The Matrix',\n",
       " 'The Matrix',\n",
       " 'The Lost World: Jurassic Park',\n",
       " 'The Lord of the Rings: The Fellowship of the Ring',\n",
       " 'The Little Mermaid',\n",
       " 'The Lion King (2019)',\n",
       " 'The Lion King (1994)',\n",
       " 'The Lion King',\n",
       " 'The Last Jedi',\n",
       " 'The Jungle Book',\n",
       " 'The Incredible Hulk',\n",
       " 'The Green Mile',\n",
       " 'The Grand Budapest Hotel',\n",
       " 'The Good, the Bad and the Ugly',\n",
       " 'The Godfather: Part II',\n",
       " 'The Godfather',\n",
       " 'The Force Awakens',\n",
       " 'The Fifth Element',\n",
       " 'The Fellowship of the Ring',\n",
       " 'The Empire Strikes Back',\n",
       " 'The Departed',\n",
       " 'The Departed',\n",
       " 'The Dark Knight Rises',\n",
       " 'The Dark Knight',\n",
       " 'The Avengers',\n",
       " 'Star Wars: Episode V - The Empire Strikes Back',\n",
       " 'Star Wars: Episode IV - A New Hope',\n",
       " 'Spider-Man: Homecoming',\n",
       " 'Snow White and the Seven Dwarfs',\n",
       " 'Sleeping Beauty',\n",
       " 'Seven',\n",
       " \"Schindler's List\",\n",
       " \"Schindler's List\",\n",
       " 'Saving Private Ryan',\n",
       " 'Ratatouille',\n",
       " 'Raiders of the Lost Ark',\n",
       " 'Pulp Fiction',\n",
       " 'Please note that this is just a small selection of movies and there are many other great films out there.',\n",
       " 'Mulan (2020)',\n",
       " 'Moana',\n",
       " 'Logan',\n",
       " 'La La Land',\n",
       " 'Jurassic Park',\n",
       " 'Joker',\n",
       " 'Jaws',\n",
       " 'Iron Man',\n",
       " 'Interstellar',\n",
       " 'Inside Out',\n",
       " 'Indiana Jones and the Last Crusade',\n",
       " 'Inception',\n",
       " 'Inception',\n",
       " 'Guardians of the Galaxy',\n",
       " 'Goodfellas',\n",
       " 'Gladiator',\n",
       " 'Forrest Gump',\n",
       " 'Finding Nemo',\n",
       " 'Fight Club',\n",
       " 'E.T. the Extra-Terrestrial',\n",
       " 'Django Unchained',\n",
       " 'Deadpool',\n",
       " 'Coco',\n",
       " 'Cinderella',\n",
       " 'Casablanca',\n",
       " 'Captain America: The Winter Soldier',\n",
       " 'Braveheart',\n",
       " 'Blade Runner',\n",
       " 'Black Panther',\n",
       " 'Birdman',\n",
       " 'Beauty and the Beast (2017)',\n",
       " 'Beauty and the Beast',\n",
       " 'Back to the Future',\n",
       " 'Avengers: Infinity War',\n",
       " 'Avengers: Endgame',\n",
       " 'Aladdin (2019)',\n",
       " 'Aladdin']"
      ]
     },
     "execution_count": 16,
     "metadata": {},
     "output_type": "execute_result"
    }
   ],
   "source": [
    "movies.sort(reverse = True)\n",
    "movies"
   ]
  },
  {
   "cell_type": "code",
   "execution_count": 27,
   "metadata": {},
   "outputs": [
    {
     "name": "stdout",
     "output_type": "stream",
     "text": [
      "2\n",
      "4\n",
      "1\n",
      "0\n"
     ]
    }
   ],
   "source": [
    "\n",
    "x = [1 ,1 , 2 , 6 ,6 , 6,6 ]\n",
    "print(x.count(1))\n",
    "print(x.count(6))\n",
    "print(x.count(2))\n",
    "print(x.count(9))"
   ]
  },
  {
   "cell_type": "code",
   "execution_count": 30,
   "metadata": {},
   "outputs": [
    {
     "data": {
      "text/plain": [
       "85"
      ]
     },
     "execution_count": 30,
     "metadata": {},
     "output_type": "execute_result"
    }
   ],
   "source": [
    "movies.index('Deadpool')"
   ]
  },
  {
   "cell_type": "code",
   "execution_count": 33,
   "metadata": {},
   "outputs": [
    {
     "data": {
      "text/plain": [
       "['Zootopia',\n",
       " 'Wonder Woman',\n",
       " 'Whiplash',\n",
       " 'WALL-E',\n",
       " 'Up',\n",
       " 'Toy Story',\n",
       " 'Titanic',\n",
       " 'Titanic',\n",
       " 'The Wizard of Oz',\n",
       " 'The Usual Suspects',\n",
       " 'The Two Towers',\n",
       " 'The Terminator',\n",
       " 'The Social Network',\n",
       " 'The Social Network',\n",
       " 'The Silence of the Lambs',\n",
       " 'The Silence of the Lambs',\n",
       " 'The Shining',\n",
       " 'The Shawshank Redemption',\n",
       " 'The Shawshank Redemption',\n",
       " 'The Shape of Water',\n",
       " 'The Rise of Skywalker',\n",
       " 'The Revenant',\n",
       " 'The Return of the King',\n",
       " 'The Princess Bride',\n",
       " 'The Prestige',\n",
       " 'The Pianist',\n",
       " 'The Matrix',\n",
       " 'The Matrix',\n",
       " 'The Lost World: Jurassic Park',\n",
       " 'The Lord of the Rings: The Fellowship of the Ring',\n",
       " 'The Little Mermaid',\n",
       " 'The Lion King (2019)',\n",
       " 'The Lion King (1994)',\n",
       " 'The Lion King',\n",
       " 'The Last Jedi',\n",
       " 'The Jungle Book',\n",
       " 'The Incredible Hulk',\n",
       " 'The Green Mile',\n",
       " 'The Grand Budapest Hotel',\n",
       " 'The Good, the Bad and the Ugly',\n",
       " 'The Godfather: Part II',\n",
       " 'The Godfather',\n",
       " 'The Force Awakens',\n",
       " 'The Fifth Element',\n",
       " 'The Fellowship of the Ring',\n",
       " 'The Empire Strikes Back',\n",
       " 'The Departed',\n",
       " 'The Departed',\n",
       " 'The Dark Knight Rises',\n",
       " 'The Dark Knight',\n",
       " 'The Avengers',\n",
       " 'Star Wars: Episode V - The Empire Strikes Back',\n",
       " 'Star Wars: Episode IV - A New Hope',\n",
       " 'Spider-Man: Homecoming',\n",
       " 'Snow White and the Seven Dwarfs',\n",
       " 'Sleeping Beauty',\n",
       " 'Seven',\n",
       " \"Schindler's List\",\n",
       " \"Schindler's List\",\n",
       " 'Saving Private Ryan',\n",
       " 'Ratatouille',\n",
       " 'Raiders of the Lost Ark',\n",
       " 'Pulp Fiction',\n",
       " 'Please note that this is just a small selection of movies and there are many other great films out there.',\n",
       " 'Mulan (2020)',\n",
       " 'Moana',\n",
       " 'Logan',\n",
       " 'La La Land',\n",
       " 'Jurassic Park',\n",
       " 'Joker',\n",
       " 'Jaws',\n",
       " 'Iron Man',\n",
       " 'Interstellar',\n",
       " 'Inside Out',\n",
       " 'Indiana Jones and the Last Crusade',\n",
       " 'Inception',\n",
       " 'Inception',\n",
       " 'Guardians of the Galaxy',\n",
       " 'Goodfellas',\n",
       " 'Gladiator',\n",
       " 'Forrest Gump',\n",
       " 'Finding Nemo',\n",
       " 'Fight Club',\n",
       " 'E.T. the Extra-Terrestrial',\n",
       " 'Django Unchained',\n",
       " 'Deadpool',\n",
       " 'Coco',\n",
       " 'Cinderella',\n",
       " 'Casablanca',\n",
       " 'Captain America: The Winter Soldier',\n",
       " 'Braveheart',\n",
       " 'Blade Runner',\n",
       " 'Black Panther',\n",
       " 'Birdman',\n",
       " 'Beauty and the Beast (2017)',\n",
       " 'Beauty and the Beast',\n",
       " 'Back to the Future',\n",
       " 'Avengers: Infinity War',\n",
       " 'Avengers: Endgame',\n",
       " 'Aladdin (2019)',\n",
       " 'Aladdin']"
      ]
     },
     "execution_count": 33,
     "metadata": {},
     "output_type": "execute_result"
    }
   ],
   "source": [
    "movies_bk = movies.copy() # copies a list to a new memory location\n",
    "movies_bk"
   ]
  },
  {
   "cell_type": "code",
   "execution_count": 34,
   "metadata": {},
   "outputs": [
    {
     "data": {
      "text/plain": [
       "101"
      ]
     },
     "execution_count": 34,
     "metadata": {},
     "output_type": "execute_result"
    }
   ],
   "source": [
    "len(movies_bk)"
   ]
  },
  {
   "cell_type": "code",
   "execution_count": 35,
   "metadata": {},
   "outputs": [
    {
     "data": {
      "text/plain": [
       "['Zootopia',\n",
       " 'Wonder Woman',\n",
       " 'Whiplash',\n",
       " 'WALL-E',\n",
       " 'Up',\n",
       " 'Toy Story',\n",
       " 'Titanic',\n",
       " 'Titanic',\n",
       " 'The Wizard of Oz',\n",
       " 'The Usual Suspects']"
      ]
     },
     "execution_count": 35,
     "metadata": {},
     "output_type": "execute_result"
    }
   ],
   "source": [
    "movies[:10]"
   ]
  },
  {
   "cell_type": "code",
   "execution_count": 37,
   "metadata": {},
   "outputs": [
    {
     "name": "stdout",
     "output_type": "stream",
     "text": [
      "[8, 12, 8, 6, 2, 9, 7, 7, 16, 18, 14, 14, 18, 18, 24, 24, 11, 24, 24, 18, 21, 12, 22, 18, 12, 11, 10, 10, 29, 49, 18, 20, 20, 13, 13, 15, 19, 14, 24, 30, 22, 13, 17, 17, 26, 23, 12, 12, 21, 15, 12, 46, 34, 22, 31, 15, 5, 16, 16, 19, 11, 23, 12, 105, 12, 5, 5, 10, 13, 5, 4, 8, 12, 10, 34, 9, 9, 23, 10, 9, 12, 12, 10, 26, 16, 8, 4, 10, 10, 35, 10, 12, 13, 7, 27, 20, 18, 22, 17, 14, 7]\n"
     ]
    }
   ],
   "source": [
    "size_movies = [] #*\n",
    "for movie in movies: #*\n",
    "    s = len(movie) #*\n",
    "    size_movies.append(s)\n",
    "print(size_movies)"
   ]
  },
  {
   "cell_type": "code",
   "execution_count": 41,
   "metadata": {},
   "outputs": [
    {
     "name": "stdout",
     "output_type": "stream",
     "text": [
      "[8, 12, 8, 6, 2, 9, 7, 7, 16, 18, 14, 14, 18, 18, 24, 24, 11, 24, 24, 18, 21, 12, 22, 18, 12, 11, 10, 10, 29, 49, 18, 20, 20, 13, 13, 15, 19, 14, 24, 30, 22, 13, 17, 17, 26, 23, 12, 12, 21, 15, 12, 46, 34, 22, 31, 15, 5, 16, 16, 19, 11, 23, 12, 105, 12, 5, 5, 10, 13, 5, 4, 8, 12, 10, 34, 9, 9, 23, 10, 9, 12, 12, 10, 26, 16, 8, 4, 10, 10, 35, 10, 12, 13, 7, 27, 20, 18, 22, 17, 14, 7]\n"
     ]
    }
   ],
   "source": [
    "size_movies = [len(i) for i in movies] \n",
    "print(size_movies)"
   ]
  },
  {
   "cell_type": "code",
   "execution_count": 42,
   "metadata": {},
   "outputs": [
    {
     "name": "stdout",
     "output_type": "stream",
     "text": [
      "[16, 3, 4, 10, 5, 6]\n",
      "[256, 9, 16, 100, 25, 36]\n"
     ]
    }
   ],
   "source": [
    "x = [16 , 3 , 4 , 10 , 5 ,6]\n",
    "x2 = [i**2 for i in x]\n",
    "print(x)\n",
    "print(x2)"
   ]
  },
  {
   "cell_type": "code",
   "execution_count": 43,
   "metadata": {},
   "outputs": [
    {
     "name": "stdout",
     "output_type": "stream",
     "text": [
      "[16, 3, 4, 10, 5, 6]\n",
      "[256, 16, 100, 36]\n"
     ]
    }
   ],
   "source": [
    "x2_even = [i**2 for i in x if i%2==0]\n",
    "print(x)\n",
    "print(x2_even)"
   ]
  },
  {
   "cell_type": "code",
   "execution_count": 27,
   "metadata": {},
   "outputs": [
    {
     "name": "stdout",
     "output_type": "stream",
     "text": [
      "['alex', 'sam', 'shavez', 'asif', 'bruce', 'Aamir']\n"
     ]
    }
   ],
   "source": [
    "names = ['alex pierce' , 'sam hemmingway' , 'shavez' , 'asif' , 'bruce lee', \"Aamir Ahmed\"]\n",
    "fnames = [name.split()[0] for name in names]\n",
    "print(fnames)"
   ]
  },
  {
   "cell_type": "code",
   "execution_count": 12,
   "metadata": {},
   "outputs": [
    {
     "name": "stdout",
     "output_type": "stream",
     "text": [
      "[125, 729, 343, 27]\n"
     ]
    }
   ],
   "source": [
    "numbers = [2 , 5 , 9 , 7 ,3]\n",
    "odd_cubes = [i**3 for i in numbers if i%2!=0]\n",
    "print(odd_cubes)"
   ]
  },
  {
   "cell_type": "code",
   "execution_count": 59,
   "metadata": {},
   "outputs": [
    {
     "name": "stdout",
     "output_type": "stream",
     "text": [
      "['alex', 'sam', 'shavez', 'asif', 'bruce', 'Aamir']\n"
     ]
    }
   ],
   "source": [
    "names = ['alex pierce' , 'sam hemmingway' , 'shavez' , 'asif' , 'bruce lee', \"Aamir Ahmed\"]\n",
    "fname = []\n",
    "for name in names:\n",
    "    fname = fname + [name.split()[0]]\n",
    "print(fname)"
   ]
  },
  {
   "cell_type": "code",
   "execution_count": 76,
   "metadata": {},
   "outputs": [],
   "source": [
    "class ListNode:\n",
    "    def __init__(self, val=0, next=None):\n",
    "        self.val = val\n",
    "        self.next = next\n",
    "\n",
    "def add_two_numbers(l1, l2):\n",
    "    dummy_head = ListNode()\n",
    "    current = dummy_head\n",
    "    carry = 0\n",
    "\n",
    "    while l1 or l2 or carry:\n",
    "        # Extract values of the current nodes or default to 0\n",
    "        \n",
    "         if l1:\n",
    "            val1 = l1.val\n",
    "        else: \n",
    "            0\n",
    "        val2 = l2.val if l2 else 0\n",
    "\n",
    "        # Calculate the sum and carry\n",
    "        total_sum = val1 + val2 + carry\n",
    "        carry = total_sum // 10\n",
    "\n",
    "        # Create a new node with the remainder after dividing by 10\n",
    "        current.next = ListNode(total_sum % 10)\n",
    "        current = current.next\n",
    "\n",
    "        # Move to the next nodes in both lists if they exist\n",
    "        if l1:\n",
    "            l1 = l1.next\n",
    "        if l2:\n",
    "            l2 = l2.next\n",
    "\n",
    "    return dummy_head.next\n",
    "\n",
    "# Example usage:\n",
    "# Assume you have two linked lists representing the numbers 342 and 465\n",
    "# l1: 2 -> 4 -> 3\n",
    "# l2: 5 -> 6 -> 4\n",
    "# The result of adding these two numbers is 807, represented as 7 -> 0 -> 8\n"
   ]
  },
  {
   "cell_type": "code",
   "execution_count": null,
   "metadata": {},
   "outputs": [],
   "source": [
    "l1 = [2 , 4 , 3]\n",
    "l2 = [5 , 6 , 4]\n",
    "result = []\n",
    "ptr = []\n",
    "carry = 0\n",
    "sum = 0\n",
    "\n",
    "while(l1 != 0 or l2 != 0):\n",
    "    if(l1!= 0):\n",
    "        sum += l1.val\n",
    "        l1 = l1.next\n",
    "    if(l2!=0):\n",
    "        sum += l2.val\n",
    "        l2 = l2.val\n",
    "    carry = sum / 10\n",
    "    sum = sum % 10\n",
    "    ptr.next"
   ]
  }
 ],
 "metadata": {
  "kernelspec": {
   "display_name": "base",
   "language": "python",
   "name": "python3"
  },
  "language_info": {
   "codemirror_mode": {
    "name": "ipython",
    "version": 3
   },
   "file_extension": ".py",
   "mimetype": "text/x-python",
   "name": "python",
   "nbconvert_exporter": "python",
   "pygments_lexer": "ipython3",
   "version": "3.10.8"
  },
  "orig_nbformat": 4
 },
 "nbformat": 4,
 "nbformat_minor": 2
}
