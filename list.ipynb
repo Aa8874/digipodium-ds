{
 "cells": [
  {
   "cell_type": "markdown",
   "metadata": {},
   "source": [
    "## data structure \n"
   ]
  },
  {
   "cell_type": "markdown",
   "metadata": {},
   "source": [
    "-list 🤩\n",
    " -indexed , ordered , mutable ,'[ ]\n",
    " tuple\n",
    " - -indexed , ordered , *immutable* , ()\n",
    " set\n",
    " - unindexed , unordered , mutable , *no-duplicates** '{}'\n",
    " dictionary 🤩\n",
    " - **unindexed , key value pairs, mutable, { }"
   ]
  },
  {
   "cell_type": "code",
   "execution_count": 4,
   "metadata": {},
   "outputs": [],
   "source": [
    "x = [] # empty list\n",
    "y = [1 , 2 , 3 , 5 , 6]\n",
    "z = ['Re4' , 'leon' , 'Ashley']\n",
    "grocery = ['milk' , 55 , 'bread' , 20 , 'butter' , 49]\n",
    "a = [1] * 5\n"
   ]
  },
  {
   "cell_type": "code",
   "execution_count": 5,
   "metadata": {},
   "outputs": [],
   "source": [
    "\n",
    "x.append(10)\n",
    "x.append(input('enter a no: '))"
   ]
  },
  {
   "cell_type": "code",
   "execution_count": 7,
   "metadata": {},
   "outputs": [
    {
     "name": "stdout",
     "output_type": "stream",
     "text": [
      "[10, '100', 100, 33, 1]\n"
     ]
    }
   ],
   "source": [
    "for i in range(3):\n",
    "    val = int(input('enter a no: '))\n",
    "    x.append(val)\n",
    "print(x)"
   ]
  },
  {
   "cell_type": "code",
   "execution_count": 8,
   "metadata": {},
   "outputs": [
    {
     "ename": "NameError",
     "evalue": "name 'info' is not defined",
     "output_type": "error",
     "traceback": [
      "\u001b[1;31m---------------------------------------------------------------------------\u001b[0m",
      "\u001b[1;31mNameError\u001b[0m                                 Traceback (most recent call last)",
      "Cell \u001b[1;32mIn[8], line 1\u001b[0m\n\u001b[1;32m----> 1\u001b[0m \u001b[39mdel\u001b[39;00m info\n",
      "\u001b[1;31mNameError\u001b[0m: name 'info' is not defined"
     ]
    }
   ],
   "source": [
    "del info # delete the variable info from memory"
   ]
  },
  {
   "cell_type": "code",
   "execution_count": 9,
   "metadata": {},
   "outputs": [
    {
     "name": "stdout",
     "output_type": "stream",
     "text": [
      "10 1 100\n",
      "[10, '100']\n",
      "[100, 33, 1]\n",
      "[1, 33, 100, '100', 10]\n"
     ]
    }
   ],
   "source": [
    "print(x[0] , x[-1] , x[1])\n",
    "print(x[:2])# slice first two element\n",
    "print(x[-3:]) # slice last three element\n",
    "print(x[::-1]) # reverse the list|"
   ]
  },
  {
   "cell_type": "code",
   "execution_count": 11,
   "metadata": {},
   "outputs": [
    {
     "name": "stdout",
     "output_type": "stream",
     "text": [
      "10 100 100 33 1 "
     ]
    }
   ],
   "source": [
    "for i in x:\n",
    "    print(i , end= ' ')"
   ]
  },
  {
   "cell_type": "markdown",
   "metadata": {},
   "source": [
    "- list function\n",
    " -adding\n",
    "  - append() - add single item to the end\n",
    "  - insertaa() - add single item  at given index\n",
    "    -extend() - merge an list to an existing list\n",
    "remove\n",
    " -remove() - remove single item by value\n",
    "  _ pop() - remove single item by index\n",
    "  -clear() - remove all items\n",
    "utility\n",
    "- index() - find index of item by value\n",
    "- count() - count repeated item\n",
    "- sort() - sort items\n",
    "- reverse() - reverse item\n",
    "- copy() - copy list\n",
    "  "
   ]
  },
  {
   "cell_type": "code",
   "execution_count": null,
   "metadata": {},
   "outputs": [],
   "source": []
  }
 ],
 "metadata": {
  "kernelspec": {
   "display_name": "base",
   "language": "python",
   "name": "python3"
  },
  "language_info": {
   "codemirror_mode": {
    "name": "ipython",
    "version": 3
   },
   "file_extension": ".py",
   "mimetype": "text/x-python",
   "name": "python",
   "nbconvert_exporter": "python",
   "pygments_lexer": "ipython3",
   "version": "3.10.10"
  },
  "orig_nbformat": 4
 },
 "nbformat": 4,
 "nbformat_minor": 2
}
