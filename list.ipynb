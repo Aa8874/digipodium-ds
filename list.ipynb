{
 "cells": [
  {
   "cell_type": "markdown",
   "metadata": {},
   "source": [
    "## data structure \n"
   ]
  },
  {
   "cell_type": "markdown",
   "metadata": {},
   "source": [
    "-list 🤩\n",
    " -indexed , ordered , mutable ,'[ ]\n",
    " tuple\n",
    " - -indexed , ordered , *immutable* , ()\n",
    " set\n",
    " - unindexed , unordered , mutable , *no-duplicates** '{}'\n",
    " dictionary 🤩\n",
    " - **unindexed , key value pairs, mutable, { }"
   ]
  },
  {
   "cell_type": "code",
   "execution_count": 3,
   "metadata": {},
   "outputs": [],
   "source": [
    "x = [] # empty list\n",
    "y = [1 , 2 , 3 , 5 , 6]\n",
    "z = ['Re4' , 'leon' , 'Ashley']\n",
    "grocery = ['milk' , 55 , 'bread' , 20 , 'butter' , 49]\n",
    "a = [1] * 5\n"
   ]
  },
  {
   "cell_type": "code",
   "execution_count": 5,
   "metadata": {},
   "outputs": [],
   "source": [
    "\n",
    "x.append(10)\n",
    "x.append(input('enter a no: '))"
   ]
  },
  {
   "cell_type": "code",
   "execution_count": 6,
   "metadata": {},
   "outputs": [
    {
     "name": "stdout",
     "output_type": "stream",
     "text": [
      "[10, '100', 10, '1000', 10, 60, 40]\n"
     ]
    }
   ],
   "source": [
    "for i in range(3):\n",
    "    val = int(input('enter a no: '))\n",
    "    x.append(val)\n",
    "print(x)"
   ]
  },
  {
   "cell_type": "code",
   "execution_count": null,
   "metadata": {},
   "outputs": [],
   "source": [
    "del info # delete the variable info from memory"
   ]
  },
  {
   "cell_type": "code",
   "execution_count": 7,
   "metadata": {},
   "outputs": [
    {
     "name": "stdout",
     "output_type": "stream",
     "text": [
      "10 40 100\n",
      "[10, '100']\n",
      "[10, 60, 40]\n",
      "[40, 60, 10, '1000', 10, '100', 10]\n"
     ]
    }
   ],
   "source": [
    "print(x[0] , x[-1] , x[1])\n",
    "print(x[:2])# slice first two element\n",
    "print(x[-3:]) # slice last three element\n",
    "print(x[::-1]) # reverse the list|"
   ]
  },
  {
   "cell_type": "code",
   "execution_count": 8,
   "metadata": {},
   "outputs": [
    {
     "name": "stdout",
     "output_type": "stream",
     "text": [
      "10 100 10 1000 10 60 40 "
     ]
    }
   ],
   "source": [
    "for i in x:\n",
    "    print(i , end= ' ')"
   ]
  },
  {
   "cell_type": "markdown",
   "metadata": {},
   "source": [
    "- list function\n",
    " -adding\n",
    "  - append() - add single item to the end\n",
    "  - inserta() - add single item  at given index\n",
    "    -extend() - merge an list to an existing list\n",
    "remove\n",
    " -remove() - remove single item by value\n",
    "  _ pop() - remove single item by index\n",
    "  -clear() - remove all items\n",
    "utility\n",
    "- index() - find index of item by value\n",
    "- count() - count repeated item\n",
    "- sort() - sort items\n",
    "- reverse() - reverse item\n",
    "- copy() - copy list\n",
    "  "
   ]
  },
  {
   "cell_type": "code",
   "execution_count": 9,
   "metadata": {},
   "outputs": [
    {
     "data": {
      "text/plain": [
       "['harry poter', 'psychology of money', 'well of Ascension']"
      ]
     },
     "execution_count": 9,
     "metadata": {},
     "output_type": "execute_result"
    }
   ],
   "source": [
    "books = []# books list empty\n",
    "books.append('harry poter')\n",
    "books.append('psychology of money')\n",
    "books.append('well of Ascension')\n",
    "books\n"
   ]
  },
  {
   "cell_type": "code",
   "execution_count": 10,
   "metadata": {},
   "outputs": [
    {
     "data": {
      "text/plain": [
       "['harry poter',\n",
       " 'harry poter and the goblet the fire',\n",
       " 'psychology of money',\n",
       " 'well of Ascension']"
      ]
     },
     "execution_count": 10,
     "metadata": {},
     "output_type": "execute_result"
    }
   ],
   "source": [
    "books.insert(1, 'harry poter and the goblet the fire')\n",
    "books"
   ]
  },
  {
   "cell_type": "markdown",
   "metadata": {},
   "source": []
  },
  {
   "cell_type": "code",
   "execution_count": null,
   "metadata": {},
   "outputs": [],
   "source": [
    "books[2] = 'the hero of ages' # replace\n",
    "books"
   ]
  },
  {
   "cell_type": "code",
   "execution_count": null,
   "metadata": {},
   "outputs": [],
   "source": [
    "old_books = ['A song of fire and Ice' , 'umbrella' , 'the jungle books' , 'price and prejudice']\n",
    "books.extend(old_books)"
   ]
  },
  {
   "cell_type": "code",
   "execution_count": null,
   "metadata": {},
   "outputs": [],
   "source": [
    "books"
   ]
  },
  {
   "cell_type": "code",
   "execution_count": null,
   "metadata": {},
   "outputs": [],
   "source": [
    "if'the jungle book' in books:\n",
    " books.remove('the jungle book') # removes only the first occurance\n",
    "books"
   ]
  },
  {
   "cell_type": "code",
   "execution_count": null,
   "metadata": {},
   "outputs": [],
   "source": [
    "books.pop(4)"
   ]
  },
  {
   "cell_type": "code",
   "execution_count": null,
   "metadata": {},
   "outputs": [],
   "source": [
    "books.pop() # remove the last item/element"
   ]
  },
  {
   "cell_type": "code",
   "execution_count": null,
   "metadata": {},
   "outputs": [],
   "source": [
    "books.clear()\n",
    "books"
   ]
  },
  {
   "cell_type": "code",
   "execution_count": null,
   "metadata": {},
   "outputs": [],
   "source": [
    "kachra = '''The Shawshank Redemption\n",
    "The Godfather\n",
    "The Dark Knight\n",
    "Pulp Fiction\n",
    "Fight Club\n",
    "Inception\n",
    "Forrest Gump\n",
    "The Matrix\n",
    "Goodfellas\n",
    "The Lord of the Rings: The Fellowship of the Ring\n",
    "Star Wars: Episode V - The Empire Strikes Back\n",
    "The Avengers\n",
    "The Silence of the Lambs\n",
    "Schindler's List\n",
    "The Departed\n",
    "Interstellar\n",
    "The Prestige\n",
    "The Lion King\n",
    "Gladiator\n",
    "Braveheart\n",
    "Titanic\n",
    "The Social Network\n",
    "The Usual Suspects\n",
    "The Terminator\n",
    "The Princess Bride\n",
    "Casablanca\n",
    "The Wizard of Oz\n",
    "Jaws\n",
    "Back to the Future\n",
    "E.T. the Extra-Terrestrial\n",
    "The Shawshank Redemption\n",
    "The Godfather: Part II\n",
    "The Dark Knight Rises\n",
    "The Good, the Bad and the Ugly\n",
    "Django Unchained\n",
    "Seven\n",
    "The Green Mile\n",
    "The Departed\n",
    "The Shining\n",
    "The Silence of the Lambs\n",
    "Saving Private Ryan\n",
    "The Pianist\n",
    "Schindler's List\n",
    "The Revenant\n",
    "The Grand Budapest Hotel\n",
    "Whiplash\n",
    "La La Land\n",
    "Birdman\n",
    "The Shape of Water\n",
    "Titanic\n",
    "The Social Network\n",
    "Inception\n",
    "The Matrix\n",
    "Blade Runner\n",
    "The Fifth Element\n",
    "Star Wars: Episode IV - A New Hope\n",
    "The Empire Strikes Back\n",
    "The Return of the King\n",
    "The Two Towers\n",
    "The Fellowship of the Ring\n",
    "The Force Awakens\n",
    "The Last Jedi\n",
    "The Rise of Skywalker\n",
    "Raiders of the Lost Ark\n",
    "Indiana Jones and the Last Crusade\n",
    "Jurassic Park\n",
    "The Lost World: Jurassic Park\n",
    "Avengers: Endgame\n",
    "Avengers: Infinity War\n",
    "Iron Man\n",
    "Captain America: The Winter Soldier\n",
    "Guardians of the Galaxy\n",
    "Deadpool\n",
    "Logan\n",
    "Spider-Man: Homecoming\n",
    "The Incredible Hulk\n",
    "Black Panther\n",
    "Wonder Woman\n",
    "Joker\n",
    "Toy Story\n",
    "Finding Nemo\n",
    "Up\n",
    "WALL-E\n",
    "Ratatouille\n",
    "Inside Out\n",
    "Coco\n",
    "Zootopia\n",
    "Moana\n",
    "The Lion King (2019)\n",
    "Aladdin (2019)\n",
    "Beauty and the Beast (2017)\n",
    "Mulan (2020)\n",
    "Snow White and the Seven Dwarfs\n",
    "Cinderella\n",
    "Sleeping Beauty\n",
    "The Little Mermaid\n",
    "Beauty and the Beast\n",
    "Aladdin\n",
    "The Jungle Book\n",
    "The Lion King (1994)\n",
    "Please note that this is just a small selection of movies and there are many other great films out there.\n",
    "'''\n",
    "movies = kachra.splitlines()\n",
    "movies"
   ]
  },
  {
   "cell_type": "code",
   "execution_count": null,
   "metadata": {},
   "outputs": [],
   "source": [
    "movies.reverse()\n",
    "movies"
   ]
  },
  {
   "cell_type": "code",
   "execution_count": null,
   "metadata": {},
   "outputs": [],
   "source": [
    "movies.sort()\n",
    "movies"
   ]
  },
  {
   "cell_type": "code",
   "execution_count": null,
   "metadata": {},
   "outputs": [],
   "source": [
    "movies.sort(reverse = True)\n",
    "movies"
   ]
  },
  {
   "cell_type": "code",
   "execution_count": 27,
   "metadata": {},
   "outputs": [
    {
     "name": "stdout",
     "output_type": "stream",
     "text": [
      "2\n",
      "4\n",
      "1\n",
      "0\n"
     ]
    }
   ],
   "source": [
    "\n",
    "x = [1 ,1 , 2 , 6 ,6 , 6,6 ]\n",
    "print(x.count(1))\n",
    "print(x.count(6))\n",
    "print(x.count(2))\n",
    "print(x.count(9))"
   ]
  },
  {
   "cell_type": "code",
   "execution_count": 30,
   "metadata": {},
   "outputs": [
    {
     "data": {
      "text/plain": [
       "85"
      ]
     },
     "execution_count": 30,
     "metadata": {},
     "output_type": "execute_result"
    }
   ],
   "source": [
    "movies.index('Deadpool')"
   ]
  },
  {
   "cell_type": "code",
   "execution_count": 33,
   "metadata": {},
   "outputs": [
    {
     "data": {
      "text/plain": [
       "['Zootopia',\n",
       " 'Wonder Woman',\n",
       " 'Whiplash',\n",
       " 'WALL-E',\n",
       " 'Up',\n",
       " 'Toy Story',\n",
       " 'Titanic',\n",
       " 'Titanic',\n",
       " 'The Wizard of Oz',\n",
       " 'The Usual Suspects',\n",
       " 'The Two Towers',\n",
       " 'The Terminator',\n",
       " 'The Social Network',\n",
       " 'The Social Network',\n",
       " 'The Silence of the Lambs',\n",
       " 'The Silence of the Lambs',\n",
       " 'The Shining',\n",
       " 'The Shawshank Redemption',\n",
       " 'The Shawshank Redemption',\n",
       " 'The Shape of Water',\n",
       " 'The Rise of Skywalker',\n",
       " 'The Revenant',\n",
       " 'The Return of the King',\n",
       " 'The Princess Bride',\n",
       " 'The Prestige',\n",
       " 'The Pianist',\n",
       " 'The Matrix',\n",
       " 'The Matrix',\n",
       " 'The Lost World: Jurassic Park',\n",
       " 'The Lord of the Rings: The Fellowship of the Ring',\n",
       " 'The Little Mermaid',\n",
       " 'The Lion King (2019)',\n",
       " 'The Lion King (1994)',\n",
       " 'The Lion King',\n",
       " 'The Last Jedi',\n",
       " 'The Jungle Book',\n",
       " 'The Incredible Hulk',\n",
       " 'The Green Mile',\n",
       " 'The Grand Budapest Hotel',\n",
       " 'The Good, the Bad and the Ugly',\n",
       " 'The Godfather: Part II',\n",
       " 'The Godfather',\n",
       " 'The Force Awakens',\n",
       " 'The Fifth Element',\n",
       " 'The Fellowship of the Ring',\n",
       " 'The Empire Strikes Back',\n",
       " 'The Departed',\n",
       " 'The Departed',\n",
       " 'The Dark Knight Rises',\n",
       " 'The Dark Knight',\n",
       " 'The Avengers',\n",
       " 'Star Wars: Episode V - The Empire Strikes Back',\n",
       " 'Star Wars: Episode IV - A New Hope',\n",
       " 'Spider-Man: Homecoming',\n",
       " 'Snow White and the Seven Dwarfs',\n",
       " 'Sleeping Beauty',\n",
       " 'Seven',\n",
       " \"Schindler's List\",\n",
       " \"Schindler's List\",\n",
       " 'Saving Private Ryan',\n",
       " 'Ratatouille',\n",
       " 'Raiders of the Lost Ark',\n",
       " 'Pulp Fiction',\n",
       " 'Please note that this is just a small selection of movies and there are many other great films out there.',\n",
       " 'Mulan (2020)',\n",
       " 'Moana',\n",
       " 'Logan',\n",
       " 'La La Land',\n",
       " 'Jurassic Park',\n",
       " 'Joker',\n",
       " 'Jaws',\n",
       " 'Iron Man',\n",
       " 'Interstellar',\n",
       " 'Inside Out',\n",
       " 'Indiana Jones and the Last Crusade',\n",
       " 'Inception',\n",
       " 'Inception',\n",
       " 'Guardians of the Galaxy',\n",
       " 'Goodfellas',\n",
       " 'Gladiator',\n",
       " 'Forrest Gump',\n",
       " 'Finding Nemo',\n",
       " 'Fight Club',\n",
       " 'E.T. the Extra-Terrestrial',\n",
       " 'Django Unchained',\n",
       " 'Deadpool',\n",
       " 'Coco',\n",
       " 'Cinderella',\n",
       " 'Casablanca',\n",
       " 'Captain America: The Winter Soldier',\n",
       " 'Braveheart',\n",
       " 'Blade Runner',\n",
       " 'Black Panther',\n",
       " 'Birdman',\n",
       " 'Beauty and the Beast (2017)',\n",
       " 'Beauty and the Beast',\n",
       " 'Back to the Future',\n",
       " 'Avengers: Infinity War',\n",
       " 'Avengers: Endgame',\n",
       " 'Aladdin (2019)',\n",
       " 'Aladdin']"
      ]
     },
     "execution_count": 33,
     "metadata": {},
     "output_type": "execute_result"
    }
   ],
   "source": [
    "movies_bk = movies.copy() # copies a list to a new memory location\n",
    "movies_bk"
   ]
  },
  {
   "cell_type": "code",
   "execution_count": 34,
   "metadata": {},
   "outputs": [
    {
     "data": {
      "text/plain": [
       "101"
      ]
     },
     "execution_count": 34,
     "metadata": {},
     "output_type": "execute_result"
    }
   ],
   "source": [
    "len(movies_bk)"
   ]
  },
  {
   "cell_type": "code",
   "execution_count": 35,
   "metadata": {},
   "outputs": [
    {
     "data": {
      "text/plain": [
       "['Zootopia',\n",
       " 'Wonder Woman',\n",
       " 'Whiplash',\n",
       " 'WALL-E',\n",
       " 'Up',\n",
       " 'Toy Story',\n",
       " 'Titanic',\n",
       " 'Titanic',\n",
       " 'The Wizard of Oz',\n",
       " 'The Usual Suspects']"
      ]
     },
     "execution_count": 35,
     "metadata": {},
     "output_type": "execute_result"
    }
   ],
   "source": [
    "movies[:10]"
   ]
  },
  {
   "cell_type": "code",
   "execution_count": 37,
   "metadata": {},
   "outputs": [
    {
     "name": "stdout",
     "output_type": "stream",
     "text": [
      "[8, 12, 8, 6, 2, 9, 7, 7, 16, 18, 14, 14, 18, 18, 24, 24, 11, 24, 24, 18, 21, 12, 22, 18, 12, 11, 10, 10, 29, 49, 18, 20, 20, 13, 13, 15, 19, 14, 24, 30, 22, 13, 17, 17, 26, 23, 12, 12, 21, 15, 12, 46, 34, 22, 31, 15, 5, 16, 16, 19, 11, 23, 12, 105, 12, 5, 5, 10, 13, 5, 4, 8, 12, 10, 34, 9, 9, 23, 10, 9, 12, 12, 10, 26, 16, 8, 4, 10, 10, 35, 10, 12, 13, 7, 27, 20, 18, 22, 17, 14, 7]\n"
     ]
    }
   ],
   "source": [
    "size_movies = [] #*\n",
    "for movie in movies: #*\n",
    "    s = len(movie) #*\n",
    "    size_movies.append(s)\n",
    "print(size_movies)"
   ]
  },
  {
   "cell_type": "code",
   "execution_count": 41,
   "metadata": {},
   "outputs": [
    {
     "name": "stdout",
     "output_type": "stream",
     "text": [
      "[8, 12, 8, 6, 2, 9, 7, 7, 16, 18, 14, 14, 18, 18, 24, 24, 11, 24, 24, 18, 21, 12, 22, 18, 12, 11, 10, 10, 29, 49, 18, 20, 20, 13, 13, 15, 19, 14, 24, 30, 22, 13, 17, 17, 26, 23, 12, 12, 21, 15, 12, 46, 34, 22, 31, 15, 5, 16, 16, 19, 11, 23, 12, 105, 12, 5, 5, 10, 13, 5, 4, 8, 12, 10, 34, 9, 9, 23, 10, 9, 12, 12, 10, 26, 16, 8, 4, 10, 10, 35, 10, 12, 13, 7, 27, 20, 18, 22, 17, 14, 7]\n"
     ]
    }
   ],
   "source": [
    "size_movies = [len(i) for i in movies] \n",
    "print(size_movies)"
   ]
  },
  {
   "cell_type": "code",
   "execution_count": 42,
   "metadata": {},
   "outputs": [
    {
     "name": "stdout",
     "output_type": "stream",
     "text": [
      "[16, 3, 4, 10, 5, 6]\n",
      "[256, 9, 16, 100, 25, 36]\n"
     ]
    }
   ],
   "source": [
    "x = [16 , 3 , 4 , 10 , 5 ,6]\n",
    "x2 = [i**2 for i in x]\n",
    "print(x)\n",
    "print(x2)"
   ]
  },
  {
   "cell_type": "code",
   "execution_count": 43,
   "metadata": {},
   "outputs": [
    {
     "name": "stdout",
     "output_type": "stream",
     "text": [
      "[16, 3, 4, 10, 5, 6]\n",
      "[256, 16, 100, 36]\n"
     ]
    }
   ],
   "source": [
    "x2_even = [i**2 for i in x if i%2==0]\n",
    "print(x)\n",
    "print(x2_even)"
   ]
  },
  {
   "cell_type": "code",
   "execution_count": 11,
   "metadata": {},
   "outputs": [
    {
     "name": "stdout",
     "output_type": "stream",
     "text": [
      "['alex', 'sam', 'shavez', 'asif', 'bruce']\n"
     ]
    }
   ],
   "source": [
    "names = ['alex pierce' , 'sam hemmingway' , 'shavez' , 'asif' , 'bruce lee']\n",
    "fnames = [name.split()[0] for name in names]\n",
    "print(fnames)"
   ]
  },
  {
   "cell_type": "code",
   "execution_count": 12,
   "metadata": {},
   "outputs": [
    {
     "name": "stdout",
     "output_type": "stream",
     "text": [
      "[125, 729, 343, 27]\n"
     ]
    }
   ],
   "source": [
    "numbers = [2 , 5 , 9 , 7 ,3]\n",
    "odd_cubes = [i**3 for i in numbers if i%2!=0]\n",
    "print(odd_cubes)"
   ]
  },
  {
   "cell_type": "code",
   "execution_count": null,
   "metadata": {},
   "outputs": [],
   "source": []
  }
 ],
 "metadata": {
  "kernelspec": {
   "display_name": "base",
   "language": "python",
   "name": "python3"
  },
  "language_info": {
   "codemirror_mode": {
    "name": "ipython",
    "version": 3
   },
   "file_extension": ".py",
   "mimetype": "text/x-python",
   "name": "python",
   "nbconvert_exporter": "python",
   "pygments_lexer": "ipython3",
   "version": "3.10.10"
  },
  "orig_nbformat": 4
 },
 "nbformat": 4,
 "nbformat_minor": 2
}
