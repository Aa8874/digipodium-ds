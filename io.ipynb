{
 "cells": [
  {
   "cell_type": "code",
   "execution_count": 20,
   "metadata": {},
   "outputs": [],
   "source": [
    "name = input(\"enter a name\")\n",
    "city = input(\"enter a cityrh\")"
   ]
  },
  {
   "cell_type": "code",
   "execution_count": 42,
   "metadata": {},
   "outputs": [
    {
     "name": "stdout",
     "output_type": "stream",
     "text": [
      "name       city       \n",
      "Aamir    lucknow    \n"
     ]
    }
   ],
   "source": [
    "print(f'{\"name\":10} {\"city\":10} \\n{name}{city:^15}')\n"
   ]
  },
  {
   "cell_type": "code",
   "execution_count": 21,
   "metadata": {},
   "outputs": [],
   "source": [
    "age = input(\"enter a age\")\n",
    "print(f'{\"age\":10}{age}')\n",
    "print(f'{\"city\":10}{city}')"
   ]
  },
  {
   "attachments": {},
   "cell_type": "markdown",
   "metadata": {},
   "source": [
    "type cast\n"
   ]
  },
  {
   "cell_type": "code",
   "execution_count": 4,
   "metadata": {},
   "outputs": [
    {
     "name": "stdout",
     "output_type": "stream",
     "text": [
      "80\n"
     ]
    }
   ],
   "source": [
    "x = int(input('enter a no A: '))\n",
    "y = int(input(\"enter a no B: \"))\n",
    "z = x + y\n",
    "print(z)"
   ]
  },
  {
   "cell_type": "code",
   "execution_count": 5,
   "metadata": {},
   "outputs": [
    {
     "name": "stdout",
     "output_type": "stream",
     "text": [
      "100.0\n"
     ]
    }
   ],
   "source": [
    "p = int(input(\"principal\"))\n",
    "r = int(input(\"rate\"))\n",
    "t = int(input(\"time\"))\n",
    "S = (p*r*t)/100\n",
    "print(S)"
   ]
  },
  {
   "cell_type": "code",
   "execution_count": 6,
   "metadata": {},
   "outputs": [
    {
     "name": "stdout",
     "output_type": "stream",
     "text": [
      "25\n",
      "55\n",
      "Aamir\n",
      "20\n",
      "lucknow\n"
     ]
    }
   ],
   "source": [
    "print(x, y, name, age, city, sep=\"\\n\" )\n"
   ]
  },
  {
   "cell_type": "code",
   "execution_count": 7,
   "metadata": {},
   "outputs": [
    {
     "name": "stdout",
     "output_type": "stream",
     "text": [
      "hi there\n"
     ]
    }
   ],
   "source": [
    "print('hi', end= ' ')\n",
    "print('there')"
   ]
  },
  {
   "cell_type": "code",
   "execution_count": 8,
   "metadata": {},
   "outputs": [
    {
     "name": "stdout",
     "output_type": "stream",
     "text": [
      "adding 25 with 55 will give 80\n"
     ]
    }
   ],
   "source": [
    "print(f'adding {x} with {y} will give {x + y}')"
   ]
  },
  {
   "cell_type": "code",
   "execution_count": 9,
   "metadata": {},
   "outputs": [
    {
     "name": "stdout",
     "output_type": "stream",
     "text": [
      "10 / 3 = 3.3333333333333335\n"
     ]
    }
   ],
   "source": [
    "a = 10\n",
    "b = 3\n",
    "print(f'{a} / {b} = {a/b}')"
   ]
  },
  {
   "cell_type": "code",
   "execution_count": 10,
   "metadata": {},
   "outputs": [
    {
     "name": "stdout",
     "output_type": "stream",
     "text": [
      "10 / 3 =  3.3\n"
     ]
    }
   ],
   "source": [
    "print(f'{a} / {b} = {a/b: .1f}')"
   ]
  },
  {
   "cell_type": "code",
   "execution_count": 11,
   "metadata": {},
   "outputs": [
    {
     "name": "stdout",
     "output_type": "stream",
     "text": [
      "name   Aamir\n",
      "age    20\n",
      "city   lucknow\n"
     ]
    }
   ],
   "source": [
    "print(f'name   {name}')\n",
    "print(f'age    {age}')\n",
    "print(f'city   {city}')"
   ]
  },
  {
   "cell_type": "code",
   "execution_count": 12,
   "metadata": {},
   "outputs": [
    {
     "name": "stdout",
     "output_type": "stream",
     "text": [
      "name      Aamir\n",
      "age       20\n",
      "city      lucknow\n"
     ]
    }
   ],
   "source": [
    "print(f'{\"name\":10}{name}')\n",
    "print(f'{\"age\":10}{age}')\n",
    "print(f'{\"city\":10}{city}')"
   ]
  },
  {
   "cell_type": "code",
   "execution_count": 13,
   "metadata": {},
   "outputs": [
    {
     "name": "stdout",
     "output_type": "stream",
     "text": [
      "name                                    Aamir\n",
      "age                                        20\n",
      "city                                  lucknow\n"
     ]
    }
   ],
   "source": [
    "print(f'{\"name\":10}{name:>35}')\n",
    "print(f'{\"age\":10}{age:>35}')\n",
    "print(f'{\"city\":10}{city:>35}')"
   ]
  },
  {
   "cell_type": "code",
   "execution_count": 14,
   "metadata": {},
   "outputs": [
    {
     "name": "stdout",
     "output_type": "stream",
     "text": [
      "name                     Aamir               \n",
      "age                       20                 \n",
      "city                    lucknow              \n"
     ]
    }
   ],
   "source": [
    "print(f'{\"name\":10}{name:^35}')\n",
    "print(f'{\"age\":10}{age:^35}')\n",
    "print(f'{\"city\":10}{city:^35}')"
   ]
  },
  {
   "cell_type": "code",
   "execution_count": 15,
   "metadata": {},
   "outputs": [],
   "source": [
    "result = f'{x} + {y} = {x + y}'"
   ]
  },
  {
   "cell_type": "code",
   "execution_count": 18,
   "metadata": {},
   "outputs": [
    {
     "name": "stdout",
     "output_type": "stream",
     "text": [
      "60.8276253029822\n",
      "60\n",
      "10\n"
     ]
    }
   ],
   "source": [
    "p = int(input(\"perpendicular\"))\n",
    "b = int(input(\"base\"))\n",
    "h = (p*p + b*b)**.5\n",
    "print(h)\n",
    "print(b)\n",
    "print(p)\n"
   ]
  },
  {
   "cell_type": "code",
   "execution_count": 17,
   "metadata": {},
   "outputs": [
    {
     "ename": "NameError",
     "evalue": "name 'name' is not defined",
     "output_type": "error",
     "traceback": [
      "\u001b[0;31m---------------------------------------------------------------------------\u001b[0m",
      "\u001b[0;31mNameError\u001b[0m                                 Traceback (most recent call last)",
      "\u001b[1;32m/workspaces/digipodium-ds/io.ipynb Cell 17\u001b[0m line \u001b[0;36m1\n\u001b[0;32m----> <a href='vscode-notebook-cell://codespaces%2Bsuper-duper-spork-g4qqrrq5xvpv3wg44/workspaces/digipodium-ds/io.ipynb#X22sdnNjb2RlLXJlbW90ZQ%3D%3D?line=0'>1</a>\u001b[0m \u001b[39mprint\u001b[39m(\u001b[39mf\u001b[39m\u001b[39m'\u001b[39m\u001b[39m{\u001b[39;00m\u001b[39m\"\u001b[39m\u001b[39mname\u001b[39m\u001b[39m\"\u001b[39m\u001b[39m:\u001b[39;00m\u001b[39m10\u001b[39m\u001b[39m}\u001b[39;00m\u001b[39m{\u001b[39;00mname\u001b[39m}\u001b[39;00m\u001b[39m'\u001b[39m)\n\u001b[1;32m      <a href='vscode-notebook-cell://codespaces%2Bsuper-duper-spork-g4qqrrq5xvpv3wg44/workspaces/digipodium-ds/io.ipynb#X22sdnNjb2RlLXJlbW90ZQ%3D%3D?line=1'>2</a>\u001b[0m \u001b[39mprint\u001b[39m(\u001b[39mf\u001b[39m\u001b[39m'\u001b[39m\u001b[39m{\u001b[39;00m\u001b[39m\"\u001b[39m\u001b[39mage\u001b[39m\u001b[39m\"\u001b[39m\u001b[39m:\u001b[39;00m\u001b[39m10\u001b[39m\u001b[39m}\u001b[39;00m\u001b[39m{\u001b[39;00mage\u001b[39m}\u001b[39;00m\u001b[39m'\u001b[39m)\n\u001b[1;32m      <a href='vscode-notebook-cell://codespaces%2Bsuper-duper-spork-g4qqrrq5xvpv3wg44/workspaces/digipodium-ds/io.ipynb#X22sdnNjb2RlLXJlbW90ZQ%3D%3D?line=2'>3</a>\u001b[0m \u001b[39mprint\u001b[39m(\u001b[39mf\u001b[39m\u001b[39m'\u001b[39m\u001b[39m{\u001b[39;00m\u001b[39m\"\u001b[39m\u001b[39mcity\u001b[39m\u001b[39m\"\u001b[39m\u001b[39m:\u001b[39;00m\u001b[39m10\u001b[39m\u001b[39m}\u001b[39;00m\u001b[39m{\u001b[39;00mcity\u001b[39m}\u001b[39;00m\u001b[39m'\u001b[39m)\n",
      "\u001b[0;31mNameError\u001b[0m: name 'name' is not defined"
     ]
    }
   ],
   "source": [
    "print(f'{\"name\":10}{name}')\n",
    "print(f'{\"age\":10}{age}')\n",
    "print(f'{\"city\":10}{city}')"
   ]
  },
  {
   "cell_type": "code",
   "execution_count": null,
   "metadata": {},
   "outputs": [],
   "source": []
  }
 ],
 "metadata": {
  "kernelspec": {
   "display_name": "base",
   "language": "python",
   "name": "python3"
  },
  "language_info": {
   "codemirror_mode": {
    "name": "ipython",
    "version": 3
   },
   "file_extension": ".py",
   "mimetype": "text/x-python",
   "name": "python",
   "nbconvert_exporter": "python",
   "pygments_lexer": "ipython3",
   "version": "3.10.8"
  },
  "orig_nbformat": 4
 },
 "nbformat": 4,
 "nbformat_minor": 2
}
