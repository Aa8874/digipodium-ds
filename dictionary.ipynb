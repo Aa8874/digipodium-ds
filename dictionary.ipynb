{
 "cells": [
  {
   "cell_type": "code",
   "execution_count": 3,
   "metadata": {},
   "outputs": [
    {
     "name": "stdout",
     "output_type": "stream",
     "text": [
      "{'first name': 'shavez', 'last name': 'Ahmed', 'age': 25, 'address': {'house no': '2/71', 'street': 'gomti nagar', 'city': 'lucknow', 'state': 'UP'}}\n"
     ]
    }
   ],
   "source": [
    "shavez = {\n",
    "    'first name' : 'shavez',\n",
    "    'last name' : 'Ahmed',\n",
    "    'age' : 25,\n",
    "    'address' : {\n",
    "        'house no' : '2/71',\n",
    "        'street' : 'gomti nagar',\n",
    "        'city' : 'lucknow',\n",
    "        'state' : 'UP',\n",
    "    }\n",
    "}\n",
    "\n",
    "print(shavez)"
   ]
  },
  {
   "cell_type": "code",
   "execution_count": 4,
   "metadata": {},
   "outputs": [
    {
     "name": "stdout",
     "output_type": "stream",
     "text": [
      "shavez\n",
      "25\n",
      "{'house no': '2/71', 'street': 'gomti nagar', 'city': 'lucknow', 'state': 'UP'}\n",
      "lucknow\n"
     ]
    }
   ],
   "source": [
    "print(shavez['first name'])\n",
    "print(shavez['age'])\n",
    "print(shavez['address'])\n",
    "print(shavez['address']['city'])\n"
   ]
  },
  {
   "cell_type": "code",
   "execution_count": 5,
   "metadata": {},
   "outputs": [
    {
     "name": "stdout",
     "output_type": "stream",
     "text": [
      "shavez\n",
      "None\n",
      "not found\n"
     ]
    }
   ],
   "source": [
    "print(shavez.get('first name', 'not found')) # default value optional\n",
    "print(shavez.get('middle name'))\n",
    "print(shavez.get('middle name', 'not found')) # default value optional"
   ]
  },
  {
   "cell_type": "code",
   "execution_count": 6,
   "metadata": {},
   "outputs": [
    {
     "name": "stdout",
     "output_type": "stream",
     "text": [
      "{'first name': 'shavez', 'last name': 'Ahmed', 'age': 24, 'address': {'house no': '2/71', 'street': 'gomti nagar', 'city': 'lucknow', 'state': 'UP'}}\n"
     ]
    }
   ],
   "source": [
    "# update value of a key \n",
    "shavez['age'] = 24\n",
    "print(shavez)"
   ]
  },
  {
   "cell_type": "code",
   "execution_count": 7,
   "metadata": {},
   "outputs": [
    {
     "name": "stdout",
     "output_type": "stream",
     "text": [
      "{'first name': 'shavez', 'last name': 'Ahmed', 'age': 24, 'address': {'house no': '2/71', 'street': 'gomti nagar', 'city': 'lucknow', 'state': 'UP', 'country': 'india'}, 'middle name': 'mahesh', 'phone': '1234566789'}\n"
     ]
    }
   ],
   "source": [
    "# adding an entry\n",
    "shavez['middle name'] = 'mahesh'\n",
    "shavez['address']['country'] = 'india'\n",
    "shavez['phone'] = '1234566789'\n",
    "\n",
    "print(shavez)"
   ]
  },
  {
   "cell_type": "code",
   "execution_count": 11,
   "metadata": {},
   "outputs": [
    {
     "ename": "KeyError",
     "evalue": "'middle name'",
     "output_type": "error",
     "traceback": [
      "\u001b[1;31m---------------------------------------------------------------------------\u001b[0m",
      "\u001b[1;31mKeyError\u001b[0m                                  Traceback (most recent call last)",
      "Cell \u001b[1;32mIn[11], line 2\u001b[0m\n\u001b[0;32m      1\u001b[0m \u001b[39m# remove an entry\u001b[39;00m\n\u001b[1;32m----> 2\u001b[0m shavez\u001b[39m.\u001b[39;49mpop(\u001b[39m'\u001b[39;49m\u001b[39mmiddle name\u001b[39;49m\u001b[39m'\u001b[39;49m)\n",
      "\u001b[1;31mKeyError\u001b[0m: 'middle name'"
     ]
    }
   ],
   "source": [
    "# remove an entry\n",
    "shavez.pop('middle name')"
   ]
  },
  {
   "cell_type": "code",
   "execution_count": 13,
   "metadata": {},
   "outputs": [
    {
     "name": "stdout",
     "output_type": "stream",
     "text": [
      "dict_keys(['first name', 'last name', 'age', 'address', 'phone'])\n",
      "dict_values(['shavez', 'Ahmed', 24, {'house no': '2/71', 'street': 'gomti nagar', 'city': 'lucknow', 'state': 'UP', 'country': 'india'}, '1234566789'])\n",
      "dict_items([('first name', 'shavez'), ('last name', 'Ahmed'), ('age', 24), ('address', {'house no': '2/71', 'street': 'gomti nagar', 'city': 'lucknow', 'state': 'UP', 'country': 'india'}), ('phone', '1234566789')])\n"
     ]
    }
   ],
   "source": [
    "# list all key\n",
    "print(shavez.keys())\n",
    "# list all value\n",
    "print(shavez.values())\n",
    "# list all key value pairs\n",
    "print(shavez.items())"
   ]
  },
  {
   "cell_type": "code",
   "execution_count": 14,
   "metadata": {},
   "outputs": [
    {
     "name": "stdout",
     "output_type": "stream",
     "text": [
      "shavez\n",
      "Ahmed\n",
      "24\n",
      "{'house no': '2/71', 'street': 'gomti nagar', 'city': 'lucknow', 'state': 'UP', 'country': 'india'}\n",
      "1234566789\n"
     ]
    }
   ],
   "source": [
    "for key in shavez:\n",
    "    print(shavez[key])"
   ]
  },
  {
   "cell_type": "code",
   "execution_count": 16,
   "metadata": {},
   "outputs": [
    {
     "name": "stdout",
     "output_type": "stream",
     "text": [
      "first name shavez\n",
      "last name Ahmed\n",
      "age 24\n",
      "address {'house no': '2/71', 'street': 'gomti nagar', 'city': 'lucknow', 'state': 'UP', 'country': 'india'}\n",
      "phone 1234566789\n"
     ]
    }
   ],
   "source": [
    "for k , v in shavez.items():\n",
    "    print(k , v)"
   ]
  },
  {
   "cell_type": "code",
   "execution_count": 17,
   "metadata": {},
   "outputs": [
    {
     "data": {
      "text/plain": [
       "'india'"
      ]
     },
     "execution_count": 17,
     "metadata": {},
     "output_type": "execute_result"
    }
   ],
   "source": [
    "shavez['address'].pop('country')"
   ]
  },
  {
   "cell_type": "code",
   "execution_count": 28,
   "metadata": {},
   "outputs": [],
   "source": [
    "# create a dictionary of 5 employes of account dept in a ACME company\n",
    "acme = {'account': {}}\n",
    "\n",
    "for i in range(5):\n",
    "    name = input('enter name: ')\n",
    "    desig = input('enter designation: ')\n",
    "    sal = int(input('enter salary: '))\n",
    "    acme['account'][f'emp{i+1}'] = {\n",
    "        \n",
    "        'name' : name,\n",
    "        'designation' : desig,\n",
    "        'salary' : sal\n",
    "    }"
   ]
  },
  {
   "cell_type": "code",
   "execution_count": 29,
   "metadata": {},
   "outputs": [],
   "source": [
    "from pprint import pp"
   ]
  },
  {
   "cell_type": "code",
   "execution_count": 30,
   "metadata": {},
   "outputs": [
    {
     "name": "stdout",
     "output_type": "stream",
     "text": [
      "{'account': {'emp1': {'name': 'efcr', 'designation': 'mnhc', 'salary': 36},\n",
      "             'emp2': {'name': 'nhb gxb', 'designation': 'kjknh', 'salary': 25},\n",
      "             'emp3': {'name': 'bvgxvg', 'designation': 'lijhb c', 'salary': 86},\n",
      "             'emp4': {'name': 'nhjvhxv',\n",
      "                      'designation': 'mjbvgxb',\n",
      "                      'salary': 14},\n",
      "             'emp5': {'name': 'nhxvgxb',\n",
      "                      'designation': 'khxbgx',\n",
      "                      'salary': 75}}}\n"
     ]
    }
   ],
   "source": [
    "pp(acme)"
   ]
  },
  {
   "cell_type": "code",
   "execution_count": 33,
   "metadata": {},
   "outputs": [
    {
     "name": "stdout",
     "output_type": "stream",
     "text": [
      "236\n"
     ]
    }
   ],
   "source": [
    "tsal = 0\n",
    "for emp in acme['account']:\n",
    "    tsal += acme['account'][emp]['salary']\n",
    "print(tsal)"
   ]
  },
  {
   "cell_type": "code",
   "execution_count": 34,
   "metadata": {},
   "outputs": [
    {
     "ename": "NameError",
     "evalue": "name 'contacts' is not defined",
     "output_type": "error",
     "traceback": [
      "\u001b[1;31m---------------------------------------------------------------------------\u001b[0m",
      "\u001b[1;31mNameError\u001b[0m                                 Traceback (most recent call last)",
      "Cell \u001b[1;32mIn[34], line 9\u001b[0m\n\u001b[0;32m      7\u001b[0m \u001b[39mwhile\u001b[39;00m \u001b[39mTrue\u001b[39;00m:\n\u001b[0;32m      8\u001b[0m  contact_name \u001b[39m=\u001b[39m \u001b[39minput\u001b[39m(\u001b[39m'\u001b[39m\u001b[39menter a name :  \u001b[39m\u001b[39m'\u001b[39m)\n\u001b[1;32m----> 9\u001b[0m  \u001b[39mif\u001b[39;00m contact_name \u001b[39min\u001b[39;00m contacts:\n\u001b[0;32m     10\u001b[0m   \u001b[39mprint\u001b[39m(\u001b[39m'\u001b[39m\u001b[39m😚 found contact\u001b[39m\u001b[39m'\u001b[39m)\n\u001b[0;32m     11\u001b[0m   \u001b[39mprint\u001b[39m(\u001b[39m'\u001b[39m\u001b[39mname\u001b[39m\u001b[39m'\u001b[39m , contact_name)\n",
      "\u001b[1;31mNameError\u001b[0m: name 'contacts' is not defined"
     ]
    }
   ],
   "source": [
    "# create a contact dictionary and \n",
    "# let user check if a contact exist\n",
    "# if yes , print the contact detail\n",
    "# if no , ask user to add the contact\n",
    "\n",
    "contacts = {'police' : 112}\n",
    "while True:\n",
    " contact_name = input('enter a name :  ')\n",
    " if contact_name in contacts:\n",
    "  print('😚 found contact')\n",
    "  print('name' , contact_name)\n",
    "  print('number' , contacts[contact_name])\n",
    " elif contact_name == 'exit':\n",
    "         break\n",
    " else:\n",
    "    print('✖️ contact not found')\n",
    "    print('add contact')\n",
    "    contact_name = input('enter contact no: ')\n",
    "    contacts[contact_name] = contact_name\n",
    "    print('👌 contact added')\n",
    "  \n"
   ]
  },
  {
   "cell_type": "code",
   "execution_count": null,
   "metadata": {},
   "outputs": [],
   "source": []
  }
 ],
 "metadata": {
  "kernelspec": {
   "display_name": "base",
   "language": "python",
   "name": "python3"
  },
  "language_info": {
   "codemirror_mode": {
    "name": "ipython",
    "version": 3
   },
   "file_extension": ".py",
   "mimetype": "text/x-python",
   "name": "python",
   "nbconvert_exporter": "python",
   "pygments_lexer": "ipython3",
   "version": "3.10.10"
  },
  "orig_nbformat": 4
 },
 "nbformat": 4,
 "nbformat_minor": 2
}
