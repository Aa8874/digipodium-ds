{
 "cells": [
  {
   "attachments": {},
   "cell_type": "markdown",
   "metadata": {},
   "source": [
    "for temp in iterable : \n",
    "       statement 1         \n",
    "       statement 2         \n",
    "       statement 3         \n",
    "       statement 4         \n",
    "       statement 5        \n",
    "       statement 6\n",
    "       iterable = string , list , tuple , set , dic ,generaters = range()      "
   ]
  },
  {
   "cell_type": "code",
   "execution_count": 2,
   "metadata": {},
   "outputs": [
    {
     "data": {
      "text/plain": [
       "['2', '1', '0', '3', '2', '0', '1']"
      ]
     },
     "execution_count": 2,
     "metadata": {},
     "output_type": "execute_result"
    }
   ],
   "source": [
    "x = 1023012\n",
    "list(str(x))[:: -1]"
   ]
  },
  {
   "cell_type": "code",
   "execution_count": 3,
   "metadata": {},
   "outputs": [
    {
     "name": "stdout",
     "output_type": "stream",
     "text": [
      "8\n"
     ]
    }
   ],
   "source": [
    "movies = [\n",
    "     'harry poter',\n",
    "     'batman begin',\n",
    "     'fast and furious 7',\n",
    "     'fast and furious 8',\n",
    "     'fast five ',\n",
    "     'dark night',\n",
    "     'inception',\n",
    "     'interseller'\n",
    "]\n",
    "print(len(movies\n",
    "          \n",
    "          \n",
    "          6581023.))"
   ]
  },
  {
   "cell_type": "code",
   "execution_count": 7,
   "metadata": {},
   "outputs": [
    {
     "name": "stdout",
     "output_type": "stream",
     "text": [
      "harry poter                             11chars\n",
      "batman begin                            12chars\n",
      "fast and furious 7                      18chars\n",
      "fast and furious 8                      18chars\n",
      "fast five                               10chars\n",
      "dark night                              10chars\n",
      "inception                               9chars\n",
      "interseller                             11chars\n"
     ]
    }
   ],
   "source": [
    "for title in movies:\n",
    "    print(f'{title:40}{len(title)}chars')"
   ]
  },
  {
   "cell_type": "code",
   "execution_count": 10,
   "metadata": {},
   "outputs": [
    {
     "name": "stdout",
     "output_type": "stream",
     "text": [
      "harry poter\n",
      "batman begin\n",
      "fast and furious 7\n",
      "fast and furious 8\n",
      "fast five \n",
      "dark night\n"
     ]
    }
   ],
   "source": [
    "for title in movies:\n",
    "    if 'a' in title or 'h' in title:\n",
    "        print(title)"
   ]
  },
  {
   "attachments": {},
   "cell_type": "markdown",
   "metadata": {},
   "source": [
    "nested loops "
   ]
  },
  {
   "cell_type": "code",
   "execution_count": 12,
   "metadata": {},
   "outputs": [],
   "source": [
    "books =[\n",
    "    ['warbreaker', 'brandon' , 10],\n",
    "    ['harry poters' , 'j.k.Rolling' , 10],\n",
    "    ['the well of ascension' , 'brandon sanderson' , 10],\n",
    "    ['ak' , 'brandon sanderson' , 10],\n",
    "    ['idk' , 'brandon sanderson' , 10],\n",
    "    ['the final empire' , 'brandon sanderson' , 10],\n",
    "    ['the final empire' , 'brandon sanderson' , 10],\n",
    "    ['the final empire' , 'brandon sanderson' , 10],\n",
    "    ['the final empire' , 'brandon sanderson' , 10],\n",
    "    ['the final empire' , 'brandon sanderson' , 10],\n",
    "    ['the final empire' , 'brandon sanderson' , 10],\n",
    "    ['the final empire' , 'brandon sanderson' , 10],\n",
    "    ['the final empire' , 'brandon sanderson' , 10],\n",
    "    ['the final empire' , 'brandon sanderson' , 10],\n",
    "\n",
    "\n",
    "]"
   ]
  },
  {
   "cell_type": "code",
   "execution_count": 13,
   "metadata": {},
   "outputs": [
    {
     "name": "stdout",
     "output_type": "stream",
     "text": [
      "warbreaker\n",
      "brandon\n",
      "10\n",
      "\n",
      "harry poters\n",
      "j.k.Rolling\n",
      "10\n",
      "\n",
      "the well of ascension\n",
      "brandon sanderson\n",
      "10\n",
      "\n",
      "ak\n",
      "brandon sanderson\n",
      "10\n",
      "\n",
      "idk\n",
      "brandon sanderson\n",
      "10\n",
      "\n",
      "the final empire\n",
      "brandon sanderson\n",
      "10\n",
      "\n",
      "the final empire\n",
      "brandon sanderson\n",
      "10\n",
      "\n",
      "the final empire\n",
      "brandon sanderson\n",
      "10\n",
      "\n",
      "the final empire\n",
      "brandon sanderson\n",
      "10\n",
      "\n",
      "the final empire\n",
      "brandon sanderson\n",
      "10\n",
      "\n",
      "the final empire\n",
      "brandon sanderson\n",
      "10\n",
      "\n",
      "the final empire\n",
      "brandon sanderson\n",
      "10\n",
      "\n",
      "the final empire\n",
      "brandon sanderson\n",
      "10\n",
      "\n",
      "the final empire\n",
      "brandon sanderson\n",
      "10\n",
      "\n"
     ]
    }
   ],
   "source": [
    "for book in books:\n",
    "    for field in book:\n",
    "        print(field)\n",
    "    print()"
   ]
  },
  {
   "cell_type": "code",
   "execution_count": 16,
   "metadata": {},
   "outputs": [
    {
     "name": "stdout",
     "output_type": "stream",
     "text": [
      "title: warbreaker\n",
      "autor: brandon\n",
      "rating: 10\n",
      "\n",
      "title: harry poters\n",
      "autor: j.k.Rolling\n",
      "rating: 10\n",
      "\n",
      "title: the well of ascension\n",
      "autor: brandon sanderson\n",
      "rating: 10\n",
      "\n",
      "title: ak\n",
      "autor: brandon sanderson\n",
      "rating: 10\n",
      "\n",
      "title: idk\n",
      "autor: brandon sanderson\n",
      "rating: 10\n",
      "\n",
      "title: the final empire\n",
      "autor: brandon sanderson\n",
      "rating: 10\n",
      "\n",
      "title: the final empire\n",
      "autor: brandon sanderson\n",
      "rating: 10\n",
      "\n",
      "title: the final empire\n",
      "autor: brandon sanderson\n",
      "rating: 10\n",
      "\n",
      "title: the final empire\n",
      "autor: brandon sanderson\n",
      "rating: 10\n",
      "\n",
      "title: the final empire\n",
      "autor: brandon sanderson\n",
      "rating: 10\n",
      "\n",
      "title: the final empire\n",
      "autor: brandon sanderson\n",
      "rating: 10\n",
      "\n",
      "title: the final empire\n",
      "autor: brandon sanderson\n",
      "rating: 10\n",
      "\n",
      "title: the final empire\n",
      "autor: brandon sanderson\n",
      "rating: 10\n",
      "\n",
      "title: the final empire\n",
      "autor: brandon sanderson\n",
      "rating: 10\n",
      "\n"
     ]
    }
   ],
   "source": [
    "for book in books:\n",
    "    print(f'title: {book[0]}')\n",
    "    print(f'autor: {book[1]}')\n",
    "    print(f'rating: {book[2]}')\n",
    "    print()\n",
    "\n"
   ]
  },
  {
   "cell_type": "code",
   "execution_count": 1,
   "metadata": {},
   "outputs": [
    {
     "name": "stdout",
     "output_type": "stream",
     "text": [
      "239\n",
      "530\n",
      "103\n",
      "600\n",
      "100\n"
     ]
    }
   ],
   "source": [
    "prices = [239 , 530 , 103 ,600 , 100 , None , 4000 , 99 ]\n",
    "\n",
    "for price in prices:\n",
    "    if price is None:\n",
    "        break\n",
    "    print(price)"
   ]
  },
  {
   "cell_type": "code",
   "execution_count": 2,
   "metadata": {},
   "outputs": [
    {
     "name": "stdout",
     "output_type": "stream",
     "text": [
      "239\n",
      "530\n",
      "103\n",
      "600\n",
      "100\n",
      "4000\n",
      "99\n"
     ]
    }
   ],
   "source": [
    "prices = [239 , 530 ,None, 103 ,600 , 100 , None , 4000 , 99, None ]\n",
    "for price in prices:\n",
    "    if price is None:\n",
    "        continue\n",
    "    print(price)"
   ]
  },
  {
   "cell_type": "code",
   "execution_count": 3,
   "metadata": {},
   "outputs": [
    {
     "name": "stdout",
     "output_type": "stream",
     "text": [
      "0 Namita\n",
      "1 Shreya\n",
      "2 Vidushi\n",
      "3 Aamir\n"
     ]
    }
   ],
   "source": [
    "names = ['Namita' , 'Shreya' , 'Vidushi' , 'Aamir']\n",
    "\n",
    "for idx, name in enumerate(names):\n",
    "    print(idx , name)"
   ]
  },
  {
   "cell_type": "code",
   "execution_count": 4,
   "metadata": {},
   "outputs": [
    {
     "name": "stdout",
     "output_type": "stream",
     "text": [
      "(0, 'Namita')\n",
      "(1, 'Shreya')\n",
      "(2, 'Vidushi')\n",
      "(3, 'Aamir')\n"
     ]
    }
   ],
   "source": [
    "names = ['Namita' , 'Shreya' , 'Vidushi' , 'Aamir']\n",
    "# turples mai ans aaye gya \n",
    "for name in enumerate(names):\n",
    "    print(name)"
   ]
  },
  {
   "cell_type": "code",
   "execution_count": 2,
   "metadata": {},
   "outputs": [
    {
     "name": "stdout",
     "output_type": "stream",
     "text": [
      "bread    20     2    40\n",
      "milk     60     1    60\n",
      "butter   100     2   200\n"
     ]
    }
   ],
   "source": [
    "grocery = ['bread' , 'milk' , 'butter' , 'cheese']\n",
    "prices = [20 ,60 , 100]\n",
    "qtys = [2 ,1 , 2]\n",
    "\n",
    "for g, p , q in zip(grocery , prices , qtys):\n",
    "    print(f'{g:5} {p:5} {q:5} {p*q:5}')\n"
   ]
  },
  {
   "cell_type": "code",
   "execution_count": 12,
   "metadata": {},
   "outputs": [
    {
     "name": "stdout",
     "output_type": "stream",
     "text": [
      "7 => prime\n"
     ]
    }
   ],
   "source": [
    "#prime no. check \n",
    "num = int(input(\"Enter a no\"))\n",
    "for i in range(2, num):\n",
    "    if num % i == 0:\n",
    "        print(f'{num} => ~prime')\n",
    "        break\n",
    "else:\n",
    "    print(f'{num} => prime')"
   ]
  },
  {
   "cell_type": "code",
   "execution_count": 13,
   "metadata": {},
   "outputs": [
    {
     "name": "stdout",
     "output_type": "stream",
     "text": [
      "654321\n"
     ]
    }
   ],
   "source": [
    "num = 123456\n",
    "rev = 0\n",
    "while(num > 0):\n",
    "    last_digitis = num % 10 # remainder\n",
    "    rev = rev * 10 + last_digitis \n",
    "    num = num // 10 # quotient\n",
    "print(rev)"
   ]
  },
  {
   "cell_type": "code",
   "execution_count": null,
   "metadata": {},
   "outputs": [],
   "source": [
    "username = 'admin'\n",
    "password = 'admin124'\n",
    "while True:\n",
    "    u = input('usename: ')\n",
    "    p = input('password: ')\n",
    "    if u == username and p == password:\n",
    "        print(\"logged in\")\n",
    "        break\n",
    "    else:\n",
    "        print('invalid')\n",
    "        continue"
   ]
  },
  {
   "cell_type": "code",
   "execution_count": 27,
   "metadata": {},
   "outputs": [],
   "source": [
    "n = int(input(\"enter a number\"))\n",
    "while n > 0 and n <= 100:\n",
    "    print(\"the no. is not positive and not in range 1 to 100\")\n",
    "    n = int(input(\"enter a number\"))\n",
    "    if n % 2 == 0:\n",
    "        if n>2 and n<5:\n",
    "            print(\"not weird\")\n",
    "        elif n>=6 and n<=20:\n",
    "            print(\"weird\")\n",
    "        else:\n",
    "            print(\"not weird\")\n",
    "    else:\n",
    "        print(\"Weird\")"
   ]
  },
  {
   "cell_type": "code",
   "execution_count": 7,
   "metadata": {},
   "outputs": [
    {
     "name": "stdout",
     "output_type": "stream",
     "text": [
      "the no. is not positive and not in range 1 to 100\n"
     ]
    }
   ],
   "source": [
    "n = int(input(\"enter a number\"))\n",
    "if n > 0 and n<= 100:\n",
    "    print(\"positive \")\n",
    "else:\n",
    "    print(\"the no. is not positive and not in range 1 to 100\")\n",
    "    n = int(input(\"enter a number\"))"
   ]
  },
  {
   "cell_type": "code",
   "execution_count": 22,
   "metadata": {},
   "outputs": [
    {
     "name": "stdout",
     "output_type": "stream",
     "text": [
      "Not Weird\n"
     ]
    }
   ],
   "source": [
    "n = int(input(\"Enter a positive integer: \"))\n",
    "\n",
    "if n % 2 != 0:\n",
    "    print(\"Weird\")\n",
    "elif n % 2 == 0 and 2 <= n <= 5:\n",
    "    print(\"Not Weird\")\n",
    "elif n % 2 == 0 and 6 <= n <= 20:\n",
    "    print(\"Weird\")\n",
    "else:\n",
    "    print(\"Not Weird\")"
   ]
  },
  {
   "cell_type": "code",
   "execution_count": 28,
   "metadata": {},
   "outputs": [
    {
     "name": "stdout",
     "output_type": "stream",
     "text": [
      "1\n",
      "2\n",
      "4\n",
      "Buzz\n",
      "Fizz\n",
      "7\n",
      "FizzBuzz\n",
      "15223\n",
      "FizzBuzz\n",
      "FizzBuzz\n",
      "Fizz\n",
      "Fizz\n",
      "Buzz\n"
     ]
    },
    {
     "ename": "ValueError",
     "evalue": "invalid literal for int() with base 10: ''",
     "output_type": "error",
     "traceback": [
      "\u001b[0;31m---------------------------------------------------------------------------\u001b[0m",
      "\u001b[0;31mValueError\u001b[0m                                Traceback (most recent call last)",
      "\u001b[1;32m/workspaces/digipodium-ds/loops.ipynb Cell 21\u001b[0m line \u001b[0;36m1\n\u001b[1;32m     <a href='vscode-notebook-cell://codespaces%2Bsuper-duper-spork-g4qqrrq5xvpv3wg44/workspaces/digipodium-ds/loops.ipynb#X26sdnNjb2RlLXJlbW90ZQ%3D%3D?line=14'>15</a>\u001b[0m \u001b[39mif\u001b[39;00m \u001b[39m__name__\u001b[39m \u001b[39m==\u001b[39m \u001b[39m'\u001b[39m\u001b[39m__main__\u001b[39m\u001b[39m'\u001b[39m:\n\u001b[1;32m     <a href='vscode-notebook-cell://codespaces%2Bsuper-duper-spork-g4qqrrq5xvpv3wg44/workspaces/digipodium-ds/loops.ipynb#X26sdnNjb2RlLXJlbW90ZQ%3D%3D?line=16'>17</a>\u001b[0m  \u001b[39mfor\u001b[39;00m n \u001b[39min\u001b[39;00m \u001b[39mrange\u001b[39m(\u001b[39m1\u001b[39m , \u001b[39m15\u001b[39m):\n\u001b[0;32m---> <a href='vscode-notebook-cell://codespaces%2Bsuper-duper-spork-g4qqrrq5xvpv3wg44/workspaces/digipodium-ds/loops.ipynb#X26sdnNjb2RlLXJlbW90ZQ%3D%3D?line=17'>18</a>\u001b[0m      n \u001b[39m=\u001b[39m \u001b[39mint\u001b[39;49m(\u001b[39minput\u001b[39;49m(\u001b[39m\"\u001b[39;49m\u001b[39menter a number\u001b[39;49m\u001b[39m\"\u001b[39;49m))\n\u001b[1;32m     <a href='vscode-notebook-cell://codespaces%2Bsuper-duper-spork-g4qqrrq5xvpv3wg44/workspaces/digipodium-ds/loops.ipynb#X26sdnNjb2RlLXJlbW90ZQ%3D%3D?line=19'>20</a>\u001b[0m      fizzBuzz(n)\n",
      "\u001b[0;31mValueError\u001b[0m: invalid literal for int() with base 10: ''"
     ]
    }
   ],
   "source": [
    "def fizzBuzz(n):\n",
    "    # Write your code here\n",
    "    if n % 3 == 0 and n % 5 == 0:\n",
    "        print(\"FizzBuzz\")\n",
    "    elif n % 3 == 0 and n % 5 != 0:\n",
    "        print(\"Fizz\")\n",
    "    elif n % 3 != 0 and n % 5 == 0:\n",
    "        print(\"Buzz\")\n",
    "    else:\n",
    "        print(n)\n",
    "        \n",
    "        \n",
    "    \n",
    "\n",
    "if __name__ == '__main__':\n",
    "   \n",
    " for n in range(1 , 15):\n",
    "     n = int(input(\"enter a number\"))\n",
    "\n",
    "     fizzBuzz(n)"
   ]
  },
  {
   "cell_type": "code",
   "execution_count": 30,
   "metadata": {},
   "outputs": [
    {
     "name": "stdout",
     "output_type": "stream",
     "text": [
      "the no. is not positive and not in range 1 to 100\n"
     ]
    }
   ],
   "source": [
    "n = int(input(\"enter a number\"))\n",
    "if n > 0 and n<= 100:\n",
    "    if n % 2 == 0:\n",
    "        if n>2 and n<5:\n",
    "            print(\"not weird\")\n",
    "        elif n>6 and n<20:\n",
    "            print(\"weird\")\n",
    "        else:\n",
    "            print(\"not weird\")\n",
    "    else:\n",
    "        print(\"Weird\")\n",
    "else:\n",
    "    print(\"the no. is not positive and not in range 1 to 100\")\n",
    "    n = int(input(\"enter a number\"))"
   ]
  },
  {
   "cell_type": "code",
   "execution_count": 3,
   "metadata": {},
   "outputs": [
    {
     "name": "stdout",
     "output_type": "stream",
     "text": [
      "20.30742313418173\n"
     ]
    }
   ],
   "source": [
    "a = 6564424525\n",
    "b = 323252462\n",
    "result2 = a / b\n",
    "print(result2)"
   ]
  },
  {
   "cell_type": "code",
   "execution_count": 35,
   "metadata": {},
   "outputs": [
    {
     "name": "stdout",
     "output_type": "stream",
     "text": [
      "True\n"
     ]
    }
   ],
   "source": [
    "def is_leap(year):\n",
    "    leap = False\n",
    "    if year % 4 == 0 and year % 100 != 0:\n",
    "        leap = True\n",
    "    elif year % 400 == 0:\n",
    "        leap = True\n",
    "    # Write your logic here\n",
    "    \n",
    "    return leap\n",
    "\n",
    "year = int(input())\n",
    "print(is_leap(year))"
   ]
  },
  {
   "cell_type": "code",
   "execution_count": 10,
   "metadata": {},
   "outputs": [
    {
     "name": "stdout",
     "output_type": "stream",
     "text": [
      "True\n",
      "True\n",
      "True\n"
     ]
    }
   ],
   "source": [
    "if __name__ == '__main__':\n",
    "    s = input()\n",
    "    sl = len(s)\n",
    "    a = False\n",
    "    for i in range(sl):\n",
    "        if s[i].isalnum() and s[i].isalpha():\n",
    "                a = True\n",
    "                print(a)\n",
    "        elif s[i].isdigit():\n",
    "                a = True\n",
    "                print(a)\n",
    "        elif s[i].isupper():\n",
    "                a = True\n",
    "                print(a)\n",
    "        elif s[i].islower():\n",
    "                a = True\n",
    "                print(a)\n",
    "        else:\n",
    "                print(a)"
   ]
  },
  {
   "cell_type": "code",
   "execution_count": null,
   "metadata": {},
   "outputs": [],
   "source": []
  },
  {
   "cell_type": "code",
   "execution_count": null,
   "metadata": {},
   "outputs": [],
   "source": []
  },
  {
   "cell_type": "code",
   "execution_count": null,
   "metadata": {},
   "outputs": [],
   "source": []
  },
  {
   "cell_type": "code",
   "execution_count": null,
   "metadata": {},
   "outputs": [],
   "source": []
  },
  {
   "cell_type": "code",
   "execution_count": null,
   "metadata": {},
   "outputs": [],
   "source": []
  }
 ],
 "metadata": {
  "kernelspec": {
   "display_name": "base",
   "language": "python",
   "name": "python3"
  },
  "language_info": {
   "codemirror_mode": {
    "name": "ipython",
    "version": 3
   },
   "file_extension": ".py",
   "mimetype": "text/x-python",
   "name": "python",
   "nbconvert_exporter": "python",
   "pygments_lexer": "ipython3",
   "version": "3.10.8"
  },
  "orig_nbformat": 4
 },
 "nbformat": 4,
 "nbformat_minor": 2
}
