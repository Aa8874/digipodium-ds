{
 "cells": [
  {
   "attachments": {},
   "cell_type": "markdown",
   "metadata": {},
   "source": [
    "for temp in iterable : \n",
    "       statement 1         \n",
    "       statement 2         \n",
    "       statement 3         \n",
    "       statement 4         \n",
    "       statement 5        \n",
    "       statement 6\n",
    "       iterable = string , list , tuple , set , dic ,generaters = range()      "
   ]
  },
  {
   "cell_type": "code",
   "execution_count": 2,
   "metadata": {},
   "outputs": [
    {
     "data": {
      "text/plain": [
       "['2', '1', '0', '3', '2', '0', '1']"
      ]
     },
     "execution_count": 2,
     "metadata": {},
     "output_type": "execute_result"
    }
   ],
   "source": [
    "x = 1023012\n",
    "list(str(x))[:: -1]"
   ]
  },
  {
   "cell_type": "code",
   "execution_count": 3,
   "metadata": {},
   "outputs": [
    {
     "name": "stdout",
     "output_type": "stream",
     "text": [
      "8\n"
     ]
    }
   ],
   "source": [
    "movies = [\n",
    "     'harry poter',\n",
    "     'batman begin',\n",
    "     'fast and furious 7',\n",
    "     'fast and furious 8',\n",
    "     'fast five ',\n",
    "     'dark night',\n",
    "     'inception',\n",
    "     'interseller'\n",
    "]\n",
    "print(len(movies))"
   ]
  },
  {
   "cell_type": "code",
   "execution_count": 7,
   "metadata": {},
   "outputs": [
    {
     "name": "stdout",
     "output_type": "stream",
     "text": [
      "harry poter                             11chars\n",
      "batman begin                            12chars\n",
      "fast and furious 7                      18chars\n",
      "fast and furious 8                      18chars\n",
      "fast five                               10chars\n",
      "dark night                              10chars\n",
      "inception                               9chars\n",
      "interseller                             11chars\n"
     ]
    }
   ],
   "source": [
    "for title in movies:\n",
    "    print(f'{title:40}{len(title)}chars')"
   ]
  },
  {
   "cell_type": "code",
   "execution_count": 10,
   "metadata": {},
   "outputs": [
    {
     "name": "stdout",
     "output_type": "stream",
     "text": [
      "harry poter\n",
      "batman begin\n",
      "fast and furious 7\n",
      "fast and furious 8\n",
      "fast five \n",
      "dark night\n"
     ]
    }
   ],
   "source": [
    "for title in movies:\n",
    "    if 'a' in title or 'h' in title:\n",
    "        print(title)"
   ]
  },
  {
   "attachments": {},
   "cell_type": "markdown",
   "metadata": {},
   "source": [
    "nested loops "
   ]
  },
  {
   "cell_type": "code",
   "execution_count": 12,
   "metadata": {},
   "outputs": [],
   "source": [
    "books =[\n",
    "    ['warbreaker', 'brandon' , 10],\n",
    "    ['harry poters' , 'j.k.Rolling' , 10],\n",
    "    ['the well of ascension' , 'brandon sanderson' , 10],\n",
    "    ['ak' , 'brandon sanderson' , 10],\n",
    "    ['idk' , 'brandon sanderson' , 10],\n",
    "    ['the final empire' , 'brandon sanderson' , 10],\n",
    "    ['the final empire' , 'brandon sanderson' , 10],\n",
    "    ['the final empire' , 'brandon sanderson' , 10],\n",
    "    ['the final empire' , 'brandon sanderson' , 10],\n",
    "    ['the final empire' , 'brandon sanderson' , 10],\n",
    "    ['the final empire' , 'brandon sanderson' , 10],\n",
    "    ['the final empire' , 'brandon sanderson' , 10],\n",
    "    ['the final empire' , 'brandon sanderson' , 10],\n",
    "    ['the final empire' , 'brandon sanderson' , 10],\n",
    "\n",
    "\n",
    "]"
   ]
  },
  {
   "cell_type": "code",
   "execution_count": 13,
   "metadata": {},
   "outputs": [
    {
     "name": "stdout",
     "output_type": "stream",
     "text": [
      "warbreaker\n",
      "brandon\n",
      "10\n",
      "\n",
      "harry poters\n",
      "j.k.Rolling\n",
      "10\n",
      "\n",
      "the well of ascension\n",
      "brandon sanderson\n",
      "10\n",
      "\n",
      "ak\n",
      "brandon sanderson\n",
      "10\n",
      "\n",
      "idk\n",
      "brandon sanderson\n",
      "10\n",
      "\n",
      "the final empire\n",
      "brandon sanderson\n",
      "10\n",
      "\n",
      "the final empire\n",
      "brandon sanderson\n",
      "10\n",
      "\n",
      "the final empire\n",
      "brandon sanderson\n",
      "10\n",
      "\n",
      "the final empire\n",
      "brandon sanderson\n",
      "10\n",
      "\n",
      "the final empire\n",
      "brandon sanderson\n",
      "10\n",
      "\n",
      "the final empire\n",
      "brandon sanderson\n",
      "10\n",
      "\n",
      "the final empire\n",
      "brandon sanderson\n",
      "10\n",
      "\n",
      "the final empire\n",
      "brandon sanderson\n",
      "10\n",
      "\n",
      "the final empire\n",
      "brandon sanderson\n",
      "10\n",
      "\n"
     ]
    }
   ],
   "source": [
    "for book in books:\n",
    "    for field in book:\n",
    "        print(field)\n",
    "    print()"
   ]
  },
  {
   "cell_type": "code",
   "execution_count": 16,
   "metadata": {},
   "outputs": [
    {
     "name": "stdout",
     "output_type": "stream",
     "text": [
      "title: warbreaker\n",
      "autor: brandon\n",
      "rating: 10\n",
      "\n",
      "title: harry poters\n",
      "autor: j.k.Rolling\n",
      "rating: 10\n",
      "\n",
      "title: the well of ascension\n",
      "autor: brandon sanderson\n",
      "rating: 10\n",
      "\n",
      "title: ak\n",
      "autor: brandon sanderson\n",
      "rating: 10\n",
      "\n",
      "title: idk\n",
      "autor: brandon sanderson\n",
      "rating: 10\n",
      "\n",
      "title: the final empire\n",
      "autor: brandon sanderson\n",
      "rating: 10\n",
      "\n",
      "title: the final empire\n",
      "autor: brandon sanderson\n",
      "rating: 10\n",
      "\n",
      "title: the final empire\n",
      "autor: brandon sanderson\n",
      "rating: 10\n",
      "\n",
      "title: the final empire\n",
      "autor: brandon sanderson\n",
      "rating: 10\n",
      "\n",
      "title: the final empire\n",
      "autor: brandon sanderson\n",
      "rating: 10\n",
      "\n",
      "title: the final empire\n",
      "autor: brandon sanderson\n",
      "rating: 10\n",
      "\n",
      "title: the final empire\n",
      "autor: brandon sanderson\n",
      "rating: 10\n",
      "\n",
      "title: the final empire\n",
      "autor: brandon sanderson\n",
      "rating: 10\n",
      "\n",
      "title: the final empire\n",
      "autor: brandon sanderson\n",
      "rating: 10\n",
      "\n"
     ]
    }
   ],
   "source": [
    "for book in books:\n",
    "    print(f'title: {book[0]}')\n",
    "    print(f'autor: {book[1]}')\n",
    "    print(f'rating: {book[2]}')\n",
    "    print()\n",
    "\n"
   ]
  },
  {
   "cell_type": "code",
   "execution_count": null,
   "metadata": {},
   "outputs": [],
   "source": []
  }
 ],
 "metadata": {
  "kernelspec": {
   "display_name": "base",
   "language": "python",
   "name": "python3"
  },
  "language_info": {
   "codemirror_mode": {
    "name": "ipython",
    "version": 3
   },
   "file_extension": ".py",
   "mimetype": "text/x-python",
   "name": "python",
   "nbconvert_exporter": "python",
   "pygments_lexer": "ipython3",
   "version": "3.10.10"
  },
  "orig_nbformat": 4
 },
 "nbformat": 4,
 "nbformat_minor": 2
}
