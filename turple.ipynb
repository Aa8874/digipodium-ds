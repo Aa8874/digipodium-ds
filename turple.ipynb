{
 "cells": [
  {
   "cell_type": "code",
   "execution_count": 1,
   "metadata": {},
   "outputs": [
    {
     "name": "stdout",
     "output_type": "stream",
     "text": [
      "(1, 2, 3)\n",
      "<class 'tuple'>\n"
     ]
    }
   ],
   "source": [
    "x = (1,2,3)\n",
    "print(x)\n",
    "print(type(x))"
   ]
  },
  {
   "cell_type": "code",
   "execution_count": 3,
   "metadata": {},
   "outputs": [
    {
     "name": "stdout",
     "output_type": "stream",
     "text": [
      "(1, 2, 3, 4)\n",
      "<class 'tuple'>\n"
     ]
    }
   ],
   "source": [
    "y = 1, 2, 3, 4# tuple packing\n",
    "print(y)\n",
    "print(type(y))"
   ]
  },
  {
   "cell_type": "code",
   "execution_count": 3,
   "metadata": {},
   "outputs": [
    {
     "name": "stdout",
     "output_type": "stream",
     "text": [
      "(1, 2, 3, 4)\n",
      "('h', 'e', 'l', 'l', 'o')\n"
     ]
    }
   ],
   "source": [
    "z = tuple([1 , 2 ,3 , 4]) # tuple from a iterable\n",
    "zs = tuple('hello') # \n",
    "print(z)\n",
    "print(zs)"
   ]
  },
  {
   "cell_type": "code",
   "execution_count": 4,
   "metadata": {},
   "outputs": [
    {
     "name": "stdout",
     "output_type": "stream",
     "text": [
      "2\n",
      "3\n"
     ]
    }
   ],
   "source": [
    "# tuple functions\n",
    "x = (12 , 21 , 12 , 312 , 5 ,  25 , 553)\n",
    "print(x.count(12))\n",
    "print(x.index(312))"
   ]
  },
  {
   "cell_type": "code",
   "execution_count": 7,
   "metadata": {},
   "outputs": [
    {
     "name": "stdout",
     "output_type": "stream",
     "text": [
      "<class 'tuple'>\n"
     ]
    }
   ],
   "source": [
    "x = (2,) # single element tuple needs a comma\n",
    "print(type(x))"
   ]
  },
  {
   "cell_type": "code",
   "execution_count": 4,
   "metadata": {},
   "outputs": [
    {
     "data": {
      "text/plain": [
       "(1, 2, 3, 4)"
      ]
     },
     "execution_count": 4,
     "metadata": {},
     "output_type": "execute_result"
    }
   ],
   "source": [
    "y "
   ]
  },
  {
   "cell_type": "code",
   "execution_count": 5,
   "metadata": {},
   "outputs": [
    {
     "name": "stdout",
     "output_type": "stream",
     "text": [
      "(1, 2, 3, 4)\n",
      "1 2 3 4\n"
     ]
    },
    {
     "ename": "ValueError",
     "evalue": "too many values to unpack (expected 2)",
     "output_type": "error",
     "traceback": [
      "\u001b[0;31m---------------------------------------------------------------------------\u001b[0m",
      "\u001b[0;31mValueError\u001b[0m                                Traceback (most recent call last)",
      "\u001b[1;32m/workspaces/digipodium-ds/turple.ipynb Cell 7\u001b[0m line \u001b[0;36m7\n\u001b[1;32m      <a href='vscode-notebook-cell://codespaces%2Bsuper-duper-spork-g4qqrrq5xvpv3wg44/workspaces/digipodium-ds/turple.ipynb#W6sdnNjb2RlLXJlbW90ZQ%3D%3D?line=3'>4</a>\u001b[0m \u001b[39mprint\u001b[39m(a , b , c ,d)\n\u001b[1;32m      <a href='vscode-notebook-cell://codespaces%2Bsuper-duper-spork-g4qqrrq5xvpv3wg44/workspaces/digipodium-ds/turple.ipynb#W6sdnNjb2RlLXJlbW90ZQ%3D%3D?line=4'>5</a>\u001b[0m \u001b[39m# a , b = y  too many values to unpack (expected 2)\u001b[39;00m\n\u001b[1;32m      <a href='vscode-notebook-cell://codespaces%2Bsuper-duper-spork-g4qqrrq5xvpv3wg44/workspaces/digipodium-ds/turple.ipynb#W6sdnNjb2RlLXJlbW90ZQ%3D%3D?line=5'>6</a>\u001b[0m \u001b[39m# a , b , c , d , e = y not enough values to unpack (expected 5, got 4)\u001b[39;00m\n\u001b[0;32m----> <a href='vscode-notebook-cell://codespaces%2Bsuper-duper-spork-g4qqrrq5xvpv3wg44/workspaces/digipodium-ds/turple.ipynb#W6sdnNjb2RlLXJlbW90ZQ%3D%3D?line=6'>7</a>\u001b[0m a , b \u001b[39m=\u001b[39m y\n",
      "\u001b[0;31mValueError\u001b[0m: too many values to unpack (expected 2)"
     ]
    }
   ],
   "source": [
    "a = y\n",
    "print(a)\n",
    "a , b , c , d = y # tuple unpacking\n",
    "print(a , b , c ,d)\n",
    "# a , b = y  too many values to unpack (expected 2)\n",
    "# a , b , c , d , e = y not enough values to unpack (expected 5, got 4)\n",
    "a , b = y"
   ]
  },
  {
   "cell_type": "code",
   "execution_count": 14,
   "metadata": {},
   "outputs": [
    {
     "name": "stdout",
     "output_type": "stream",
     "text": [
      "1 2 [3, 4]\n",
      "1 [2, 3, 4]\n",
      "1 [2, 3] 4\n"
     ]
    }
   ],
   "source": [
    "a , b , * c = y # tuple unpacking\n",
    "print(a , b ,c)\n",
    "a , *b = y\n",
    "print(a ,b)\n",
    "a , *b, c = y\n",
    "print(a,b,c)"
   ]
  },
  {
   "cell_type": "markdown",
   "metadata": {},
   "source": [
    "# set "
   ]
  },
  {
   "cell_type": "code",
   "execution_count": 16,
   "metadata": {},
   "outputs": [
    {
     "name": "stdout",
     "output_type": "stream",
     "text": [
      "{1, 2, 4, 5, 6, 7, 9, 10}\n"
     ]
    }
   ],
   "source": [
    "\n",
    "x = { 2 , 1 , 4 , 6 , 5 ,7 ,10 , 9}\n",
    "print(x)"
   ]
  },
  {
   "cell_type": "code",
   "execution_count": 17,
   "metadata": {},
   "outputs": [
    {
     "name": "stdout",
     "output_type": "stream",
     "text": [
      "{'apple', 'orange', 'banana', 'pear'}\n"
     ]
    }
   ],
   "source": [
    "fruits = {'apple' , 'orange' , 'apple' , 'pear' , 'orange' , 'banana'}\n",
    "print(fruits)"
   ]
  },
  {
   "cell_type": "code",
   "execution_count": 18,
   "metadata": {},
   "outputs": [
    {
     "name": "stdout",
     "output_type": "stream",
     "text": [
      "{'apple', 'orange', 'grape', 'banana', 'pear'}\n",
      "{'apple', 'orange', 'grape', 'banana', 'pear'}\n"
     ]
    }
   ],
   "source": [
    "fruits.add('grape')\n",
    "print(fruits)\n",
    "fruits.add('apple')\n",
    "print(fruits)"
   ]
  },
  {
   "cell_type": "code",
   "execution_count": 19,
   "metadata": {},
   "outputs": [
    {
     "name": "stdout",
     "output_type": "stream",
     "text": [
      "{'orange', 'grape', 'banana', 'pear'}\n",
      "{'orange', 'grape', 'banana', 'pear'}\n"
     ]
    }
   ],
   "source": [
    "fruits.discard('apple')\n",
    "print(fruits)\n",
    "fruits.discard('custard apple')\n",
    "print(fruits)"
   ]
  },
  {
   "cell_type": "code",
   "execution_count": 21,
   "metadata": {},
   "outputs": [],
   "source": [
    "a = {1 , 2 , 3 , 8 , 9 , 0}\n",
    "b = {2 , 4 , 6 , 8 , 10}\n",
    "c = {3 , 7 , 9 , 11 , 15}\n",
    "d = {12 , 14 , 16 , 18 , 14}\n"
   ]
  },
  {
   "cell_type": "code",
   "execution_count": 24,
   "metadata": {},
   "outputs": [
    {
     "name": "stdout",
     "output_type": "stream",
     "text": [
      "{0, 1, 2, 3, 4, 6, 8, 9, 10}\n"
     ]
    }
   ],
   "source": [
    "a | b # union \n",
    "print(a.union(b))"
   ]
  },
  {
   "cell_type": "code",
   "execution_count": 26,
   "metadata": {},
   "outputs": [
    {
     "name": "stdout",
     "output_type": "stream",
     "text": [
      "{9, 3}\n"
     ]
    }
   ],
   "source": [
    "print(a & c) # intersection"
   ]
  },
  {
   "cell_type": "code",
   "execution_count": 28,
   "metadata": {},
   "outputs": [
    {
     "name": "stdout",
     "output_type": "stream",
     "text": [
      "{10, 4, 6}\n"
     ]
    }
   ],
   "source": [
    "print(b - a) # difference"
   ]
  },
  {
   "cell_type": "code",
   "execution_count": 30,
   "metadata": {},
   "outputs": [
    {
     "name": "stdout",
     "output_type": "stream",
     "text": [
      "{0, 1, 3, 4, 6, 9, 10}\n"
     ]
    }
   ],
   "source": [
    "print( b ^ a) # symmetric differene "
   ]
  },
  {
   "cell_type": "code",
   "execution_count": 34,
   "metadata": {},
   "outputs": [
    {
     "name": "stdout",
     "output_type": "stream",
     "text": [
      "False\n",
      "False\n",
      "True\n"
     ]
    }
   ],
   "source": [
    "print(b.issuperset(a))\n",
    "print(a.issubset(b))\n",
    "print(a.isdisjoint(d))"
   ]
  },
  {
   "cell_type": "code",
   "execution_count": null,
   "metadata": {},
   "outputs": [],
   "source": []
  }
 ],
 "metadata": {
  "kernelspec": {
   "display_name": "base",
   "language": "python",
   "name": "python3"
  },
  "language_info": {
   "codemirror_mode": {
    "name": "ipython",
    "version": 3
   },
   "file_extension": ".py",
   "mimetype": "text/x-python",
   "name": "python",
   "nbconvert_exporter": "python",
   "pygments_lexer": "ipython3",
   "version": "3.10.8"
  },
  "orig_nbformat": 4
 },
 "nbformat": 4,
 "nbformat_minor": 2
}
