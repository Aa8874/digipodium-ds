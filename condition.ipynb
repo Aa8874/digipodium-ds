{
 "cells": [
  {
   "attachments": {},
   "cell_type": "markdown",
   "metadata": {},
   "source": [
    "true value\n",
    "True\n",
    "any non zero no.\n",
    "any non empty string\n",
    "any non empty data structure\n",
    "\n",
    "false value\n",
    "false\n",
    "0\n",
    "empty string\n",
    "empty data structure"
   ]
  },
  {
   "attachments": {},
   "cell_type": "markdown",
   "metadata": {},
   "source": [
    "python block of code\n",
    "\n",
    "keyword expression:\n",
    "      statement 1\n",
    "      statement 2\n",
    "      statement 3\n",
    "    statement outside block\n",
    "    "
   ]
  },
  {
   "cell_type": "code",
   "execution_count": 2,
   "metadata": {},
   "outputs": [
    {
     "name": "stdout",
     "output_type": "stream",
     "text": [
      "x is bigger than 25\n"
     ]
    }
   ],
   "source": [
    "x = 30\n",
    "if x>25:\n",
    "    print('x is bigger than 25')\n"
   ]
  },
  {
   "cell_type": "code",
   "execution_count": 5,
   "metadata": {},
   "outputs": [
    {
     "name": "stdout",
     "output_type": "stream",
     "text": [
      "x is bigger than 10\n",
      "x is bigger than 50\n"
     ]
    }
   ],
   "source": [
    "x = int(input('enter a no'))\n",
    "if x>10:\n",
    "    print('x is bigger than 10')\n",
    "if x > 50:\n",
    "    print('x is bigger than 50')\n",
    "if x > 100:\n",
    "    print('x is bigger than 100')\n",
    "if x <= 10:\n",
    "    print('x is smaller or equal than 10')\n",
    "    \n"
   ]
  },
  {
   "cell_type": "code",
   "execution_count": 7,
   "metadata": {},
   "outputs": [
    {
     "name": "stdout",
     "output_type": "stream",
     "text": [
      "x is a even no\n"
     ]
    }
   ],
   "source": [
    "x = int(input('enter a no.'))\n",
    "if(x % 2 == 0):\n",
    "    print('x is a even no')\n",
    "else:\n",
    "    print('x is a odd no')\n",
    "    \n"
   ]
  },
  {
   "cell_type": "code",
   "execution_count": 12,
   "metadata": {},
   "outputs": [
    {
     "name": "stdout",
     "output_type": "stream",
     "text": [
      "c is a bigger no\n"
     ]
    }
   ],
   "source": [
    "a , b , c = 10 , 20 , 30\n",
    "if( a > b and a > c):\n",
    "    print(\"a is a bigger no\")\n",
    "elif(b > a and b > c):\n",
    "    print(\"b is a bigger no\")\n",
    "else:\n",
    "    print(\"c is a bigger no\")\n"
   ]
  },
  {
   "cell_type": "code",
   "execution_count": 15,
   "metadata": {},
   "outputs": [
    {
     "name": "stdout",
     "output_type": "stream",
     "text": [
      "✖️\n"
     ]
    }
   ],
   "source": [
    "username = input('enter a no.')\n",
    "pwd = input(\"enter a no.\")\n",
    "if len(username) < 3:\n",
    "    print(\"✖️\")\n",
    "elif len(pwd) < 8:\n",
    "    print(\"✖️\")\n",
    "elif not username.isalpha():\n",
    "    print(\"✖️\")\n",
    "else:\n",
    "    print(\"is valid\")\n",
    "\n"
   ]
  },
  {
   "attachments": {},
   "cell_type": "markdown",
   "metadata": {},
   "source": [
    "match case \n",
    "its use for checking multiple conditions of a single variable\n"
   ]
  },
  {
   "cell_type": "code",
   "execution_count": 18,
   "metadata": {},
   "outputs": [
    {
     "name": "stdout",
     "output_type": "stream",
     "text": [
      "today is saturday\n"
     ]
    }
   ],
   "source": [
    "day = input(\"enter a day: \")\n",
    "match day:\n",
    "    case 'saturday':\n",
    "        print(\"today is saturday\")\n",
    "    case 'monday':\n",
    "        print(\"today is monday\")\n",
    "    case 'tuesday':\n",
    "        print(\"today is tuesday\")\n",
    "    case 'thursday' | 'holiday':\n",
    "        print(\"today is holiday\")\n",
    "    case _:\n",
    "        print(\"invalid day\")"
   ]
  },
  {
   "cell_type": "code",
   "execution_count": 11,
   "metadata": {},
   "outputs": [
    {
     "data": {
      "text/plain": [
       "False"
      ]
     },
     "execution_count": 11,
     "metadata": {},
     "output_type": "execute_result"
    }
   ],
   "source": [
    "bool('')"
   ]
  },
  {
   "cell_type": "code",
   "execution_count": null,
   "metadata": {},
   "outputs": [],
   "source": []
  },
  {
   "cell_type": "code",
   "execution_count": null,
   "metadata": {},
   "outputs": [],
   "source": []
  },
  {
   "cell_type": "code",
   "execution_count": null,
   "metadata": {},
   "outputs": [],
   "source": []
  }
 ],
 "metadata": {
  "kernelspec": {
   "display_name": "base",
   "language": "python",
   "name": "python3"
  },
  "language_info": {
   "codemirror_mode": {
    "name": "ipython",
    "version": 3
   },
   "file_extension": ".py",
   "mimetype": "text/x-python",
   "name": "python",
   "nbconvert_exporter": "python",
   "pygments_lexer": "ipython3",
   "version": "3.10.10"
  },
  "orig_nbformat": 4
 },
 "nbformat": 4,
 "nbformat_minor": 2
}
