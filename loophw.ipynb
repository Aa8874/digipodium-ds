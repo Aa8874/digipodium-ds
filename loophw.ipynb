{
 "cells": [
  {
   "cell_type": "markdown",
   "metadata": {},
   "source": [
    "# Question "
   ]
  },
  {
   "cell_type": "code",
   "execution_count": 5,
   "metadata": {},
   "outputs": [
    {
     "name": "stdout",
     "output_type": "stream",
     "text": [
      "8\n",
      "16\n",
      "24\n",
      "32\n",
      "40\n",
      "48\n",
      "56\n",
      "64\n",
      "72\n",
      "80\n"
     ]
    }
   ],
   "source": [
    "x = int(input('enter a no'))\n",
    "i = 1\n",
    "while(i!=11):\n",
    "    print( x * i )\n",
    "    i = i + 1\n",
    "\n"
   ]
  },
  {
   "cell_type": "code",
   "execution_count": 22,
   "metadata": {},
   "outputs": [
    {
     "name": "stdout",
     "output_type": "stream",
     "text": [
      "2450\n"
     ]
    }
   ],
   "source": [
    "sum = 0\n",
    "for i in range(1 , 100):\n",
    "    if i % 2 == 0:\n",
    "       sum += i\n",
    "print(sum)\n",
    "  "
   ]
  },
  {
   "cell_type": "code",
   "execution_count": 1,
   "metadata": {},
   "outputs": [
    {
     "ename": "KeyboardInterrupt",
     "evalue": "",
     "output_type": "error",
     "traceback": [
      "\u001b[1;31m---------------------------------------------------------------------------\u001b[0m",
      "\u001b[1;31mKeyboardInterrupt\u001b[0m                         Traceback (most recent call last)",
      "Cell \u001b[1;32mIn[1], line 4\u001b[0m\n\u001b[0;32m      2\u001b[0m i \u001b[39m=\u001b[39m \u001b[39m1\u001b[39m\n\u001b[0;32m      3\u001b[0m x \u001b[39m=\u001b[39m \u001b[39m6\u001b[39m\n\u001b[1;32m----> 4\u001b[0m \u001b[39mwhile\u001b[39;00m(i\u001b[39m<\u001b[39;49m\u001b[39m=\u001b[39;49mx):\n\u001b[0;32m      5\u001b[0m     \u001b[39mif\u001b[39;00m x \u001b[39m%\u001b[39m i \u001b[39m==\u001b[39m \u001b[39m0\u001b[39m:\n\u001b[0;32m      6\u001b[0m         ct \u001b[39m+\u001b[39m \u001b[39m1\u001b[39m\n",
      "\u001b[1;31mKeyboardInterrupt\u001b[0m: "
     ]
    }
   ],
   "source": [
    "ct = 0\n",
    "i = 1\n",
    "x = 6\n",
    "while(i<=x):\n",
    "    if x % i == 0:\n",
    "        ct + 1\n",
    "        i + 1\n",
    "\n",
    "if ct == 2:\n",
    "    print('prime no')\n",
    "else:\n",
    "    print('not prime')\n",
    "\n",
    "    \n",
    "    \n",
    "    "
   ]
  },
  {
   "cell_type": "code",
   "execution_count": 6,
   "metadata": {},
   "outputs": [
    {
     "name": "stdout",
     "output_type": "stream",
     "text": [
      "1\n",
      "2\n",
      "3\n",
      "4\n",
      "5\n",
      "6\n",
      "7\n",
      "8\n",
      "9\n",
      "10\n"
     ]
    }
   ],
   "source": [
    "# 1)\n",
    "for a in range(1,11):\n",
    "    print(a)"
   ]
  },
  {
   "cell_type": "code",
   "execution_count": 1,
   "metadata": {},
   "outputs": [
    {
     "name": "stdout",
     "output_type": "stream",
     "text": [
      "1\n",
      "2\n",
      "3\n",
      "4\n",
      "5\n",
      "6\n",
      "7\n",
      "8\n",
      "9\n",
      "10\n"
     ]
    }
   ],
   "source": [
    "for i in range(1 , 11):\n",
    "    print(i)"
   ]
  },
  {
   "cell_type": "code",
   "execution_count": 22,
   "metadata": {},
   "outputs": [
    {
     "name": "stdout",
     "output_type": "stream",
     "text": [
      "1 * 5 = 5\n",
      "2 * 5 = 10\n",
      "3 * 5 = 15\n",
      "4 * 5 = 20\n",
      "5 * 5 = 25\n",
      "6 * 5 = 30\n",
      "7 * 5 = 35\n",
      "8 * 5 = 40\n",
      "9 * 5 = 45\n",
      "10 * 5 = 50\n"
     ]
    }
   ],
   "source": [
    "n = 5\n",
    "i = 1\n",
    "while(i<=10):\n",
    "    x = i * n\n",
    "    print(f\"{i} * {n} = {x}\")\n",
    "    i = i + 1 "
   ]
  },
  {
   "cell_type": "code",
   "execution_count": 25,
   "metadata": {},
   "outputs": [
    {
     "name": "stdout",
     "output_type": "stream",
     "text": [
      "2550\n"
     ]
    }
   ],
   "source": [
    "sum = 0\n",
    "for i in range(1 , 101):\n",
    "    if i % 2 == 0:\n",
    "        sum = sum + i\n",
    "print(sum)"
   ]
  },
  {
   "cell_type": "code",
   "execution_count": 30,
   "metadata": {},
   "outputs": [
    {
     "name": "stdout",
     "output_type": "stream",
     "text": [
      "✖️ prime\n"
     ]
    }
   ],
   "source": [
    "n = int(input(\"Enter a no. \"))\n",
    "i = 1\n",
    "ct = 0\n",
    "while(i<=n):\n",
    "    if n % i == 0:\n",
    "        ct = ct + 1\n",
    "        i = i + 1\n",
    "    else:\n",
    "        i = i + 1\n",
    "if ct == 2:\n",
    "    print(\"prime\")\n",
    "else:\n",
    "    print(\"✖️ prime\")\n",
    "        "
   ]
  },
  {
   "cell_type": "code",
   "execution_count": 33,
   "metadata": {},
   "outputs": [
    {
     "name": "stdout",
     "output_type": "stream",
     "text": [
      "51090942171709440000\n"
     ]
    }
   ],
   "source": [
    "sum = 1\n",
    "n = int(input(\"enter a no\"))\n",
    "for i in range(1 , n+1):\n",
    "    sum = sum * i\n",
    "print(sum)\n"
   ]
  },
  {
   "cell_type": "code",
   "execution_count": 54,
   "metadata": {},
   "outputs": [
    {
     "name": "stdout",
     "output_type": "stream",
     "text": [
      "0 1 1 2 3 5 8 13 21 34 "
     ]
    }
   ],
   "source": [
    "a = 0\n",
    "b = 1\n",
    "sum = a + b\n",
    "print(a , b , sum , end = ' ' )\n",
    "for i in range(1 , 8):\n",
    "    x = sum\n",
    "    sum = sum + b\n",
    "    print(sum , end = \" \")\n",
    "    b = x"
   ]
  },
  {
   "cell_type": "code",
   "execution_count": 47,
   "metadata": {},
   "outputs": [
    {
     "name": "stdout",
     "output_type": "stream",
     "text": [
      "Fibonacci series up to 10 : [0, 1, 1, 2, 3, 5, 8, 13, 21, 34]\n"
     ]
    }
   ],
   "source": [
    "def fibonacci_series(limit):\n",
    "    fib_series = []\n",
    "    \n",
    "    # Initializing the first two terms\n",
    "    a, b = 0, 1\n",
    "    \n",
    "    # Using a for loop to generate Fibonacci series up to the given limit\n",
    "    for _ in range(limit):\n",
    "        fib_series.append(a)\n",
    "        a, b = b, a + b\n",
    "    \n",
    "    return fib_series\n",
    "\n",
    "# Taking input for the limit\n",
    "limit = int(input(\"Enter the limit for the Fibonacci series: \"))\n",
    "\n",
    "# Printing the Fibonacci series up to the given limit\n",
    "result = fibonacci_series(limit)\n",
    "print(\"Fibonacci series up to\", limit, \":\", result)\n"
   ]
  },
  {
   "cell_type": "code",
   "execution_count": 48,
   "metadata": {},
   "outputs": [
    {
     "name": "stdout",
     "output_type": "stream",
     "text": [
      "Fibonacci series up to 10 : 0 1 1 2 3 5 8 13 21 34 "
     ]
    }
   ],
   "source": [
    "def fibonacci_series(limit):\n",
    "    # Initializing the first two terms\n",
    "    a, b = 0, 1\n",
    "    \n",
    "    # Printing the first term separately\n",
    "    print(a, end=\" \")\n",
    "\n",
    "    # Using a for loop to generate and print Fibonacci series up to the given limit\n",
    "    for _ in range(limit - 1):\n",
    "        print(b, end=\" \")\n",
    "        a, b = b, a + b\n",
    "\n",
    "# Taking input for the limit\n",
    "limit = int(input(\"Enter the limit for the Fibonacci series: \"))\n",
    "\n",
    "# Printing the Fibonacci series up to the given limit\n",
    "print(\"Fibonacci series up to\", limit, \": \", end=\"\")\n",
    "fibonacci_series(limit)\n"
   ]
  },
  {
   "cell_type": "code",
   "execution_count": 60,
   "metadata": {},
   "outputs": [
    {
     "name": "stdout",
     "output_type": "stream",
     "text": [
      "89\n"
     ]
    }
   ],
   "source": [
    "# Q 7\n",
    "list = [ 1 , 2 , 3 , 89 , 88 , 37]\n",
    "max = list[0]\n",
    "for i in list:\n",
    "    if max < i:\n",
    "        max = i\n",
    "print(max)"
   ]
  },
  {
   "cell_type": "code",
   "execution_count": 14,
   "metadata": {},
   "outputs": [
    {
     "name": "stdout",
     "output_type": "stream",
     "text": [
      "a\n",
      " rimaA\n"
     ]
    }
   ],
   "source": [
    "String = \"Aamir\"\n",
    "i = 1\n",
    "s = ' '\n",
    "while(i<=len(String)):\n",
    "    s = s + String[-i]\n",
    "    i = i + 1\n",
    "print(s)\n"
   ]
  },
  {
   "cell_type": "code",
   "execution_count": 25,
   "metadata": {},
   "outputs": [
    {
     "name": "stdout",
     "output_type": "stream",
     "text": [
      "a\n"
     ]
    }
   ],
   "source": [
    "x = chr(97)\n",
    "print(x)"
   ]
  },
  {
   "cell_type": "code",
   "execution_count": 33,
   "metadata": {},
   "outputs": [
    {
     "name": "stdout",
     "output_type": "stream",
     "text": [
      "A: 65\n",
      "B: 66\n",
      "C: 67\n",
      "D: 68\n",
      "E: 69\n",
      "F: 70\n",
      "G: 71\n",
      "H: 72\n",
      "I: 73\n",
      "J: 74\n",
      "K: 75\n",
      "L: 76\n",
      "M: 77\n",
      "N: 78\n",
      "O: 79\n",
      "P: 80\n",
      "Q: 81\n",
      "R: 82\n",
      "S: 83\n",
      "T: 84\n",
      "U: 85\n",
      "V: 86\n",
      "W: 87\n",
      "X: 88\n",
      "Y: 89\n",
      "Z: 90\n"
     ]
    }
   ],
   "source": [
    "# Q 9 \n",
    "String = \"A\"\n",
    "end = \"Z\"\n",
    "for char in range(ord(String) , ord(end)+1):\n",
    "    print(f\"{chr(char)}: {char}\")\n",
    "\n"
   ]
  },
  {
   "cell_type": "code",
   "execution_count": 26,
   "metadata": {},
   "outputs": [
    {
     "name": "stdout",
     "output_type": "stream",
     "text": [
      "ASCII values of uppercase letters:\n",
      "A: 65\n",
      "B: 66\n",
      "C: 67\n",
      "D: 68\n",
      "E: 69\n",
      "F: 70\n",
      "G: 71\n",
      "H: 72\n",
      "I: 73\n",
      "J: 74\n",
      "K: 75\n",
      "L: 76\n",
      "M: 77\n",
      "N: 78\n",
      "O: 79\n",
      "P: 80\n",
      "Q: 81\n",
      "R: 82\n",
      "S: 83\n",
      "T: 84\n",
      "U: 85\n",
      "V: 86\n",
      "W: 87\n",
      "X: 88\n",
      "Y: 89\n",
      "Z: 90\n"
     ]
    }
   ],
   "source": [
    "# Program to print ASCII values of uppercase letters\n",
    "\n",
    "# ASCII values for uppercase letters range from 65 ('A') to 90 ('Z')\n",
    "start_char = 'A'\n",
    "end_char = 'Z'\n",
    "\n",
    "print(\"ASCII values of uppercase letters:\")\n",
    "for char in range(ord(start_char), ord(end_char) + 1):\n",
    "    print(f\"{chr(char)}: {char}\")\n"
   ]
  },
  {
   "cell_type": "code",
   "execution_count": 57,
   "metadata": {},
   "outputs": [
    {
     "name": "stdout",
     "output_type": "stream",
     "text": [
      "121\n",
      "palindrome\n"
     ]
    }
   ],
   "source": [
    "num = input(\"enter a no.\")\n",
    "x = int(num)\n",
    "y = int(num)\n",
    "a = num\n",
    "rev = 0\n",
    "for i in a:\n",
    "    rev = rev*10 + x%10\n",
    "    x = x//10\n",
    "print(rev)\n",
    "if rev == y:\n",
    "    print(\"palindrome\")\n",
    "else:\n",
    "    print(\"✖️\")\n",
    "\n",
    "    "
   ]
  },
  {
   "cell_type": "code",
   "execution_count": 55,
   "metadata": {},
   "outputs": [
    {
     "name": "stdout",
     "output_type": "stream",
     "text": [
      "rmr\n",
      "palindrome\n"
     ]
    }
   ],
   "source": [
    "num = input(\"enter a String.\")\n",
    "rev = ''\n",
    "for i in range(1 , len(num)+1):\n",
    "    rev = rev + num[-i]\n",
    "print(rev)\n",
    "if rev == num:\n",
    "    print(\"palindrome\")\n",
    "else:\n",
    "    print(\"✖️\")"
   ]
  },
  {
   "cell_type": "code",
   "execution_count": 16,
   "metadata": {},
   "outputs": [
    {
     "name": "stdout",
     "output_type": "stream",
     "text": [
      "21\n",
      "3\n"
     ]
    }
   ],
   "source": [
    "\n",
    "arr = [1 ,2 ,3 , 4,5 ,6]\n",
    "sum = 0\n",
    "for i in arr:\n",
    "    sum = sum + i\n",
    "print(sum)\n",
    "a = sum//len(arr)\n",
    "print(a)"
   ]
  },
  {
   "cell_type": "code",
   "execution_count": 20,
   "metadata": {},
   "outputs": [
    {
     "name": "stdout",
     "output_type": "stream",
     "text": [
      "0\n"
     ]
    }
   ],
   "source": [
    "arr = [ 17 , 45 , 66 , 58 , 99 , 0]\n",
    "min= arr[0]\n",
    "i = 1\n",
    "while(i<len(arr)):\n",
    "    if min > arr[i]:\n",
    "        min = arr[i]\n",
    "        i = i + 1\n",
    "    else:\n",
    "        i = i + 1\n",
    "print(min)"
   ]
  },
  {
   "cell_type": "code",
   "execution_count": 22,
   "metadata": {},
   "outputs": [
    {
     "name": "stdout",
     "output_type": "stream",
     "text": [
      "4\n"
     ]
    }
   ],
   "source": [
    "num = input(\"enter a no.\")\n",
    "x = int(num)\n",
    "sum = 0\n",
    "for i in num:\n",
    "    last_digit = x%10\n",
    "    sum = sum + last_digit\n",
    "    x = x // 10\n",
    "print(sum)\n"
   ]
  },
  {
   "cell_type": "code",
   "execution_count": 29,
   "metadata": {},
   "outputs": [
    {
     "name": "stdout",
     "output_type": "stream",
     "text": [
      "leap year\n",
      "not a leap year\n",
      "leap year\n",
      "leap year\n"
     ]
    }
   ],
   "source": [
    "list = [2028 , 1900 , 2036 , 2024]\n",
    "for i in list:\n",
    "    if i % 4 == 0 and (i % 100 !=0 or i % 400 == 0):\n",
    "            print(\"leap year\")\n",
    "    else:\n",
    "        print(\"not a leap year\")\n"
   ]
  },
  {
   "cell_type": "code",
   "execution_count": 32,
   "metadata": {},
   "outputs": [
    {
     "name": "stdout",
     "output_type": "stream",
     "text": [
      "5 * 1 = 5\n",
      "5 * 2 = 10\n",
      "5 * 3 = 15\n",
      "5 * 4 = 20\n",
      "5 * 5 = 25\n"
     ]
    }
   ],
   "source": [
    "n = 5\n",
    "for i in range(1 , n+1):\n",
    "    print(f\"{n} * {i} = {n*i}\")"
   ]
  },
  {
   "cell_type": "code",
   "execution_count": 34,
   "metadata": {},
   "outputs": [
    {
     "name": "stdout",
     "output_type": "stream",
     "text": [
      "1\n",
      "2\n",
      "6\n",
      "24\n",
      "120\n"
     ]
    }
   ],
   "source": [
    "n = 5\n",
    "sum = 1\n",
    "for i in range(1 , n+1):\n",
    "    sum = sum * i\n",
    "    print(sum)"
   ]
  },
  {
   "cell_type": "code",
   "execution_count": 56,
   "metadata": {},
   "outputs": [
    {
     "name": "stdout",
     "output_type": "stream",
     "text": [
      "2\n"
     ]
    }
   ],
   "source": [
    "# Imp\n",
    "s = \"Shavez\"\n",
    "Vowels = \"AEIOUaeiou\"\n",
    "#Vowels = set(Vowels)\n",
    "ct = 0\n",
    "for i in s:\n",
    "    if i in Vowels:\n",
    "        ct = ct + 1\n",
    "    \n",
    "print(ct)"
   ]
  },
  {
   "cell_type": "code",
   "execution_count": 57,
   "metadata": {},
   "outputs": [
    {
     "name": "stdout",
     "output_type": "stream",
     "text": [
      "88 0\n"
     ]
    }
   ],
   "source": [
    "list = [ 1 , 0 , 55 , 66 , 33 ,22 ,88]\n",
    "max = list[0]\n",
    "min = list[0]\n",
    "for i in list:\n",
    "    if max < i:\n",
    "        max = i\n",
    "    elif min > i:\n",
    "        min = i\n",
    "print(max , min)"
   ]
  },
  {
   "cell_type": "code",
   "execution_count": 9,
   "metadata": {},
   "outputs": [
    {
     "name": "stdout",
     "output_type": "stream",
     "text": [
      "How are you\n"
     ]
    }
   ],
   "source": [
    "\n"
   ]
  },
  {
   "cell_type": "code",
   "execution_count": 6,
   "metadata": {},
   "outputs": [
    {
     "name": "stdout",
     "output_type": "stream",
     "text": [
      "Reversed Sentence: you are How\n"
     ]
    }
   ],
   "source": [
    "def reverse_sentence(sentence):\n",
    "    words = sentence.split()\n",
    "    reversed_sentence = \"\"\n",
    "    index = len(words) - 1\n",
    "\n",
    "    while index >= 0:\n",
    "        reversed_sentence += words[index] + \" \"\n",
    "        index -= 1\n",
    "\n",
    "    # Remove the trailing space\n",
    "    reversed_sentence = reversed_sentence.strip()\n",
    "\n",
    "    return reversed_sentence\n",
    "\n",
    "# Example usage\n",
    "input_sentence = input(\"Enter a sentence: \")\n",
    "result = reverse_sentence(input_sentence)\n",
    "print(\"Reversed Sentence:\", result)\n"
   ]
  },
  {
   "cell_type": "code",
   "execution_count": null,
   "metadata": {},
   "outputs": [],
   "source": []
  }
 ],
 "metadata": {
  "kernelspec": {
   "display_name": "base",
   "language": "python",
   "name": "python3"
  },
  "language_info": {
   "codemirror_mode": {
    "name": "ipython",
    "version": 3
   },
   "file_extension": ".py",
   "mimetype": "text/x-python",
   "name": "python",
   "nbconvert_exporter": "python",
   "pygments_lexer": "ipython3",
   "version": "3.10.8"
  },
  "orig_nbformat": 4
 },
 "nbformat": 4,
 "nbformat_minor": 2
}
