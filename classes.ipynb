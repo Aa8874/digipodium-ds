{
 "cells": [
  {
   "cell_type": "code",
   "execution_count": 1,
   "metadata": {},
   "outputs": [],
   "source": [
    "class cat:\n",
    "   def __init__(self , breed , age , color = 'black'):\n",
    "      self.breed = breed\n",
    "      self.age = age\n",
    "      self.color = color"
   ]
  },
  {
   "cell_type": "code",
   "execution_count": 6,
   "metadata": {},
   "outputs": [
    {
     "name": "stdout",
     "output_type": "stream",
     "text": [
      "street cat 5 black\n"
     ]
    }
   ],
   "source": [
    "billu = cat('street cat',5 ) # are variable also ca\n",
    "sheru = cat('persian', 2 ,'white')\n",
    "alice = cat('egyptian' , 1 ,'red') \n",
    "print(billu.breed ,billu.age , billu.color)"
   ]
  },
  {
   "cell_type": "code",
   "execution_count": null,
   "metadata": {},
   "outputs": [],
   "source": []
  }
 ],
 "metadata": {
  "kernelspec": {
   "display_name": "base",
   "language": "python",
   "name": "python3"
  },
  "language_info": {
   "codemirror_mode": {
    "name": "ipython",
    "version": 3
   },
   "file_extension": ".py",
   "mimetype": "text/x-python",
   "name": "python",
   "nbconvert_exporter": "python",
   "pygments_lexer": "ipython3",
   "version": "3.10.8"
  },
  "orig_nbformat": 4
 },
 "nbformat": 4,
 "nbformat_minor": 2
}
