{
 "cells": [
  {
   "cell_type": "code",
   "execution_count": 1,
   "metadata": {},
   "outputs": [
    {
     "ename": "KeyboardInterrupt",
     "evalue": "Interrupted by user",
     "output_type": "error",
     "traceback": [
      "\u001b[0;31m---------------------------------------------------------------------------\u001b[0m",
      "\u001b[0;31mKeyboardInterrupt\u001b[0m                         Traceback (most recent call last)",
      "\u001b[1;32m/workspaces/digipodium-ds/practise.ipynb Cell 1\u001b[0m line \u001b[0;36m1\n\u001b[0;32m----> <a href='vscode-notebook-cell://codespaces%2Bsuper-duper-spork-g4qqrrq5xvpv3wg44/workspaces/digipodium-ds/practise.ipynb#W0sdnNjb2RlLXJlbW90ZQ%3D%3D?line=0'>1</a>\u001b[0m percentage \u001b[39m=\u001b[39m \u001b[39mint\u001b[39m(\u001b[39minput\u001b[39;49m(\u001b[39m\"\u001b[39;49m\u001b[39mEnter the percentage of student\u001b[39;49m\u001b[39m\"\u001b[39;49m))\n\u001b[1;32m      <a href='vscode-notebook-cell://codespaces%2Bsuper-duper-spork-g4qqrrq5xvpv3wg44/workspaces/digipodium-ds/practise.ipynb#W0sdnNjb2RlLXJlbW90ZQ%3D%3D?line=1'>2</a>\u001b[0m \u001b[39mif\u001b[39;00m percentage \u001b[39m>\u001b[39m \u001b[39m90\u001b[39m:\n\u001b[1;32m      <a href='vscode-notebook-cell://codespaces%2Bsuper-duper-spork-g4qqrrq5xvpv3wg44/workspaces/digipodium-ds/practise.ipynb#W0sdnNjb2RlLXJlbW90ZQ%3D%3D?line=2'>3</a>\u001b[0m     \u001b[39mprint\u001b[39m(\u001b[39m\"\u001b[39m\u001b[39mthe grade of student is : A\u001b[39m\u001b[39m\"\u001b[39m)\n",
      "File \u001b[0;32m~/.local/lib/python3.10/site-packages/ipykernel/kernelbase.py:1202\u001b[0m, in \u001b[0;36mKernel.raw_input\u001b[0;34m(self, prompt)\u001b[0m\n\u001b[1;32m   1200\u001b[0m     msg \u001b[39m=\u001b[39m \u001b[39m\"\u001b[39m\u001b[39mraw_input was called, but this frontend does not support input requests.\u001b[39m\u001b[39m\"\u001b[39m\n\u001b[1;32m   1201\u001b[0m     \u001b[39mraise\u001b[39;00m StdinNotImplementedError(msg)\n\u001b[0;32m-> 1202\u001b[0m \u001b[39mreturn\u001b[39;00m \u001b[39mself\u001b[39;49m\u001b[39m.\u001b[39;49m_input_request(\n\u001b[1;32m   1203\u001b[0m     \u001b[39mstr\u001b[39;49m(prompt),\n\u001b[1;32m   1204\u001b[0m     \u001b[39mself\u001b[39;49m\u001b[39m.\u001b[39;49m_parent_ident[\u001b[39m\"\u001b[39;49m\u001b[39mshell\u001b[39;49m\u001b[39m\"\u001b[39;49m],\n\u001b[1;32m   1205\u001b[0m     \u001b[39mself\u001b[39;49m\u001b[39m.\u001b[39;49mget_parent(\u001b[39m\"\u001b[39;49m\u001b[39mshell\u001b[39;49m\u001b[39m\"\u001b[39;49m),\n\u001b[1;32m   1206\u001b[0m     password\u001b[39m=\u001b[39;49m\u001b[39mFalse\u001b[39;49;00m,\n\u001b[1;32m   1207\u001b[0m )\n",
      "File \u001b[0;32m~/.local/lib/python3.10/site-packages/ipykernel/kernelbase.py:1245\u001b[0m, in \u001b[0;36mKernel._input_request\u001b[0;34m(self, prompt, ident, parent, password)\u001b[0m\n\u001b[1;32m   1242\u001b[0m \u001b[39mexcept\u001b[39;00m \u001b[39mKeyboardInterrupt\u001b[39;00m:\n\u001b[1;32m   1243\u001b[0m     \u001b[39m# re-raise KeyboardInterrupt, to truncate traceback\u001b[39;00m\n\u001b[1;32m   1244\u001b[0m     msg \u001b[39m=\u001b[39m \u001b[39m\"\u001b[39m\u001b[39mInterrupted by user\u001b[39m\u001b[39m\"\u001b[39m\n\u001b[0;32m-> 1245\u001b[0m     \u001b[39mraise\u001b[39;00m \u001b[39mKeyboardInterrupt\u001b[39;00m(msg) \u001b[39mfrom\u001b[39;00m \u001b[39mNone\u001b[39;00m\n\u001b[1;32m   1246\u001b[0m \u001b[39mexcept\u001b[39;00m \u001b[39mException\u001b[39;00m:\n\u001b[1;32m   1247\u001b[0m     \u001b[39mself\u001b[39m\u001b[39m.\u001b[39mlog\u001b[39m.\u001b[39mwarning(\u001b[39m\"\u001b[39m\u001b[39mInvalid Message:\u001b[39m\u001b[39m\"\u001b[39m, exc_info\u001b[39m=\u001b[39m\u001b[39mTrue\u001b[39;00m)\n",
      "\u001b[0;31mKeyboardInterrupt\u001b[0m: Interrupted by user"
     ]
    }
   ],
   "source": [
    "percentage = int(input(\"Enter the percentage of student\"))\n",
    "if percentage > 90:\n",
    "    print(\"the grade of student is : A\")\n",
    "elif percentage <=90 and percentage >80:\n",
    "    print(\"the grade of student is : B \")\n",
    "elif percentage <=80 and percentage >=60:\n",
    "    print(\"the grade of student is : C \")\n",
    "else:\n",
    "    print(\"the grade of student is : D \")\n",
    "\n"
   ]
  },
  {
   "cell_type": "code",
   "execution_count": null,
   "metadata": {},
   "outputs": [
    {
     "name": "stdout",
     "output_type": "stream",
     "text": [
      "the road tax to be paid : 5%\n",
      "2500.0\n"
     ]
    }
   ],
   "source": [
    "tax = 0\n",
    "cost_pr = int(input(\"Enter the price of bike\"))\n",
    "if cost_pr > 100000:\n",
    "    print(\"the road tax to be paid : 15%\")\n",
    "    tax = 15/100 *cost_pr\n",
    "    print(tax)\n",
    "elif cost_pr > 50000 and cost_pr<=100000:\n",
    "    print(\"the road tax to be paid : 10%\")\n",
    "    tax = 10/100 *cost_pr\n",
    "    print(tax)\n",
    "else:\n",
    "    print(\"the road tax to be paid : 5%\")\n",
    "    tax = 5/100 *cost_pr\n",
    "    print(tax)"
   ]
  },
  {
   "cell_type": "code",
   "execution_count": null,
   "metadata": {},
   "outputs": [
    {
     "ename": "SyntaxError",
     "evalue": "incomplete input (1752005319.py, line 1)",
     "output_type": "error",
     "traceback": [
      "\u001b[0;36m  Cell \u001b[0;32mIn[1], line 1\u001b[0;36m\u001b[0m\n\u001b[0;31m    for i in range(5):\u001b[0m\n\u001b[0m                       ^\u001b[0m\n\u001b[0;31mSyntaxError\u001b[0m\u001b[0;31m:\u001b[0m incomplete input\n"
     ]
    }
   ],
   "source": [
    "for i in range(5): "
   ]
  },
  {
   "cell_type": "code",
   "execution_count": null,
   "metadata": {},
   "outputs": [
    {
     "name": "stdout",
     "output_type": "stream",
     "text": [
      "not eligible for vote\n"
     ]
    }
   ],
   "source": [
    "age = int(input(\"Enter the age of person\"))\n",
    "if age > 18:\n",
    "    print(\"eligible for vote\")\n",
    "else:\n",
    "    print(\"not eligible for vote\")"
   ]
  },
  {
   "cell_type": "code",
   "execution_count": null,
   "metadata": {},
   "outputs": [
    {
     "name": "stdout",
     "output_type": "stream",
     "text": [
      "the no. is not divisible by 7\n"
     ]
    }
   ],
   "source": [
    "num = int(input(\"Enter a no .\"))\n",
    "if num%7 == 0:\n",
    "    print(\"the no. is divisible by 7\")\n",
    "else:\n",
    "    print(\"the no. is not divisible by 7\")"
   ]
  },
  {
   "cell_type": "code",
   "execution_count": null,
   "metadata": {},
   "outputs": [
    {
     "name": "stdout",
     "output_type": "stream",
     "text": [
      "bye\n"
     ]
    }
   ],
   "source": [
    "num = int(input(\"Enter a no .\"))\n",
    "if num%5 == 0:\n",
    "    print(\"hello\")\n",
    "else:\n",
    "    print(\"bye\")"
   ]
  },
  {
   "cell_type": "code",
   "execution_count": null,
   "metadata": {},
   "outputs": [
    {
     "name": "stdout",
     "output_type": "stream",
     "text": [
      "the last digit of no. is  0\n"
     ]
    }
   ],
   "source": [
    "num = int(input(\"Enter a no.\"))\n",
    "print(\"the last digit of no. is \" ,num % 10)\n"
   ]
  },
  {
   "cell_type": "code",
   "execution_count": null,
   "metadata": {},
   "outputs": [
    {
     "name": "stdout",
     "output_type": "stream",
     "text": [
      "divisible\n"
     ]
    }
   ],
   "source": [
    "num = int(input(\"Enter a no.\"))\n",
    "num = num % 10\n",
    "if num % 3 == 0:\n",
    "    print(\"divisible\")\n",
    "else:\n",
    "    print(\"not divisible\")"
   ]
  },
  {
   "cell_type": "code",
   "execution_count": null,
   "metadata": {},
   "outputs": [
    {
     "name": "stdout",
     "output_type": "stream",
     "text": [
      "Saturday\n"
     ]
    }
   ],
   "source": [
    "i = int(input(\"Enter a no.\"))\n",
    "# for i in range(1,8):\n",
    "if i == 1:\n",
    "        print(\"sunday\")\n",
    "elif i == 2:\n",
    "        print(\"monday\")\n",
    "elif i == 3:\n",
    "        print(\"Tuesday\")\n",
    "elif i == 4:\n",
    "        print(\"wednesday\")\n",
    "elif i == 5:\n",
    "        print(\"Thusday\")\n",
    "elif i == 6:\n",
    "        print(\"Friday\")\n",
    "elif i == 7:\n",
    "        print(\"Saturday\")\n",
    "else:\n",
    "        print(\"The no should be enter in range 1 to 7\")\n",
    "    \n"
   ]
  },
  {
   "cell_type": "code",
   "execution_count": null,
   "metadata": {},
   "outputs": [
    {
     "name": "stdout",
     "output_type": "stream",
     "text": [
      "the no. is 3 digit\n"
     ]
    }
   ],
   "source": [
    "num = (input(\"enter a no.\"))\n",
    "I = len(num)\n",
    "if I != 3:\n",
    "    print(\"enter 3 digit no\")\n",
    "else:\n",
    "    print(\"the no. is 3 digit\")\n",
    "\n",
    "\n",
    "\n"
   ]
  },
  {
   "cell_type": "code",
   "execution_count": null,
   "metadata": {},
   "outputs": [
    {
     "name": "stdout",
     "output_type": "stream",
     "text": [
      "5\n"
     ]
    }
   ],
   "source": [
    "num = int(input(\"enter a no.\"))\n",
    "num = num%100//10 # middle no extraction\n",
    "print(num)"
   ]
  },
  {
   "cell_type": "code",
   "execution_count": null,
   "metadata": {},
   "outputs": [
    {
     "data": {
      "text/plain": [
       "2"
      ]
     },
     "execution_count": 28,
     "metadata": {},
     "output_type": "execute_result"
    }
   ],
   "source": [
    "5//2\n"
   ]
  },
  {
   "cell_type": "code",
   "execution_count": null,
   "metadata": {},
   "outputs": [
    {
     "name": "stdout",
     "output_type": "stream",
     "text": [
      "the lowest no is : 5\n"
     ]
    }
   ],
   "source": [
    "num1 =  (input(\"enter a first no.\"))\n",
    "num2 = (input(\"enter a second no.\"))\n",
    "if num1 > num2:\n",
    "    print(\"the lowest no is :\" , num2)\n",
    "else:\n",
    "    print(\"the lowest no is :\" , num1)\n"
   ]
  },
  {
   "cell_type": "code",
   "execution_count": null,
   "metadata": {},
   "outputs": [
    {
     "name": "stdout",
     "output_type": "stream",
     "text": [
      "negative\n"
     ]
    }
   ],
   "source": [
    "num1 =  int(input(\"enter a first no.\"))\n",
    "if num1 > 0:\n",
    "    print(\"positive\")\n",
    "else:\n",
    "    print(\"negative\")"
   ]
  },
  {
   "cell_type": "code",
   "execution_count": null,
   "metadata": {},
   "outputs": [
    {
     "name": "stdout",
     "output_type": "stream",
     "text": [
      "odd\n"
     ]
    }
   ],
   "source": [
    "num1 =  int(input(\"enter a first no.\"))\n",
    "if num1 % 2 == 0:\n",
    "    print(\"even\")\n",
    "else:\n",
    "    print(\"odd\")"
   ]
  },
  {
   "cell_type": "code",
   "execution_count": null,
   "metadata": {},
   "outputs": [
    {
     "name": "stdout",
     "output_type": "stream",
     "text": [
      "prime no\n"
     ]
    }
   ],
   "source": [
    "num1 =  int(input(\"enter a first no.\"))\n",
    "ct = 1\n",
    "for i in range(2 , (num1 + 1)):\n",
    "    if num1%i == 0:\n",
    "        ct += 1 \n",
    "if ct == 2:\n",
    "    print(\"prime no\")\n",
    "else:\n",
    "    print(\"not prime\")\n",
    "    \n"
   ]
  },
  {
   "cell_type": "code",
   "execution_count": null,
   "metadata": {},
   "outputs": [
    {
     "name": "stdout",
     "output_type": "stream",
     "text": [
      "9\n"
     ]
    }
   ],
   "source": [
    "nums = [2 , 7 , 11, 15]\n",
    "sum = nums[0] + nums[1]\n",
    "print(sum) "
   ]
  },
  {
   "cell_type": "code",
   "execution_count": null,
   "metadata": {},
   "outputs": [
    {
     "name": "stdout",
     "output_type": "stream",
     "text": [
      "the largest no is  6\n"
     ]
    }
   ],
   "source": [
    "num1 =  int(input(\"enter a first no.\"))\n",
    "num2 =  int(input(\"enter a second no.\"))\n",
    "num3 =  int(input(\"enter a third no.\"))\n",
    "\n",
    "if num1>num2 and num1>num3:\n",
    "    print(\"the largest no is \" , num1)\n",
    "elif num2>num3 and num2>num1:\n",
    "    print(\"the largest no is \" , num2)\n",
    "else:\n",
    "     print(\"the largest no is \" , num3)\n"
   ]
  },
  {
   "cell_type": "code",
   "execution_count": null,
   "metadata": {},
   "outputs": [
    {
     "name": "stdout",
     "output_type": "stream",
     "text": [
      "👌\n"
     ]
    }
   ],
   "source": [
    "vowel = \"aeiouAEIOU\"\n",
    "name =  \"A\"# input(\"Enter a name of a person\")\n",
    "if name in vowel:\n",
    "    print(\"👌\")\n",
    "else:\n",
    "    print(\"✖️\")"
   ]
  },
  {
   "cell_type": "code",
   "execution_count": null,
   "metadata": {},
   "outputs": [
    {
     "name": "stdout",
     "output_type": "stream",
     "text": [
      "the percentage of student attendence : 45.20547945205479\n",
      "The student is not eligible for sit in exam\n"
     ]
    }
   ],
   "source": [
    "work_days = int(input(\"enter a no .of working days \"))\n",
    "abs_days = int(input(\"enter a no .of absent days \"))\n",
    "attendence = work_days - abs_days\n",
    "per = attendence/work_days * 100\n",
    "print(\"the percentage of student attendence :\" , per)\n",
    "if per < 75:\n",
    "    print(\"The student is not eligible to sit in exam\")\n",
    "else:\n",
    "    print(\"the student is eligible to sit in exam\")"
   ]
  },
  {
   "cell_type": "code",
   "execution_count": null,
   "metadata": {},
   "outputs": [
    {
     "name": "stdout",
     "output_type": "stream",
     "text": [
      "the bonus of the employee are :  2500.0\n"
     ]
    }
   ],
   "source": [
    "sal= int(input(\"enter a salary of employee \"))\n",
    "years = int(input(\"enter a no .of years that he works in it\"))\n",
    "if years > 10:\n",
    "    bonus = sal * 10/100\n",
    "if years >= 6 and years <=10:\n",
    "    bonus = sal * 8/100\n",
    "if years <6 :\n",
    "    bonus = sal * 5/100\n",
    "print(\"the bonus of the employee are : \" , bonus)\n",
    "    "
   ]
  },
  {
   "cell_type": "code",
   "execution_count": null,
   "metadata": {},
   "outputs": [
    {
     "name": "stdout",
     "output_type": "stream",
     "text": [
      "the triangle is an isosceles\n"
     ]
    }
   ],
   "source": [
    "side1 = int(input(\"enter a first side of a triangle\"))\n",
    "side2 = int(input(\"enter a second side of a triangle\"))\n",
    "side3 = int(input(\"enter a third side of a triangle\"))\n",
    "if side1 == side2 == side3:\n",
    "    print(\"the triangle is an equilateral\")\n",
    "elif side1 == side2 != side3 or side1 != side2 == side3 or side1 == side3 != side2:\n",
    "    print(\"the triangle is an isosceles\")\n",
    "else:\n",
    "    print(\"the triangle is an scalene\")"
   ]
  },
  {
   "cell_type": "code",
   "execution_count": null,
   "metadata": {},
   "outputs": [
    {
     "name": "stdout",
     "output_type": "stream",
     "text": [
      "triangle is possible\n"
     ]
    }
   ],
   "source": [
    "side1 = int(input(\"enter a first side of a triangle\"))\n",
    "side2 = int(input(\"enter a second side of a triangle\"))\n",
    "side3 = int(input(\"enter a third side of a triangle\"))\n",
    "if (side1 + side2)>side3 or (side1 + side3) > side2 or (side2 + side3) > side1:\n",
    "    print(\"triangle is possible\")\n",
    "else:\n",
    "    print(\"Triangle is not possible\")"
   ]
  },
  {
   "cell_type": "code",
   "execution_count": null,
   "metadata": {},
   "outputs": [
    {
     "name": "stdout",
     "output_type": "stream",
     "text": [
      "5 5 7\n"
     ]
    }
   ],
   "source": [
    "i = int(input(\"enter a first side of a triangle\"))\n",
    "j = int(input(\"enter a second side of a triangle\"))\n",
    "k = int(input(\"enter a third side of a triangle\"))\n",
    "if i<j:\n",
    "    if j< k:\n",
    "        i = j \n",
    "    else:\n",
    "        j = k \n",
    "else:\n",
    "    if j > k:\n",
    "        j = i \n",
    "    else:\n",
    "        i = k \n",
    "print(i,j,k)"
   ]
  },
  {
   "cell_type": "code",
   "execution_count": null,
   "metadata": {},
   "outputs": [
    {
     "name": "stdout",
     "output_type": "stream",
     "text": [
      "odd\n",
      "prime no\n",
      "the volume is  : 540\n",
      "the Freeboard is  : 6\n",
      "the length is  : 5 \n",
      "the breath is  : 2 \n"
     ]
    }
   ],
   "source": [
    "def prime_odds(a): # function check wheather a number is odd , even , prime or not prime \n",
    "    # check wheather the no. is even or odd\n",
    "    if a % 2 == 0:\n",
    "       print(\"even\")\n",
    "    else:\n",
    "        print(\"odd\")\n",
    "    \n",
    "    # check wheather a number is prime or not\n",
    "    ct = 1\n",
    "    for i in range(2 , (a + 1)):\n",
    "        if a%i == 0:\n",
    "            ct += 1\n",
    "        \n",
    "    if ct == 2:\n",
    "        print(\"prime no\")\n",
    "    else:\n",
    "        print(\"not prime\")\n",
    "\n",
    "# taking an input function and return it\n",
    "def floe_input(): \n",
    "    Freebroad = int(input('enter a Freeboard of the ice cube'))\n",
    "    length = int(input('enter a length of the ice cube'))\n",
    "    breath = int(input('enter a breath of the ice cube'))\n",
    "    return(Freebroad , length , breath)\n",
    "\n",
    "# calculating the volume function \n",
    "def floe_process(Free_board , l , b):\n",
    "      cal_thickness = 9 * Free_board  # Assuming the total ice thickness is 9 part (1/9th Freeboard + 8/9th draft)\n",
    "      cal_draft = cal_thickness - Free_board\n",
    "      cal_area = l * b\n",
    "      cal_volume = cal_thickness * cal_area\n",
    "      return(cal_volume)\n",
    "# output function \n",
    "def floe_output(Vol , Free , len , Breaath):\n",
    "    print(f\"the volume is  : {Vol}\")\n",
    "    print(f\"the Freeboard is  : {Free}\" )\n",
    "    print(f\"the length is  : {len} \")\n",
    "    print(f\"the breath is  : {Breaath} \")\n",
    "\n",
    "def main():\n",
    "   x = int(input(\"Enter a no.\"))\n",
    "   prime_odds(x)\n",
    "   Free , len , Breaath = floe_input()\n",
    "   volume = floe_process(Free , len , Breaath)\n",
    "   floe_output(volume , Free , len , Breaath )\n",
    "\n",
    "main() \n"
   ]
  },
  {
   "cell_type": "code",
   "execution_count": null,
   "metadata": {},
   "outputs": [
    {
     "name": "stdout",
     "output_type": "stream",
     "text": [
      "5\n",
      "5\n",
      "5\n"
     ]
    }
   ],
   "source": [
    "for Freebroad in range(0,3):\n",
    "        Freebroad = int(input('enter a height of the ice cube'))\n",
    "        print(Freebroad)"
   ]
  },
  {
   "cell_type": "code",
   "execution_count": null,
   "metadata": {},
   "outputs": [
    {
     "name": "stdout",
     "output_type": "stream",
     "text": [
      "1\n",
      "('1',)\n",
      "2\n",
      "('1', '2')\n",
      "3\n",
      "('1', '2', '3')\n",
      "4\n",
      "('1', '2', '3', '4')\n",
      "5\n",
      "('1', '2', '3', '4', '5')\n"
     ]
    }
   ],
   "source": [
    "T = ()\n",
    "for i in range(5):\n",
    "    i = (input(\"enter a no\"))\n",
    "    print(i)\n",
    "    T = T + (i,) \n",
    "    print(T)\n"
   ]
  },
  {
   "cell_type": "code",
   "execution_count": 4,
   "metadata": {},
   "outputs": [
    {
     "name": "stdout",
     "output_type": "stream",
     "text": [
      "Incorrect password. Tries remaining:  2\n",
      "Incorrect password. Tries remaining:  1\n",
      "Incorrect password. Tries remaining:  0\n",
      "Maximum attempts reached - access failed\n"
     ]
    }
   ],
   "source": [
    "attempt = 3\n",
    "while attempt > 0:\n",
    "    password = input(\"Enter your password: \")\n",
    "    if password == 'COMP101':\n",
    "        print(\"Password Accepted.\")\n",
    "        break\n",
    "    else:\n",
    "        attempt = attempt-1 #count down\n",
    "        print(\"Incorrect password. Tries remaining: \", attempt)\n",
    "else:\n",
    "    print(\"Maximum attempts reached - access failed\")\n",
    "\n",
    "    \n"
   ]
  },
  {
   "cell_type": "code",
   "execution_count": 9,
   "metadata": {},
   "outputs": [
    {
     "name": "stdout",
     "output_type": "stream",
     "text": [
      "9\n",
      "8\n",
      "7\n",
      "6\n",
      "loop excludes number 5\n"
     ]
    }
   ],
   "source": [
    "nums = 10\n",
    "while nums > 0:\n",
    "    nums = nums-1\n",
    "    if nums == 5:\n",
    "       break\n",
    "    print (nums)\n",
    "print ('loop excludes number 5')"
   ]
  },
  {
   "cell_type": "code",
   "execution_count": 13,
   "metadata": {},
   "outputs": [
    {
     "name": "stdout",
     "output_type": "stream",
     "text": [
      "9\n",
      "8\n",
      "7\n",
      "6\n",
      "5\n",
      "4\n",
      "3\n",
      "2\n",
      "1\n",
      "0\n",
      "loop will exclude number 5 when it is finished\n"
     ]
    }
   ],
   "source": [
    "nums = 10\n",
    "while nums > 0:\n",
    "    nums = nums-1\n",
    "    if nums == 5:\n",
    "       pass\n",
    "    print (nums)\n",
    "print ('loop will exclude number 5 when it is finished')\n"
   ]
  },
  {
   "cell_type": "code",
   "execution_count": 17,
   "metadata": {},
   "outputs": [
    {
     "name": "stdout",
     "output_type": "stream",
     "text": [
      "pass\n",
      "pass\n",
      "No more grades for this student\n"
     ]
    }
   ],
   "source": [
    "student = input(\"Students y/n: \")\n",
    "while student == 'y': # nest level-01\n",
    "    for i in range(2): #for nested in while – nest level-02\n",
    "      grade = int(input('Enter grade: '))\n",
    "      if grade >=40: #if nested in for – nest level-03\n",
    "        print ('pass')\n",
    "      else:\n",
    "        print ('fail')\n",
    "    print (\"No more grades for this student\") # end if\n",
    "    student = input ('Another student y/n: ') #end for"
   ]
  },
  {
   "cell_type": "code",
   "execution_count": 84,
   "metadata": {},
   "outputs": [
    {
     "name": "stdout",
     "output_type": "stream",
     "text": [
      "807\n",
      "708\n",
      "708\n"
     ]
    }
   ],
   "source": [
    "l1 = [2 , 4 , 3]\n",
    "l2 = [5 , 6 ,4]\n",
    "l1 = l1[::-1]\n",
    "l2 = l2[::-1]\n",
    "s = ''\n",
    "a = ''\n",
    "for j in l2:\n",
    "    a = a + str(j)\n",
    "for i in l1:\n",
    "    s = s + str(i)\n",
    "s = int(s)\n",
    "a = int(a)\n",
    "l3 = s + a\n",
    "print(l3)\n",
    "rev = 0\n",
    "result = []\n",
    "while(l3>0):\n",
    "    last_digit = l3 % 10\n",
    "    rev = rev * 10 + last_digit\n",
    "    l3 //= 10\n",
    "print(rev)\n",
    "rev = str(rev)\n",
    "print(rev)\n",
    "result = result + [rev]\n",
    "\n",
    "\n",
    "\n"
   ]
  },
  {
   "cell_type": "code",
   "execution_count": 81,
   "metadata": {},
   "outputs": [
    {
     "data": {
      "text/plain": [
       "0"
      ]
     },
     "execution_count": 81,
     "metadata": {},
     "output_type": "execute_result"
    }
   ],
   "source": [
    "l3 = l3 % 10\n",
    "l3"
   ]
  },
  {
   "cell_type": "code",
   "execution_count": 13,
   "metadata": {},
   "outputs": [
    {
     "name": "stdout",
     "output_type": "stream",
     "text": [
      "012345"
     ]
    }
   ],
   "source": [
    "if __name__ == '__main__':\n",
    "    a = int(input())\n",
    "    for i in range(n+1):\n",
    "        print(i , end = '')"
   ]
  },
  {
   "cell_type": "code",
   "execution_count": 1,
   "metadata": {},
   "outputs": [
    {
     "name": "stdout",
     "output_type": "stream",
     "text": [
      "\n",
      "Student Details:\n",
      "\n",
      "Results:\n",
      "Student -ID             Coding                      Testing                 Late              Raw Grade          Final Grade \n",
      "STUD1                     50                          50                     0                   50.0              50.0\n"
     ]
    }
   ],
   "source": [
    "num_student = int(input(\"enter a no.of student to grade : \")) # taking an input for no. of student to grade\n",
    "for i in range(1 , num_student + 1):\n",
    "    print(\"\\nStudent Details:\")\n",
    "\n",
    "    # Auto generate student ID\n",
    "\n",
    "    stud_id = \"STUD\" + str(i)\n",
    "\n",
    "    # input grade for coding part\n",
    "    \n",
    "    coding_grade = int(input(\"Enter grade for coding part (or leave blank if not submitted) \"))\n",
    "    # default=None\n",
    "    \n",
    "    if coding_grade is None or coding_grade == 0:\n",
    "        coding_grade = 0\n",
    "    else:\n",
    "        while coding_grade < 50 or coding_grade > 100 :\n",
    "            coding_grade = int(input(\"Invalid coding grade. Grade must be between 50 and 100.\"))\n",
    "            \n",
    "        \n",
    "    # input grade for testing part\n",
    "\n",
    "\n",
    "    testing_grade = int(input(\"Enter grade for testing part (or leave blank if not submitted) \"))\n",
    "\n",
    "    if testing_grade is None or testing_grade == 0:\n",
    "        testing_grade = 0\n",
    "    else:\n",
    "        while testing_grade < 50 or testing_grade > 100:\n",
    "            testing_grade = int(input(\"Invalid testing grade. Grade must be between 50 and 100.\"))\n",
    "\n",
    "      # Input days late\n",
    "      \n",
    "    days_late = int(input(\"Enter days late (0 to 2): \"))\n",
    "    if days_late < 0 or days_late > 2:\n",
    "        print(\"Invalid input. Days late must be between 0 and 2.\")\n",
    "\n",
    "    # Calculate raw grade\n",
    "    \n",
    "    raw_grade = (coding_grade + testing_grade) / 2\n",
    "\n",
    "    # Calculate late penalty\n",
    "    late_penalty = 5 * days_late  # Example: 5 penalty for each late day\n",
    "\n",
    "    # Calculate final grade\n",
    "    final_grade = raw_grade - late_penalty\n",
    "    if final_grade is not None:\n",
    "            print(\"\\nResults:\")\n",
    "            print(\"Student -ID             Coding                      Testing                 Late              Raw Grade          Final Grade \")\n",
    "            print(f\"{stud_id}                     {coding_grade}                          {testing_grade}                     {days_late}                   {raw_grade}              {final_grade}\") \n",
    "           "
   ]
  },
  {
   "cell_type": "code",
   "execution_count": 28,
   "metadata": {},
   "outputs": [
    {
     "name": "stdout",
     "output_type": "stream",
     "text": [
      "    1    1    1     1\n",
      "    2    2    2    10\n",
      "    3    3    3    11\n",
      "    4    4    4   100\n",
      "    5    5    5   101\n",
      "    6    6    6   110\n",
      "    7    7    7   111\n",
      "    8   10    8  1000\n",
      "    9   11    9  1001\n",
      "   10   12    A  1010\n",
      "   11   13    B  1011\n",
      "   12   14    C  1100\n",
      "   13   15    D  1101\n",
      "   14   16    E  1110\n",
      "   15   17    F  1111\n",
      "   16   20   10 10000\n",
      "   17   21   11 10001\n"
     ]
    }
   ],
   "source": [
    "def print_formatted(number):\n",
    "    # your code goes here\n",
    "    width = len(bin(number)[2:])\n",
    "    for i in range(1,number+1):\n",
    "        decimal_value = str(i).rjust(width, ' ')\n",
    "        octal_value = oct(i)[2:].rjust(width, ' ')\n",
    "        hexadecimal_value = hex(i)[2:].upper().rjust(width, ' ')\n",
    "        binary_value = bin(i)[2:].rjust(width, ' ')\n",
    "        print(f\"{decimal_value}{octal_value}{hexadecimal_value} {binary_value}\")\n",
    "\n",
    "        \n",
    "\n",
    "if __name__ == '__main__':\n",
    "    n = int(input())\n",
    "    print_formatted(n)"
   ]
  },
  {
   "cell_type": "code",
   "execution_count": 5,
   "metadata": {},
   "outputs": [
    {
     "data": {
      "text/plain": [
       "'0b1'"
      ]
     },
     "execution_count": 5,
     "metadata": {},
     "output_type": "execute_result"
    }
   ],
   "source": [
    "bin(1)"
   ]
  },
  {
   "cell_type": "code",
   "execution_count": 17,
   "metadata": {},
   "outputs": [
    {
     "name": "stdout",
     "output_type": "stream",
     "text": [
      "12\n"
     ]
    }
   ],
   "source": [
    "dec = str(12)\n",
    "print(dec)"
   ]
  },
  {
   "cell_type": "code",
   "execution_count": 52,
   "metadata": {},
   "outputs": [],
   "source": [
    "#def alien_char(SiblingFamiliar):\n",
    "    #char1 = []\n",
    "    ##char2 = []\n",
    "    #for i in (SiblingFamiliar):\n",
    "        #char1.append(i[:2])\n",
    "    #print(char1)\n",
    "\n",
    "\n",
    "\n",
    "def main():\n",
    "    actorGivenList = ['andrei','harry','yuan','sadiq','zeng']\n",
    "    actorFamilyList = ['stephens','venables','spield','elbahi','ergan'] \n",
    "    SiblingFamiliar = []\n",
    "    for i in range(len(actorGivenList)): #loop 5 times\n",
    "        FirstFull = actorGivenList[i]\n",
    "        secondFull = actorFamilyList[i]\n",
    "        sib_Family = FirstFull + ' ' + secondFull\n",
    "        SiblingFamiliar.append(sib_Family)\n",
    "    print(SiblingFamiliar)\n",
    "    #alien_char(SiblingFamiliar)\n",
    "    char1 = []\n",
    "    char2 = []\n",
    "    for i in (SiblingFamiliar):\n",
    "        char1.append(i[:2])\n",
    "    print(char1)\n",
    "\n",
    "    main()\n",
    "\n"
   ]
  },
  {
   "cell_type": "code",
   "execution_count": 42,
   "metadata": {},
   "outputs": [
    {
     "name": "stdout",
     "output_type": "stream",
     "text": [
      "stephen leszek penny victor jenny\n",
      "['ste', 'les', 'pen', 'vic', 'jen']\n"
     ]
    }
   ],
   "source": [
    "siblingString = ' '.join(siblingList)\n",
    "print(siblingString)\n",
    "\n",
    "\n",
    "\n",
    "siblingList = ['stephen', 'leszek', 'penny', 'victor', 'jenny']\n",
    "#initialise an empty list to hold first 3 characters of the name\n",
    "familiarList = []\n",
    "#loop through every name in the original list\n",
    "for i in (siblingList): #loop 5 times\n",
    "    familiarList.append(i[:3]) #slice first 3 letters from each name\n",
    "print (familiarList)"
   ]
  },
  {
   "cell_type": "code",
   "execution_count": 43,
   "metadata": {},
   "outputs": [
    {
     "name": "stdout",
     "output_type": "stream",
     "text": [
      "['stephen ste', 'leszek les', 'penny pen', 'victor vic', 'jenny jen']\n"
     ]
    }
   ],
   "source": [
    "siblingFamiliar = []\n",
    "for i in range (len(siblingList)): #loop 5 times through both lists\n",
    "    firstFull = siblingList[i] #full name from first list\n",
    "    secondFamiliar = familiarList[i] #3-char name from short-name list\n",
    "#concatenate full name with short-name with a space between them\n",
    "    siblingName = firstFull + ' ' + secondFamiliar\n",
    "    siblingFamiliar.append(siblingName)\n",
    "print (siblingFamiliar)"
   ]
  },
  {
   "cell_type": "code",
   "execution_count": 73,
   "metadata": {},
   "outputs": [
    {
     "name": "stdout",
     "output_type": "stream",
     "text": [
      "['andrei  stephens', 'harry  venables', 'yuan  spield', 'sadiq  elbahi', 'zeng  ergan']\n",
      "andrei  stephens, harry  venables, yuan  spield, sadiq  elbahi, zeng  ergan\n",
      "75\n"
     ]
    },
    {
     "ename": "IndexError",
     "evalue": "list index out of range",
     "output_type": "error",
     "traceback": [
      "\u001b[0;31m---------------------------------------------------------------------------\u001b[0m",
      "\u001b[0;31mIndexError\u001b[0m                                Traceback (most recent call last)",
      "\u001b[1;32m/workspaces/digipodium-ds/practise.ipynb Cell 42\u001b[0m line \u001b[0;36m1\n\u001b[1;32m     <a href='vscode-notebook-cell://codespaces%2Bsuper-duper-spork-g4qqrrq5xvpv3wg44/workspaces/digipodium-ds/practise.ipynb#X60sdnNjb2RlLXJlbW90ZQ%3D%3D?line=14'>15</a>\u001b[0m \u001b[39mprint\u001b[39m(\u001b[39mlen\u001b[39m(x))\n\u001b[1;32m     <a href='vscode-notebook-cell://codespaces%2Bsuper-duper-spork-g4qqrrq5xvpv3wg44/workspaces/digipodium-ds/practise.ipynb#X60sdnNjb2RlLXJlbW90ZQ%3D%3D?line=15'>16</a>\u001b[0m \u001b[39mfor\u001b[39;00m i \u001b[39min\u001b[39;00m \u001b[39mrange\u001b[39m(\u001b[39mlen\u001b[39m(SiblingFamiliar)):\n\u001b[0;32m---> <a href='vscode-notebook-cell://codespaces%2Bsuper-duper-spork-g4qqrrq5xvpv3wg44/workspaces/digipodium-ds/practise.ipynb#X60sdnNjb2RlLXJlbW90ZQ%3D%3D?line=16'>17</a>\u001b[0m     \u001b[39mprint\u001b[39m(char1[i])\n\u001b[1;32m     <a href='vscode-notebook-cell://codespaces%2Bsuper-duper-spork-g4qqrrq5xvpv3wg44/workspaces/digipodium-ds/practise.ipynb#X60sdnNjb2RlLXJlbW90ZQ%3D%3D?line=17'>18</a>\u001b[0m \u001b[39m#print(char2)\u001b[39;00m\n\u001b[1;32m     <a href='vscode-notebook-cell://codespaces%2Bsuper-duper-spork-g4qqrrq5xvpv3wg44/workspaces/digipodium-ds/practise.ipynb#X60sdnNjb2RlLXJlbW90ZQ%3D%3D?line=18'>19</a>\u001b[0m \u001b[39m#print(char1)\u001b[39;00m\n",
      "\u001b[0;31mIndexError\u001b[0m: list index out of range"
     ]
    }
   ],
   "source": [
    "actorGivenList = ['andrei','harry','yuan','sadiq','zeng']\n",
    "actorFamilyList = ['stephens','venables','spield','elbahi','ergan'] \n",
    "SiblingFamiliar = []\n",
    "for i in range(len(actorGivenList)): #loop 5 times\n",
    "    FirstFull = actorGivenList[i]\n",
    "    secondFull = actorFamilyList[i]\n",
    "    sib_Family = FirstFull + '  ' + secondFull\n",
    "    SiblingFamiliar.append(sib_Family)\n",
    "print(SiblingFamiliar)\n",
    "    #alien_char(SiblingFamiliar)\n",
    "char1 = []\n",
    "char2 = []\n",
    "x = ', '.join(SiblingFamiliar)\n",
    "print(x)\n",
    "print(len(x))\n",
    "for i in range(len(SiblingFamiliar)):\n",
    "    \n",
    "#print(char2)\n",
    "#print(char1)"
   ]
  },
  {
   "cell_type": "code",
   "execution_count": 95,
   "metadata": {},
   "outputs": [
    {
     "name": "stdout",
     "output_type": "stream",
     "text": [
      "Credits:\n",
      "andrei stephens  plays stean                                        \n",
      "harry venables  plays venha                                        \n",
      "yuan spield  plays spiyu                                        \n",
      "sadiq elbahi  plays elbsa                                        \n",
      "zeng ergan  plays ergze                                        \n"
     ]
    }
   ],
   "source": [
    "def generate_alien_names(actor_given_list, actor_family_list):\n",
    "    alien_names = []\n",
    "\n",
    "    for given_name, family_name in zip(actor_given_list, actor_family_list):\n",
    "        # Extracting characters from given-name and family-name\n",
    "        given_name_chars = given_name[:2]\n",
    "        family_name_chars = family_name[:3]\n",
    "\n",
    "        # Concatenating to create alien names\n",
    "        alien_name = family_name_chars + given_name_chars\n",
    "        alien_names.append(alien_name)\n",
    "\n",
    "    return alien_names\n",
    "\n",
    "def display_credits(actor_Full_Name, alien_names):\n",
    "    print(\"Credits:\")\n",
    "    for actor, alien_name in zip(actor_Full_Name, alien_names):\n",
    "        print(f\"{actor}  plays {alien_name:<45}\")\n",
    "\n",
    "# Provided lists\n",
    "actorGivenList = ['andrei', 'harry', 'yuan', 'sadiq', 'zeng']\n",
    "actorFamilyList = ['stephens', 'venables', 'spield', 'elbahi', 'ergan']\n",
    "\n",
    "# Generate alien names\n",
    "alien_names_list = generate_alien_names(actorGivenList, actorFamilyList)\n",
    "actorFullName = []\n",
    "for i in range(len(actorGivenList)):\n",
    "    firstname = actorGivenList[i]\n",
    "    Secondname = actorFamilyList[i]\n",
    "    FullName = firstname + ' ' +  Secondname\n",
    "    actorFullName.append(FullName)\n",
    "\n",
    "# Display credits\n",
    "display_credits(actorFullName, alien_names_list)\n"
   ]
  },
  {
   "cell_type": "code",
   "execution_count": 96,
   "metadata": {},
   "outputs": [
    {
     "ename": "TypeError",
     "evalue": "'int' object is not iterable",
     "output_type": "error",
     "traceback": [
      "\u001b[0;31m---------------------------------------------------------------------------\u001b[0m",
      "\u001b[0;31mTypeError\u001b[0m                                 Traceback (most recent call last)",
      "\u001b[1;32m/workspaces/digipodium-ds/practise.ipynb Cell 44\u001b[0m line \u001b[0;36m1\n\u001b[0;32m----> <a href='vscode-notebook-cell://codespaces%2Bsuper-duper-spork-g4qqrrq5xvpv3wg44/workspaces/digipodium-ds/practise.ipynb#X63sdnNjb2RlLXJlbW90ZQ%3D%3D?line=0'>1</a>\u001b[0m \u001b[39mfor\u001b[39;00m i \u001b[39min\u001b[39;00m (\u001b[39m3\u001b[39m):\n\u001b[1;32m      <a href='vscode-notebook-cell://codespaces%2Bsuper-duper-spork-g4qqrrq5xvpv3wg44/workspaces/digipodium-ds/practise.ipynb#X63sdnNjb2RlLXJlbW90ZQ%3D%3D?line=1'>2</a>\u001b[0m     \u001b[39mprint\u001b[39m (i)\n",
      "\u001b[0;31mTypeError\u001b[0m: 'int' object is not iterable"
     ]
    }
   ],
   "source": [
    "for i in (3):\n",
    "    print (i)"
   ]
  },
  {
   "cell_type": "code",
   "execution_count": 97,
   "metadata": {},
   "outputs": [
    {
     "name": "stdout",
     "output_type": "stream",
     "text": [
      "0\n",
      "3\n"
     ]
    }
   ],
   "source": [
    "for i in (0,3):\n",
    "    print (i)"
   ]
  },
  {
   "cell_type": "code",
   "execution_count": 101,
   "metadata": {},
   "outputs": [
    {
     "name": "stdout",
     "output_type": "stream",
     "text": [
      "bat\n",
      "bat\n",
      "bat\n"
     ]
    }
   ],
   "source": [
    "word = \"bat\"\n",
    "for i in word:\n",
    "    print(word)"
   ]
  },
  {
   "cell_type": "code",
   "execution_count": 11,
   "metadata": {},
   "outputs": [
    {
     "name": "stdout",
     "output_type": "stream",
     "text": [
      "this-is-a-string-\n"
     ]
    }
   ],
   "source": [
    "def split_and_join(line):\n",
    "    # write your code here\n",
    "    line = line.split(\" \")\n",
    "    line = '-'.join(line)\n",
    "    return line\n",
    "\n",
    "if __name__ == '__main__':\n",
    "    line = \"this is a string \" # input()\n",
    "    result = split_and_join(line)\n",
    "    print(result)"
   ]
  },
  {
   "cell_type": "code",
   "execution_count": 18,
   "metadata": {},
   "outputs": [
    {
     "name": "stdout",
     "output_type": "stream",
     "text": [
      "Hello Aamir Ahmed You just delved into python\n"
     ]
    }
   ],
   "source": [
    "def print_full_name(first, last):\n",
    "    # Write your code here\n",
    "    x = first + \" \" + last\n",
    "    string = \"Hello\" + \" \" + x  + \" \"+ \"You just delved into python\" \n",
    "    return string\n",
    "    \n",
    "\n",
    "if __name__ == '__main__':\n",
    "    first_name = input()\n",
    "    last_name = input()\n",
    "    print(print_full_name(first_name, last_name))\n",
    "    #print(y)"
   ]
  },
  {
   "cell_type": "code",
   "execution_count": 24,
   "metadata": {},
   "outputs": [
    {
     "name": "stdout",
     "output_type": "stream",
     "text": [
      "0\n"
     ]
    }
   ],
   "source": [
    "def count_substring(string, sub_string):\n",
    "    ct = 0\n",
    "    for i in range(0 , len(string)):\n",
    "        if sub_string == i:\n",
    "            ct += 1\n",
    "    return ct\n",
    "\n",
    "if __name__ == '__main__':\n",
    "    string = input().strip()\n",
    "    sub_string = input().strip()\n",
    "    \n",
    "    count = count_substring(string, sub_string)\n",
    "    print(count)"
   ]
  },
  {
   "cell_type": "code",
   "execution_count": 44,
   "metadata": {},
   "outputs": [
    {
     "data": {
      "text/plain": [
       "1"
      ]
     },
     "execution_count": 44,
     "metadata": {},
     "output_type": "execute_result"
    }
   ],
   "source": [
    "string = 'ABCDCDC'\n",
    "sub = \"CDC\"\n",
    "string.count()\n"
   ]
  },
  {
   "cell_type": "code",
   "execution_count": 25,
   "metadata": {},
   "outputs": [
    {
     "ename": "NameError",
     "evalue": "name 'A' is not defined",
     "output_type": "error",
     "traceback": [
      "\u001b[0;31m---------------------------------------------------------------------------\u001b[0m",
      "\u001b[0;31mNameError\u001b[0m                                 Traceback (most recent call last)",
      "\u001b[1;32m/workspaces/digipodium-ds/practise.ipynb Cell 51\u001b[0m line \u001b[0;36m1\n\u001b[0;32m----> <a href='vscode-notebook-cell://codespaces%2Bsuper-duper-spork-g4qqrrq5xvpv3wg44/workspaces/digipodium-ds/practise.ipynb#Y101sdnNjb2RlLXJlbW90ZQ%3D%3D?line=0'>1</a>\u001b[0m \u001b[39mabs\u001b[39m(A)\n",
      "\u001b[0;31mNameError\u001b[0m: name 'A' is not defined"
     ]
    }
   ],
   "source": [
    "abs(A)"
   ]
  },
  {
   "cell_type": "code",
   "execution_count": 49,
   "metadata": {},
   "outputs": [],
   "source": [
    "string = 'ABCDCDC'\n",
    "sub = \"CDC\"\n",
    "count = 0\n",
    "for i in range(len(string) - len(sub) + 1):\n",
    "    if string[i:i+len(sub)] == sub:\n",
    "            count += 1\n",
    "\n",
    "  "
   ]
  },
  {
   "cell_type": "code",
   "execution_count": null,
   "metadata": {},
   "outputs": [],
   "source": [
    "def count_substring(string, substring):\n",
    "    count = 0\n",
    "    for i in range(len(string) - len(substring) + 1):\n",
    "        if string[i:i+len(substring)] == substring:\n",
    "            count += 1\n",
    "    return count\n",
    "\n",
    "# Input\n",
    "original_string = input().strip()\n",
    "sub_string = input().strip()\n",
    "\n",
    "# Output\n",
    "result = count_substring(original_string, sub_string)\n",
    "print(result)"
   ]
  },
  {
   "cell_type": "code",
   "execution_count": 50,
   "metadata": {},
   "outputs": [
    {
     "name": "stdout",
     "output_type": "stream",
     "text": [
      "1\n"
     ]
    }
   ],
   "source": [
    "original_string = input().strip()\n",
    "sub_string = input().strip()\n",
    "\n",
    "# Output\n",
    "result = original_string.count(sub_string)\n",
    "print(result)"
   ]
  },
  {
   "cell_type": "code",
   "execution_count": 1,
   "metadata": {},
   "outputs": [],
   "source": [
    "import textwrap"
   ]
  },
  {
   "cell_type": "code",
   "execution_count": 3,
   "metadata": {},
   "outputs": [],
   "source": [
    "string, max_width = input(), int(input())\n",
    "sl = len(string)\n",
    "for i in range(sl%max_width):\n",
    "    x = string[i:max_width+1]\n",
    "print(x)"
   ]
  },
  {
   "cell_type": "code",
   "execution_count": 6,
   "metadata": {},
   "outputs": [
    {
     "name": "stdout",
     "output_type": "stream",
     "text": [
      "0.42857142857142855\n",
      "0.42857142857142855\n",
      "0.14285714285714285\n"
     ]
    }
   ],
   "source": [
    "arr = [1 , 2 , 3 , 0 , -1 , -2 , -3]\n",
    "\n",
    "\n"
   ]
  },
  {
   "cell_type": "code",
   "execution_count": 11,
   "metadata": {},
   "outputs": [
    {
     "ename": "ValueError",
     "evalue": "invalid literal for int() with base 10: '1,2,3,4'",
     "output_type": "error",
     "traceback": [
      "\u001b[0;31m---------------------------------------------------------------------------\u001b[0m",
      "\u001b[0;31mValueError\u001b[0m                                Traceback (most recent call last)",
      "\u001b[1;32m/workspaces/digipodium-ds/practise.ipynb Cell 58\u001b[0m line \u001b[0;36m2\n\u001b[1;32m     <a href='vscode-notebook-cell://codespaces%2Bsuper-duper-spork-g4qqrrq5xvpv3wg44/workspaces/digipodium-ds/practise.ipynb#Y111sdnNjb2RlLXJlbW90ZQ%3D%3D?line=18'>19</a>\u001b[0m \u001b[39mif\u001b[39;00m \u001b[39m__name__\u001b[39m \u001b[39m==\u001b[39m \u001b[39m'\u001b[39m\u001b[39m__main__\u001b[39m\u001b[39m'\u001b[39m:\n\u001b[1;32m     <a href='vscode-notebook-cell://codespaces%2Bsuper-duper-spork-g4qqrrq5xvpv3wg44/workspaces/digipodium-ds/practise.ipynb#Y111sdnNjb2RlLXJlbW90ZQ%3D%3D?line=19'>20</a>\u001b[0m     n \u001b[39m=\u001b[39m \u001b[39mint\u001b[39m(\u001b[39minput\u001b[39m()\u001b[39m.\u001b[39mstrip())\n\u001b[0;32m---> <a href='vscode-notebook-cell://codespaces%2Bsuper-duper-spork-g4qqrrq5xvpv3wg44/workspaces/digipodium-ds/practise.ipynb#Y111sdnNjb2RlLXJlbW90ZQ%3D%3D?line=21'>22</a>\u001b[0m     arr \u001b[39m=\u001b[39m \u001b[39mlist\u001b[39;49m(\u001b[39mmap\u001b[39;49m(\u001b[39mint\u001b[39;49m, \u001b[39minput\u001b[39;49m()\u001b[39m.\u001b[39;49mrstrip()\u001b[39m.\u001b[39;49msplit())) \u001b[39m# input in the list\u001b[39;00m\n\u001b[1;32m     <a href='vscode-notebook-cell://codespaces%2Bsuper-duper-spork-g4qqrrq5xvpv3wg44/workspaces/digipodium-ds/practise.ipynb#Y111sdnNjb2RlLXJlbW90ZQ%3D%3D?line=22'>23</a>\u001b[0m     \u001b[39mprint\u001b[39m(arr)\n\u001b[1;32m     <a href='vscode-notebook-cell://codespaces%2Bsuper-duper-spork-g4qqrrq5xvpv3wg44/workspaces/digipodium-ds/practise.ipynb#Y111sdnNjb2RlLXJlbW90ZQ%3D%3D?line=23'>24</a>\u001b[0m     \u001b[39mprint\u001b[39m(arr[\u001b[39m1\u001b[39m])\n",
      "\u001b[0;31mValueError\u001b[0m: invalid literal for int() with base 10: '1,2,3,4'"
     ]
    }
   ],
   "source": [
    "def plusMinus(arr):\n",
    "        cpo = 0\n",
    "        cne = 0\n",
    "        czero = 0\n",
    "        for i in arr:\n",
    "                if i > 0:\n",
    "                        cpo += 1\n",
    "                elif i<0:\n",
    "                        cne += 1\n",
    "                else:\n",
    "                        czero += 1\n",
    "        print(cpo/n)\n",
    "        print(cne/n)\n",
    "        print(czero/n)\n",
    "                        \n",
    "        \n",
    "    # Write your code here\n",
    "\n",
    "if __name__ == '__main__':\n",
    "    n = int(input().strip())\n",
    "\n",
    "    arr = list(map(int, input().rstrip().split())) # input in the list\n",
    "    print(arr)\n",
    "    print(arr[1])\n",
    "\n",
    "    plusMinus(arr)"
   ]
  },
  {
   "cell_type": "code",
   "execution_count": 44,
   "metadata": {},
   "outputs": [
    {
     "name": "stdout",
     "output_type": "stream",
     "text": [
      "3\n",
      "5\n",
      "7\n",
      "9\n",
      "11\n"
     ]
    }
   ],
   "source": [
    "def miniMaxSum(arr):\n",
    "        arrempty = []\n",
    "        for i in (arr):\n",
    "            add = i + i+1\n",
    "            print(add) \n",
    "              \n",
    "    # Write your code here\n",
    "\n",
    "if __name__ == '__main__':\n",
    "\n",
    "    arr = list(map(int, input().rstrip().split()))\n",
    "\n",
    "    miniMaxSum(arr)"
   ]
  },
  {
   "cell_type": "code",
   "execution_count": 45,
   "metadata": {},
   "outputs": [
    {
     "name": "stdout",
     "output_type": "stream",
     "text": [
      "10 14\n"
     ]
    }
   ],
   "source": [
    "def miniMaxSum(arr):\n",
    "    # Sort the array\n",
    "    arr.sort()\n",
    "    \n",
    "    # Calculate the minimum sum by excluding the maximum element\n",
    "    min_sum = sum(arr[:-1])\n",
    "    \n",
    "    # Calculate the maximum sum by excluding the minimum element\n",
    "    max_sum = sum(arr[1:])\n",
    "    \n",
    "    # Print the results\n",
    "    print(min_sum, max_sum)\n",
    "\n",
    "# Example usage\n",
    "input_array = list(map(int, input().split()))\n",
    "miniMaxSum(input_array)"
   ]
  },
  {
   "cell_type": "code",
   "execution_count": 3,
   "metadata": {},
   "outputs": [
    {
     "ename": "KeyError",
     "evalue": "'OUTPUT_PATH'",
     "output_type": "error",
     "traceback": [
      "\u001b[0;31m---------------------------------------------------------------------------\u001b[0m",
      "\u001b[0;31mKeyError\u001b[0m                                  Traceback (most recent call last)",
      "\u001b[1;32m/workspaces/digipodium-ds/practise.ipynb Cell 61\u001b[0m line \u001b[0;36m2\n\u001b[1;32m     <a href='vscode-notebook-cell://codespaces%2Bsuper-duper-spork-g4qqrrq5xvpv3wg44/workspaces/digipodium-ds/practise.ipynb#Y114sdnNjb2RlLXJlbW90ZQ%3D%3D?line=20'>21</a>\u001b[0m     \u001b[39m# Write your code here\u001b[39;00m\n\u001b[1;32m     <a href='vscode-notebook-cell://codespaces%2Bsuper-duper-spork-g4qqrrq5xvpv3wg44/workspaces/digipodium-ds/practise.ipynb#Y114sdnNjb2RlLXJlbW90ZQ%3D%3D?line=22'>23</a>\u001b[0m \u001b[39mif\u001b[39;00m \u001b[39m__name__\u001b[39m \u001b[39m==\u001b[39m \u001b[39m'\u001b[39m\u001b[39m__main__\u001b[39m\u001b[39m'\u001b[39m:\n\u001b[0;32m---> <a href='vscode-notebook-cell://codespaces%2Bsuper-duper-spork-g4qqrrq5xvpv3wg44/workspaces/digipodium-ds/practise.ipynb#Y114sdnNjb2RlLXJlbW90ZQ%3D%3D?line=23'>24</a>\u001b[0m     fptr \u001b[39m=\u001b[39m \u001b[39mopen\u001b[39m(os\u001b[39m.\u001b[39;49menviron[\u001b[39m'\u001b[39;49m\u001b[39mOUTPUT_PATH\u001b[39;49m\u001b[39m'\u001b[39;49m], \u001b[39m'\u001b[39m\u001b[39mw\u001b[39m\u001b[39m'\u001b[39m)\n\u001b[1;32m     <a href='vscode-notebook-cell://codespaces%2Bsuper-duper-spork-g4qqrrq5xvpv3wg44/workspaces/digipodium-ds/practise.ipynb#Y114sdnNjb2RlLXJlbW90ZQ%3D%3D?line=25'>26</a>\u001b[0m     s \u001b[39m=\u001b[39m \u001b[39minput\u001b[39m()\n\u001b[1;32m     <a href='vscode-notebook-cell://codespaces%2Bsuper-duper-spork-g4qqrrq5xvpv3wg44/workspaces/digipodium-ds/practise.ipynb#Y114sdnNjb2RlLXJlbW90ZQ%3D%3D?line=27'>28</a>\u001b[0m     result \u001b[39m=\u001b[39m timeConversion(s)\n",
      "File \u001b[0;32m~/.python/current/lib/python3.10/os.py:680\u001b[0m, in \u001b[0;36m_Environ.__getitem__\u001b[0;34m(self, key)\u001b[0m\n\u001b[1;32m    677\u001b[0m     value \u001b[39m=\u001b[39m \u001b[39mself\u001b[39m\u001b[39m.\u001b[39m_data[\u001b[39mself\u001b[39m\u001b[39m.\u001b[39mencodekey(key)]\n\u001b[1;32m    678\u001b[0m \u001b[39mexcept\u001b[39;00m \u001b[39mKeyError\u001b[39;00m:\n\u001b[1;32m    679\u001b[0m     \u001b[39m# raise KeyError with the original key value\u001b[39;00m\n\u001b[0;32m--> 680\u001b[0m     \u001b[39mraise\u001b[39;00m \u001b[39mKeyError\u001b[39;00m(key) \u001b[39mfrom\u001b[39;00m \u001b[39mNone\u001b[39;00m\n\u001b[1;32m    681\u001b[0m \u001b[39mreturn\u001b[39;00m \u001b[39mself\u001b[39m\u001b[39m.\u001b[39mdecodevalue(value)\n",
      "\u001b[0;31mKeyError\u001b[0m: 'OUTPUT_PATH'"
     ]
    }
   ],
   "source": [
    "import math\n",
    "import os\n",
    "import random\n",
    "import re\n",
    "import sys\n",
    "\n",
    "\n",
    "def timeConversion(s):\n",
    "        sub =  int(s[0:2])\n",
    "        if sub < 12:\n",
    "                sub = sub + 12\n",
    "                str(sub)\n",
    "                s = sub + s\n",
    "        else:\n",
    "                sub = sub - 12\n",
    "                str(sub)\n",
    "                s = sub + s\n",
    "        return s\n",
    "                \n",
    "                \n",
    "    # Write your code here\n",
    "\n",
    "if __name__ == '__main__':\n",
    "    fptr = open(os.environ['OUTPUT_PATH'], 'w')\n",
    "\n",
    "    s = input()\n",
    "\n",
    "    result = timeConversion(s)\n",
    "\n",
    "    fptr.write(result + '\\n')\n",
    "\n",
    "    fptr.close()"
   ]
  },
  {
   "cell_type": "code",
   "execution_count": 2,
   "metadata": {},
   "outputs": [
    {
     "name": "stdout",
     "output_type": "stream",
     "text": [
      "2\n"
     ]
    }
   ],
   "source": [
    "if __name__ == '__main__':\n",
    "    n = int(input())\n",
    "    arr = map(int, input().split())\n",
    "    \n",
    "    # Convert the map object to a list and remove duplicates\n",
    "    scores = list(set(arr))\n",
    "    \n",
    "    # Sort the list in descending order\n",
    "    scores.sort(reverse=True)\n",
    "    \n",
    "    # Print the runner-up score\n",
    "    print(scores[1])"
   ]
  },
  {
   "cell_type": "code",
   "execution_count": 2,
   "metadata": {},
   "outputs": [
    {
     "name": "stdout",
     "output_type": "stream",
     "text": [
      "[-57, 57]\n",
      "-57\n"
     ]
    }
   ],
   "source": [
    "if __name__ == '__main__':\n",
    "    n = int(input())\n",
    "    arr = map(int, input().split())\n",
    "    score = list(set(arr))\n",
    "    x = sorted(score)\n",
    "    print(x)\n",
    "    print(x[-2])"
   ]
  },
  {
   "cell_type": "code",
   "execution_count": 18,
   "metadata": {},
   "outputs": [],
   "source": [
    "if __name__ == '__main__':\n",
    "        for i in range(int(input())):\n",
    "            name = input()\n",
    "            score = float(input())\n",
    "            arr = [[name , score ] , ]"
   ]
  },
  {
   "cell_type": "code",
   "execution_count": 25,
   "metadata": {},
   "outputs": [
    {
     "name": "stdout",
     "output_type": "stream",
     "text": [
      "['ABCDEFGH']\n",
      "8\n",
      "ABCD\n",
      "BCD\n"
     ]
    }
   ],
   "source": [
    "string = 'ABCDEFGH'\n",
    "x = string.splitlines()\n",
    "print(x)\n",
    "width = 4\n",
    "x = len(string)\n",
    "print(x)\n",
    "n = x // width\n",
    "for i in range(n):\n",
    "    print(string[i:width])\n",
    "    \n",
    "    "
   ]
  },
  {
   "cell_type": "code",
   "execution_count": 26,
   "metadata": {},
   "outputs": [
    {
     "name": "stdout",
     "output_type": "stream",
     "text": [
      "ABCD\n",
      "EFGH\n"
     ]
    }
   ],
   "source": [
    "def wrap(string, max_width):\n",
    "    # Use textwrap module to wrap the string\n",
    "    import textwrap\n",
    "    wrapped_string = textwrap.fill(string, width=max_width)\n",
    "    return wrapped_string\n",
    "\n",
    "if __name__ == '__main__':\n",
    "    # Input the string\n",
    "    input_string = input()\n",
    "\n",
    "    # Input the width\n",
    "    width = int(input())\n",
    "\n",
    "    # Call the wrap function and print the result\n",
    "    result = wrap(input_string, width)\n",
    "    print(result)"
   ]
  },
  {
   "cell_type": "code",
   "execution_count": 29,
   "metadata": {},
   "outputs": [
    {
     "name": "stdout",
     "output_type": "stream",
     "text": [
      "ABCD\n",
      "BCDE\n"
     ]
    }
   ],
   "source": [
    "def wrap(string, max_width):\n",
    "    # Initialize an empty list to store the wrapped lines\n",
    "    wrapped_lines = []\n",
    "    n = len(string)//max_width\n",
    "\n",
    "    # Iterate through the string and wrap it manually\n",
    "    for i in range(0 , len(string) , max_width):\n",
    "        # Append each wrapped line to the list\n",
    "        wrapped_lines.append(string[i:i + max_width])\n",
    "\n",
    "    # Join the wrapped lines with newline characters\n",
    "    wrapped_string = '\\n'.join(wrapped_lines)\n",
    "\n",
    "    return wrapped_string\n",
    "\n",
    "if __name__ == '__main__':\n",
    "    # Input the string\n",
    "    input_string = input()\n",
    "\n",
    "    # Input the width\n",
    "    width = int(input())\n",
    "    print(wrap(input_string , width))"
   ]
  },
  {
   "cell_type": "code",
   "execution_count": 5,
   "metadata": {},
   "outputs": [
    {
     "name": "stdout",
     "output_type": "stream",
     "text": [
      "3\n"
     ]
    }
   ],
   "source": [
    "x = int(input())\n",
    "arr = list(map(int , input().split()))\n",
    "if x % 2 == 0:\n",
    "     y = x//2 + 1\n",
    "     print(arr[y-1])\n",
    "else:\n",
    "     y = (x+1)//2\n",
    "     print(arr[y-1])\n"
   ]
  },
  {
   "cell_type": "code",
   "execution_count": 19,
   "metadata": {},
   "outputs": [
    {
     "name": "stdout",
     "output_type": "stream",
     "text": [
      "None\n"
     ]
    }
   ],
   "source": [
    "import math\n",
    "import os\n",
    "import random\n",
    "import re\n",
    "import sys\n",
    "def lonelyinteger(a):\n",
    "        x = sorted(a)\n",
    "        for i in x:\n",
    "              if i not in x:\n",
    "                    return 1\n",
    "                \n",
    "    # Write your code here\n",
    "\n",
    "if __name__ == '__main__':\n",
    "\n",
    "    n = int(input().strip())\n",
    "\n",
    "    a = list(map(int, input().rstrip().split()))\n",
    "\n",
    "    print(lonelyinteger(a))\n",
    "\n",
    "    "
   ]
  },
  {
   "cell_type": "markdown",
   "metadata": {},
   "source": [
    "Find the unique in list [1 , 2 ,3 , 4 , 3 , 2  , 1]\n",
    "o/p = 4"
   ]
  },
  {
   "cell_type": "code",
   "execution_count": 18,
   "metadata": {},
   "outputs": [
    {
     "name": "stdout",
     "output_type": "stream",
     "text": [
      "4\n"
     ]
    }
   ],
   "source": [
    "def lonelyinteger(a):\n",
    "    # Use XOR to find the unique element\n",
    "    result = 0\n",
    "    for num in a:\n",
    "        result ^= num\n",
    "    return result\n",
    "\n",
    "if __name__ == '__main__':\n",
    "    # Input the number of integers in the array\n",
    "    n = int(input())\n",
    "\n",
    "    # Input the array of integers\n",
    "    array = list(map(int, input().split()))\n",
    "\n",
    "    # Call the lonelyinteger function and print the result\n",
    "    result = lonelyinteger(array)\n",
    "    print(result)"
   ]
  },
  {
   "cell_type": "code",
   "execution_count": 4,
   "metadata": {},
   "outputs": [
    {
     "name": "stdout",
     "output_type": "stream",
     "text": [
      "1037\n",
      "KYQ\n",
      "TWX\n",
      "DQXW\n",
      "DLKI\n",
      "XNWI\n",
      "ITFB\n",
      "LIHR\n",
      "NGDZ\n",
      "GVYC\n",
      "RXVW\n",
      "NUVS\n",
      "FAC\n",
      "UXMC\n",
      "STF\n",
      "BNWQ\n",
      "VBQC\n",
      "WOEP\n",
      "NBOA\n",
      "VJUC\n",
      "OUGI\n",
      "TSMN\n",
      "LSUO\n",
      "FRA\n",
      "UXET\n",
      "NIKA\n",
      "JYCE\n",
      "JWIX\n",
      "SOHM\n",
      "GUBT\n",
      "OWKV\n",
      "PXJ\n",
      "OCEB\n",
      "KPDW\n",
      "NFCX\n",
      "DLWV\n",
      "ZEJI\n",
      "ALBO\n",
      "JLY\n",
      "CIJQ\n",
      "KOTX\n",
      "DWTS\n",
      "DVRI\n",
      "GOEI\n",
      "UPQ\n",
      "CRKL\n",
      "FVLH\n",
      "FXAS\n",
      "NVPS\n",
      "UKX\n",
      "HCGO\n",
      "SMY\n",
      "DOIG\n",
      "HUTM\n",
      "PHW\n",
      "EYOR\n",
      "TFJN\n",
      "PVNX\n",
      "ZVNT\n",
      "JNFM\n",
      "BPSI\n",
      "JOXA\n",
      "VTXZ\n",
      "RNSK\n",
      "TDAK\n",
      "ANJ\n",
      "KYT\n",
      "LBFM\n",
      "SAXC\n",
      "OUCJ\n",
      "NBKG\n",
      "PESK\n",
      "HSWJ\n",
      "HGJR\n",
      "EFKS\n",
      "ISGA\n",
      "SDCI\n",
      "ZHTO\n",
      "KFUB\n",
      "JNLS\n",
      "FIBP\n",
      "QNGW\n",
      "SROC\n",
      "LVCD\n",
      "AHN\n",
      "QGOA\n",
      "LJCU\n",
      "YPOF\n",
      "ZPU\n",
      "EDMY\n",
      "WAH\n",
      "XDKA\n",
      "MXAC\n",
      "FQC\n",
      "BGMZ\n",
      "WAHV\n",
      "RBNY\n",
      "EZWA\n",
      "BXJ\n",
      "CVBO\n",
      "SDQZ\n",
      "TSPV\n",
      "ZDWX\n",
      "FDSZ\n",
      "HFXN\n",
      "GTQI\n",
      "SZLU\n",
      "VMKP\n",
      "PAI\n",
      "VGFW\n",
      "KCTR\n",
      "HNQ\n",
      "VPEB\n",
      "JULD\n",
      "VYAQ\n",
      "KGB\n",
      "LXMI\n",
      "DREP\n",
      "VZHF\n",
      "MZVJ\n",
      "PZNA\n",
      "VADR\n",
      "ZDHJ\n",
      "OPNB\n",
      "MZLS\n",
      "QRHO\n",
      "QTE\n",
      "QOF\n",
      "SDFN\n",
      "DKGC\n",
      "OQE\n",
      "FBHU\n",
      "ASM\n",
      "JTIB\n",
      "MDFC\n",
      "UVHO\n",
      "YOBC\n",
      "YKGO\n",
      "AWSH\n",
      "XBDZ\n",
      "TPUE\n",
      "LEFX\n",
      "INZE\n",
      "ISJ\n",
      "YVNW\n",
      "FTNH\n",
      "QHP\n",
      "JSRE\n",
      "KNJX\n",
      "RQUZ\n",
      "DVO\n",
      "FVZD\n",
      "RMBY\n",
      "HOGZ\n",
      "YXRH\n",
      "RILB\n",
      "VWYM\n",
      "PUO\n",
      "RIW\n",
      "PJBI\n",
      "VFG\n",
      "VOGT\n",
      "LXAD\n",
      "HOGC\n",
      "MHRB\n",
      "DFWV\n",
      "YGTP\n",
      "QVXN\n",
      "CGUX\n",
      "UBRG\n",
      "YTLG\n",
      "JRKW\n",
      "ADZE\n",
      "IVZJ\n",
      "EUA\n",
      "RAJT\n",
      "GERC\n",
      "FIK\n",
      "DVLN\n",
      "PWJ\n",
      "ZITK\n",
      "GUVK\n",
      "PVG\n",
      "XPAD\n",
      "VTGC\n",
      "BQIG\n",
      "OTD\n",
      "REUT\n",
      "PQFV\n",
      "KCFB\n",
      "ZNKX\n",
      "EMA\n",
      "FIC\n",
      "BMOP\n",
      "GKUZ\n",
      "OQUD\n",
      "GZYT\n",
      "DFU\n",
      "UGAZ\n",
      "UCBZ\n",
      "NFJQ\n",
      "SAF\n",
      "KBY\n",
      "RWEY\n",
      "XETB\n",
      "MPEG\n",
      "WGHQ\n",
      "KISZ\n",
      "OBPI\n",
      "DWIN\n",
      "XJOR\n",
      "HSRF\n",
      "WKGI\n",
      "ZMRX\n",
      "SYOE\n",
      "HIEX\n",
      "LTHP\n",
      "QPC\n",
      "ASGI\n",
      "MXPJ\n",
      "JVT\n",
      "HMGB\n",
      "LWHU\n",
      "ELTQ\n",
      "HAZ\n",
      "RJOT\n",
      "EXDQ\n",
      "WSBG\n",
      "NXPW\n",
      "JXW\n",
      "UHQA\n",
      "SJB\n",
      "LZC\n",
      "JRWP\n",
      "QZFM\n",
      "UHS\n",
      "EJP\n",
      "HDM\n",
      "KCDF\n",
      "OWIZ\n",
      "VLEG\n",
      "ECVU\n",
      "DIX\n",
      "KDFQ\n",
      "MLFV\n",
      "QRYD\n",
      "WEKM\n",
      "CSNZ\n",
      "FRGJ\n",
      "TDFZ\n",
      "GOWS\n",
      "TBIF\n",
      "OBH\n",
      "HBKD\n",
      "HUPJ\n",
      "MDJS\n",
      "WRDS\n",
      "{-tr\n",
      "unca\n",
      "ted-\n",
      "}\n",
      "None\n"
     ]
    }
   ],
   "source": [
    "def merge_the_tools(string, k):\n",
    "    n = len(string)\n",
    "    for i in range(0, n, k):\n",
    "        substring = (string[i:i+k])\n",
    "        unique_chars = ''\n",
    "        for char in substring:\n",
    "            if char not in unique_chars:\n",
    "                unique_chars += char\n",
    "        print(unique_chars)\n",
    "\n",
    "    # your code goes here\n",
    "\n",
    "if __name__ == '__main__':\n",
    "    string, k = input(), int(input())\n",
    "    print(len(string))\n",
    "    print(merge_the_tools(string, k))"
   ]
  },
  {
   "cell_type": "markdown",
   "metadata": {},
   "source": [
    "write a python program and output the alpha and number is there in a string\n",
    "ex : aabbbccde\n",
    "o/p : b 3\n",
    "      a 2\n",
    "      c 2"
   ]
  },
  {
   "cell_type": "code",
   "execution_count": 67,
   "metadata": {},
   "outputs": [
    {
     "ename": "ImportError",
     "evalue": "cannot import name 'count' from 'collections' (/home/codespace/.python/current/lib/python3.10/collections/__init__.py)",
     "output_type": "error",
     "traceback": [
      "\u001b[0;31m---------------------------------------------------------------------------\u001b[0m",
      "\u001b[0;31mImportError\u001b[0m                               Traceback (most recent call last)",
      "\u001b[1;32m/workspaces/digipodium-ds/practise.ipynb Cell 74\u001b[0m line \u001b[0;36m1\n\u001b[0;32m----> <a href='vscode-notebook-cell://codespaces%2Bsuper-duper-spork-g4qqrrq5xvpv3wg44/workspaces/digipodium-ds/practise.ipynb#Y132sdnNjb2RlLXJlbW90ZQ%3D%3D?line=0'>1</a>\u001b[0m \u001b[39mfrom\u001b[39;00m \u001b[39mcollections\u001b[39;00m \u001b[39mimport\u001b[39;00m Counter, count\n\u001b[1;32m      <a href='vscode-notebook-cell://codespaces%2Bsuper-duper-spork-g4qqrrq5xvpv3wg44/workspaces/digipodium-ds/practise.ipynb#Y132sdnNjb2RlLXJlbW90ZQ%3D%3D?line=1'>2</a>\u001b[0m s \u001b[39m=\u001b[39m \u001b[39minput\u001b[39m()\n\u001b[1;32m      <a href='vscode-notebook-cell://codespaces%2Bsuper-duper-spork-g4qqrrq5xvpv3wg44/workspaces/digipodium-ds/practise.ipynb#Y132sdnNjb2RlLXJlbW90ZQ%3D%3D?line=2'>3</a>\u001b[0m result \u001b[39m=\u001b[39m Counter(s)\n",
      "\u001b[0;31mImportError\u001b[0m: cannot import name 'count' from 'collections' (/home/codespace/.python/current/lib/python3.10/collections/__init__.py)"
     ]
    }
   ],
   "source": [
    "from collections import Counter, count\n",
    "s = input()\n",
    "result = Counter(s)\n",
    "print(s)\n",
    "           "
   ]
  },
  {
   "cell_type": "code",
   "execution_count": 68,
   "metadata": {},
   "outputs": [
    {
     "data": {
      "text/plain": [
       "8"
      ]
     },
     "execution_count": 68,
     "metadata": {},
     "output_type": "execute_result"
    }
   ],
   "source": [
    "arr1 = [ 3 , 5 , 6 , 7 , 8]\n",
    "max(arr1)"
   ]
  },
  {
   "cell_type": "code",
   "execution_count": 57,
   "metadata": {},
   "outputs": [
    {
     "name": "stdout",
     "output_type": "stream",
     "text": [
      "b 3\n",
      "a 2\n",
      "c 2\n"
     ]
    }
   ],
   "source": [
    "def find_top_three_characters(company_name):\n",
    "    char_counts = {}\n",
    "    \n",
    "    # Count occurrences of each character\n",
    "    for char in company_name:\n",
    "        char_counts[char] = char_counts.get(char, 0) + 1\n",
    "    \n",
    "    # Sort characters based on occurrence count and then alphabetically\n",
    "    sorted_chars = sorted(char_counts.items(), key=lambda x: (-x[1], x[0]))\n",
    "\n",
    "    # Print the top three characters and their occurrence count\n",
    "    for char, count in sorted_chars[:3]:\n",
    "        print(f\"{char} {count}\")\n",
    "\n",
    "# Input from the user\n",
    "company_name = 'aabbbccde'#input(\"Enter the company name: \").lower()\n",
    "\n",
    "# Call the function with the provided company name\n",
    "find_top_three_characters(company_name)\n"
   ]
  },
  {
   "cell_type": "code",
   "execution_count": 1,
   "metadata": {},
   "outputs": [],
   "source": [
    " from collections import Counter"
   ]
  },
  {
   "cell_type": "code",
   "execution_count": 2,
   "metadata": {},
   "outputs": [
    {
     "name": "stdout",
     "output_type": "stream",
     "text": [
      "b 3\n",
      "a 2\n",
      "c 2\n"
     ]
    }
   ],
   "source": [
    "s = 'aabbbccde'\n",
    "result = Counter(sorted(s)).most_common(3)\n",
    "for key , value in result:\n",
    "    print(key , value)"
   ]
  },
  {
   "cell_type": "code",
   "execution_count": 2,
   "metadata": {},
   "outputs": [
    {
     "ename": "IndexError",
     "evalue": "string index out of range",
     "output_type": "error",
     "traceback": [
      "\u001b[0;31m---------------------------------------------------------------------------\u001b[0m",
      "\u001b[0;31mIndexError\u001b[0m                                Traceback (most recent call last)",
      "\u001b[1;32m/workspaces/digipodium-ds/practise.ipynb Cell 79\u001b[0m line \u001b[0;36m4\n\u001b[1;32m      <a href='vscode-notebook-cell://codespaces%2Bsuper-duper-spork-g4qqrrq5xvpv3wg44/workspaces/digipodium-ds/practise.ipynb#Y141sdnNjb2RlLXJlbW90ZQ%3D%3D?line=1'>2</a>\u001b[0m empty \u001b[39m=\u001b[39m \u001b[39mset\u001b[39m()\n\u001b[1;32m      <a href='vscode-notebook-cell://codespaces%2Bsuper-duper-spork-g4qqrrq5xvpv3wg44/workspaces/digipodium-ds/practise.ipynb#Y141sdnNjb2RlLXJlbW90ZQ%3D%3D?line=2'>3</a>\u001b[0m \u001b[39mfor\u001b[39;00m i \u001b[39min\u001b[39;00m \u001b[39mrange\u001b[39m(\u001b[39mlen\u001b[39m(s)):\n\u001b[0;32m----> <a href='vscode-notebook-cell://codespaces%2Bsuper-duper-spork-g4qqrrq5xvpv3wg44/workspaces/digipodium-ds/practise.ipynb#Y141sdnNjb2RlLXJlbW90ZQ%3D%3D?line=3'>4</a>\u001b[0m     \u001b[39mif\u001b[39;00m s[i] \u001b[39m==\u001b[39m s[i\u001b[39m+\u001b[39;49m\u001b[39m1\u001b[39;49m]:\n\u001b[1;32m      <a href='vscode-notebook-cell://codespaces%2Bsuper-duper-spork-g4qqrrq5xvpv3wg44/workspaces/digipodium-ds/practise.ipynb#Y141sdnNjb2RlLXJlbW90ZQ%3D%3D?line=4'>5</a>\u001b[0m         y \u001b[39m=\u001b[39m s\u001b[39m.\u001b[39mcount(s[i])\n\u001b[1;32m      <a href='vscode-notebook-cell://codespaces%2Bsuper-duper-spork-g4qqrrq5xvpv3wg44/workspaces/digipodium-ds/practise.ipynb#Y141sdnNjb2RlLXJlbW90ZQ%3D%3D?line=5'>6</a>\u001b[0m         z \u001b[39m=\u001b[39m (y , s[i])\n",
      "\u001b[0;31mIndexError\u001b[0m: string index out of range"
     ]
    }
   ],
   "source": [
    "s = '1222311'\n",
    "empty = set()\n",
    "for i in range(len(s)):\n",
    "    if s[i] == s[i+1]:\n",
    "        y = s.count(s[i])\n",
    "        z = (y , s[i])\n",
    "        empty.add(z)\n",
    "    else:\n",
    "        a = (s[i] , s[i])\n",
    "        empty.add(a)\n",
    "print(empty)"
   ]
  },
  {
   "cell_type": "code",
   "execution_count": 4,
   "metadata": {},
   "outputs": [
    {
     "name": "stdout",
     "output_type": "stream",
     "text": [
      "123312\n"
     ]
    }
   ],
   "source": [
    "from itertools import groupby\n",
    "\n",
    "def compress_string(s):\n",
    "    compressed_string = []\n",
    "    \n",
    "    for key, group in groupby(s):\n",
    "        # key is the character, group is an iterator over consecutive occurrences\n",
    "        compressed_string.append((key, len(list(group))))\n",
    "    \n",
    "    # Join the characters and their counts into a string\n",
    "    result = ''.join(f\"{char}{count}\" if count > 1 else char for char, count in compressed_string)\n",
    "    \n",
    "    return result\n",
    "\n",
    "# Input\n",
    "input_string = input().strip()\n",
    "\n",
    "# Output\n",
    "result = compress_string(input_string)\n",
    "print(result)\n"
   ]
  },
  {
   "cell_type": "code",
   "execution_count": 1,
   "metadata": {},
   "outputs": [
    {
     "name": "stdout",
     "output_type": "stream",
     "text": [
      "\n",
      "Full House Dashboard:\n",
      "[1, 0, 0, 0, 1]\n",
      "[0, 1, 0, 0, 0]\n",
      "[0, 0, 1, 0, 0]\n",
      "[0, 0, 0, 0, 0]\n",
      "\n",
      "Full House Revenue:\n",
      "Band-A: 2 seats sold at £2000 per seat = £4000\n",
      "Band-B: 1 seats sold at £1000 per seat = £1000\n",
      "Revenue: total for one full house = £7000\n",
      "Number of shows to break-even = 1 performances\n",
      "\n",
      "Part House Dashboard:\n",
      "[0, 0, 0, 0, 0]\n",
      "[0, 0, 0, 0, 1]\n",
      "[0, 0, 0, 0, 0]\n",
      "[0, 1, 0, 0, 0]\n",
      "\n",
      "Part House Revenue:\n",
      "Band-A: 0 seats sold at £2000 per seat = £0\n",
      "Band-B: 0 seats sold at £1000 per seat = £0\n",
      "Revenue: total for one part house = £3000\n",
      "Number of shows to break-even = 1 performances\n"
     ]
    }
   ],
   "source": [
    "import random\n",
    "import math\n",
    "\n",
    "def initialize_dashboard(rows, seats_per_row):\n",
    "    return [[0] * seats_per_row for _ in range(rows)]\n",
    "\n",
    "def print_dashboard(dashboard):\n",
    "    for row in dashboard:\n",
    "        print(row)\n",
    "\n",
    "def generate_random_seats(dashboard):\n",
    "    total_seats = sum(len(row) for row in dashboard)\n",
    "    seats_sold = random.randint(1, total_seats)\n",
    "    \n",
    "    for _ in range(seats_sold):\n",
    "        row = random.randint(0, len(dashboard) - 1)\n",
    "        seat = random.randint(0, len(dashboard[row]) - 1)\n",
    "        while dashboard[row][seat] != 0:\n",
    "            row = random.randint(0, len(dashboard) - 1)\n",
    "            seat = random.randint(0, len(dashboard[row]) - 1)\n",
    "        dashboard[row][seat] = 1\n",
    "    \n",
    "    return seats_sold\n",
    "\n",
    "def calculate_revenue(dashboard, price_band_a, price_band_b):\n",
    "    revenue_band_a = sum(row.count(1) * price_band_a for row in dashboard[:2])\n",
    "    revenue_band_b = sum(row.count(1) * price_band_b for row in dashboard[2:])\n",
    "    total_revenue = revenue_band_a + revenue_band_b\n",
    "    return total_revenue\n",
    "\n",
    "def break_even_analysis(production_cost, revenue):\n",
    "    return math.ceil(production_cost / revenue)\n",
    "\n",
    "def main():\n",
    "    rows = 4\n",
    "    seats_per_row = 5\n",
    "    production_cost = int(input(\"Enter production cost: \"))\n",
    "    price_band_a = int(input(\"Enter price of one seat in band-A: \"))\n",
    "    price_band_b = int(input(\"Enter price of one seat in band-B: \"))\n",
    "    \n",
    "    full_house_dashboard = initialize_dashboard(rows, seats_per_row)\n",
    "    generate_random_seats(full_house_dashboard)\n",
    "    \n",
    "    part_house_dashboard = initialize_dashboard(rows, seats_per_row)\n",
    "    generate_random_seats(part_house_dashboard)\n",
    "    \n",
    "    full_house_revenue = calculate_revenue(full_house_dashboard, price_band_a, price_band_b)\n",
    "    part_house_revenue = calculate_revenue(part_house_dashboard, price_band_a, price_band_b)\n",
    "    \n",
    "    full_house_break_even = break_even_analysis(production_cost, full_house_revenue)\n",
    "    part_house_break_even = break_even_analysis(production_cost, part_house_revenue)\n",
    "    \n",
    "    print(\"\\nFull House Dashboard:\")\n",
    "    print_dashboard(full_house_dashboard)\n",
    "    print(f\"\\nFull House Revenue:\\nBand-A: {full_house_dashboard[0][:5].count(1)} seats sold at £{price_band_a} per seat = £{full_house_dashboard[0][:5].count(1) * price_band_a}\")\n",
    "    print(f\"Band-B: {full_house_dashboard[2][:5].count(1)} seats sold at £{price_band_b} per seat = £{full_house_dashboard[2][:5].count(1) * price_band_b}\")\n",
    "    print(f\"Revenue: total for one full house = £{full_house_revenue}\")\n",
    "    print(f\"Number of shows to break-even = {full_house_break_even} performances\")\n",
    "\n",
    "    print(\"\\nPart House Dashboard:\")\n",
    "    print_dashboard(part_house_dashboard)\n",
    "    print(f\"\\nPart House Revenue:\\nBand-A: {part_house_dashboard[0][:5].count(1)} seats sold at £{price_band_a} per seat = £{part_house_dashboard[0][:5].count(1) * price_band_a}\")\n",
    "    print(f\"Band-B: {part_house_dashboard[2][:5].count(1)} seats sold at £{price_band_b} per seat = £{part_house_dashboard[2][:5].count(1) * price_band_b}\")\n",
    "    print(f\"Revenue: total for one part house = £{part_house_revenue}\")\n",
    "    print(f\"Number of shows to break-even = {part_house_break_even} performances\")\n",
    "\n",
    "if __name__ == \"__main__\":\n",
    "    main()\n"
   ]
  },
  {
   "cell_type": "code",
   "execution_count": null,
   "metadata": {},
   "outputs": [],
   "source": []
  }
 ],
 "metadata": {
  "kernelspec": {
   "display_name": "Python 3",
   "language": "python",
   "name": "python3"
  },
  "language_info": {
   "codemirror_mode": {
    "name": "ipython",
    "version": 3
   },
   "file_extension": ".py",
   "mimetype": "text/x-python",
   "name": "python",
   "nbconvert_exporter": "python",
   "pygments_lexer": "ipython3",
   "version": "3.10.8"
  }
 },
 "nbformat": 4,
 "nbformat_minor": 2
}
