{
 "cells": [
  {
   "cell_type": "code",
   "execution_count": 2,
   "metadata": {},
   "outputs": [
    {
     "name": "stdout",
     "output_type": "stream",
     "text": [
      "hello world 5\n"
     ]
    }
   ],
   "source": [
    "print(\"hello world\" , 5) # function "
   ]
  },
  {
   "cell_type": "code",
   "execution_count": 5,
   "metadata": {},
   "outputs": [
    {
     "name": "stdout",
     "output_type": "stream",
     "text": [
      "hey I am a \"good boy\" \n",
      "and this viewer is also a good boy/girls\n"
     ]
    }
   ],
   "source": [
    "# Amir is smart ctrl + / is to remove or comment in code\n",
    "print(\"hey I am a \\\"good boy\\\" \\nand this viewer is also a good boy/girls\")"
   ]
  },
  {
   "cell_type": "code",
   "execution_count": 7,
   "metadata": {},
   "outputs": [
    {
     "name": "stdout",
     "output_type": "stream",
     "text": [
      "hey~6~7\n"
     ]
    }
   ],
   "source": [
    "print(\"hey\" , 6 , 7 , sep=\"~\") # join three seperator "
   ]
  },
  {
   "cell_type": "code",
   "execution_count": 10,
   "metadata": {},
   "outputs": [
    {
     "name": "stdout",
     "output_type": "stream",
     "text": [
      "hey~6~7009\n",
      "Aamir\n"
     ]
    }
   ],
   "source": [
    "print(\"hey\" , 6 , 7 , sep=\"~\" , end =\"009\\n\")\n",
    "print(\"Aamir\") # add some thing at the end"
   ]
  },
  {
   "cell_type": "code",
   "execution_count": 12,
   "metadata": {},
   "outputs": [
    {
     "name": "stdout",
     "output_type": "stream",
     "text": [
      "(2+6j)\n"
     ]
    }
   ],
   "source": [
    "a = complex(2 , 6)\n",
    "print(a)"
   ]
  },
  {
   "cell_type": "code",
   "execution_count": 16,
   "metadata": {},
   "outputs": [
    {
     "name": "stdout",
     "output_type": "stream",
     "text": [
      "Ma\n",
      "ng\n",
      "ar\n"
     ]
    }
   ],
   "source": [
    "# string slicing \n",
    "fruit = \"Mango\"\n",
    "print(fruit[0:-3])\n",
    "print(fruit[-3:-1]) # len(fruit) - 3 and -1\n",
    "\n",
    "#quick quiz\n",
    "nm = \"Harry\"\n",
    "print(nm[-4:-2])"
   ]
  },
  {
   "cell_type": "code",
   "execution_count": 36,
   "metadata": {},
   "outputs": [
    {
     "name": "stdout",
     "output_type": "stream",
     "text": [
      "Aamir !!!!!!!!! Aamir\n",
      "Ahmed !!!!!!!!! Ahmed\n",
      "['Aamir', '!!!!!!!!!', 'Aamir']\n",
      "Aamir !!!!!!!!! aamir\n",
      "21\n",
      "50\n",
      "9\n",
      "8\n"
     ]
    }
   ],
   "source": [
    "# string methods\n",
    "a = \"Aamir !!!!!!!!! Aamir\" # only back space is remove\n",
    "print(a.rstrip(\"!\"))\n",
    "print(a.replace(\"Aamir\" ,\"Ahmed\"))\n",
    "print(a.split(\" \")) # convert the string into a list\n",
    "print(a.capitalize()) # first character is convert it into upper case and rest converted into smaller case\n",
    "print(len(a))\n",
    "print(len(a.center(50)))\n",
    "print(a.count(\"!\"))\n",
    "str = \"he name is Dan. He is an Honest man. \"\n",
    "print(str.find(\"is\")) # first occurence in the index no. is come\n"
   ]
  },
  {
   "cell_type": "code",
   "execution_count": 1,
   "metadata": {},
   "outputs": [],
   "source": [
    "import time"
   ]
  },
  {
   "cell_type": "code",
   "execution_count": 9,
   "metadata": {},
   "outputs": [
    {
     "name": "stdout",
     "output_type": "stream",
     "text": [
      "01:20:09\n",
      "1\n",
      "20\n",
      "9\n",
      "good Morning\n"
     ]
    }
   ],
   "source": [
    "# important question\n",
    "timestamp = time.strftime(\"%H:%M:%S\")\n",
    "print(timestamp)\n",
    "timestamp = int(time.strftime(\"%H\"))\n",
    "print(timestamp)\n",
    "timestamp = int(time.strftime(\"%M\"))\n",
    "print(timestamp)\n",
    "timestamp = int(time.strftime(\"%S\"))\n",
    "print(timestamp)\n",
    "if timestamp > 00 and timestamp<12:\n",
    "    print(\"good Morning\")\n",
    "elif timestamp >= 12 and timestamp<4:\n",
    "    print(\"AfterNoon\")\n",
    "else:\n",
    "    print(\"good evening \")"
   ]
  },
  {
   "cell_type": "code",
   "execution_count": 12,
   "metadata": {},
   "outputs": [
    {
     "name": "stdout",
     "output_type": "stream",
     "text": [
      "x is zero\n"
     ]
    }
   ],
   "source": [
    "# Match Case Statement\n",
    "x = int(input(\"enter a no.\"))\n",
    "\n",
    "match x:\n",
    "    case 0:\n",
    "        print(\"x is zero\")\n",
    "    case 4:\n",
    "        print(\"case is 4\")\n",
    "    case _:\n",
    "        print(x)"
   ]
  },
  {
   "cell_type": "code",
   "execution_count": 13,
   "metadata": {},
   "outputs": [
    {
     "name": "stdout",
     "output_type": "stream",
     "text": [
      "0\n",
      "1\n",
      "2\n",
      "3\n",
      "4\n",
      "5\n",
      "6\n",
      "7\n",
      "8\n",
      "9\n",
      "10\n",
      "11\n",
      "12\n",
      "13\n",
      "14\n",
      "15\n",
      "16\n",
      "17\n",
      "18\n",
      "19\n",
      "20\n",
      "21\n",
      "22\n",
      "23\n",
      "24\n",
      "25\n",
      "26\n",
      "27\n",
      "28\n",
      "29\n",
      "30\n",
      "31\n",
      "32\n",
      "33\n",
      "34\n",
      "35\n",
      "36\n",
      "37\n",
      "38\n",
      "39\n",
      "40\n",
      "41\n",
      "42\n",
      "43\n",
      "44\n",
      "45\n",
      "46\n",
      "47\n",
      "48\n",
      "49\n",
      "50\n",
      "51\n",
      "52\n",
      "53\n",
      "54\n",
      "55\n",
      "56\n",
      "57\n",
      "58\n",
      "59\n",
      "60\n",
      "61\n",
      "62\n",
      "63\n",
      "64\n",
      "65\n",
      "66\n",
      "67\n",
      "68\n",
      "69\n",
      "70\n",
      "71\n",
      "72\n",
      "73\n",
      "74\n",
      "75\n",
      "76\n",
      "77\n",
      "78\n",
      "79\n",
      "80\n",
      "81\n",
      "82\n",
      "83\n",
      "84\n",
      "85\n",
      "86\n",
      "87\n",
      "88\n",
      "89\n",
      "90\n",
      "91\n",
      "92\n",
      "93\n",
      "94\n",
      "95\n",
      "96\n",
      "97\n",
      "98\n",
      "99\n"
     ]
    }
   ],
   "source": [
    "# do while loop\n",
    "i = 0\n",
    "while True:\n",
    "    print(i)\n",
    "    i += 1\n",
    "    if(i%100 == 0):\n",
    "        break"
   ]
  },
  {
   "cell_type": "code",
   "execution_count": null,
   "metadata": {},
   "outputs": [],
   "source": []
  }
 ],
 "metadata": {
  "kernelspec": {
   "display_name": "Python 3",
   "language": "python",
   "name": "python3"
  },
  "language_info": {
   "codemirror_mode": {
    "name": "ipython",
    "version": 3
   },
   "file_extension": ".py",
   "mimetype": "text/x-python",
   "name": "python",
   "nbconvert_exporter": "python",
   "pygments_lexer": "ipython3",
   "version": "3.10.8"
  }
 },
 "nbformat": 4,
 "nbformat_minor": 2
}
